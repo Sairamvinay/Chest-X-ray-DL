{
  "nbformat": 4,
  "nbformat_minor": 0,
  "metadata": {
    "colab": {
      "name": "Single_X-ray_results.ipynb",
      "provenance": [],
      "collapsed_sections": [
        "bXvsqKI00tfp",
        "A0EFazdMKWpW"
      ]
    },
    "kernelspec": {
      "name": "python3",
      "display_name": "Python 3"
    }
  },
  "cells": [
    {
      "cell_type": "code",
      "metadata": {
        "colab": {
          "base_uri": "https://localhost:8080/"
        },
        "id": "ptPqAg2Kv9LR",
        "outputId": "1a6f2054-e86a-416b-9c43-6be5be6193a2"
      },
      "source": [
        "import pandas as pd\n",
        "import keras\n",
        "import numpy as np\n",
        "import os\n",
        "from tqdm import tqdm\n",
        "from time import time\n",
        "from sklearn.metrics import roc_curve,roc_auc_score,f1_score,accuracy_score,precision_recall_curve\n",
        "from sklearn.svm import SVC\n",
        "from sklearn.model_selection import train_test_split,KFold\n",
        "import matplotlib.pyplot as plt\n",
        "import matplotlib.image as mpimg\n",
        "import seaborn as sns\n",
        "from PIL import Image,ImageOps\n",
        "import glob \n",
        "import cv2\n",
        "import pickle\n",
        "try:\n",
        "  # Use the %tensorflow_version magic if in colab.\n",
        "  %tensorflow_version 1.x\n",
        "except Exception:\n",
        "  pass"
      ],
      "execution_count": 1,
      "outputs": [
        {
          "output_type": "stream",
          "text": [
            "TensorFlow is already loaded. Please restart the runtime to change versions.\n"
          ],
          "name": "stdout"
        }
      ]
    },
    {
      "cell_type": "code",
      "metadata": {
        "colab": {
          "base_uri": "https://localhost:8080/"
        },
        "id": "Wao9wF6wyjgi",
        "outputId": "962ca744-0566-4a45-f3a1-73741d052daa"
      },
      "source": [
        "os.chdir(\"/content/drive/Shared drives/ECS 289G Deep Learning Project/Project/Datasets/\")\n",
        "!ls"
      ],
      "execution_count": 2,
      "outputs": [
        {
          "output_type": "stream",
          "text": [
            " bin_files\t\t\t Filter_Dataset_script.ipynb\n",
            "'csv files'\t\t\t images\n",
            " Data_Entry_2017_v2020.gsheet\t images_zip_files\n",
            " Dataset_Process_Details.ipynb\t Sample_Set_Feature_Extraction.ipynb\n"
          ],
          "name": "stdout"
        }
      ]
    },
    {
      "cell_type": "code",
      "metadata": {
        "id": "_aWRJIDmNG3a"
      },
      "source": [
        "with open(\"bin_files/train.pkl\",'rb') as f:\n",
        "  _,y_train = pickle.load(f)"
      ],
      "execution_count": 3,
      "outputs": []
    },
    {
      "cell_type": "code",
      "metadata": {
        "colab": {
          "base_uri": "https://localhost:8080/"
        },
        "id": "F9zrj_Kb1hKI",
        "outputId": "6cbc7cb8-9012-4023-d9c2-31d9f819e776"
      },
      "source": [
        "#load the test files\n",
        "with open(\"bin_files/test.pkl\",'rb') as f:\n",
        "\tX_test_scale,y_test = pickle.load(f)\n",
        "\n",
        "X_test_scale.shape"
      ],
      "execution_count": 4,
      "outputs": [
        {
          "output_type": "execute_result",
          "data": {
            "text/plain": [
              "(400, 256, 256, 1)"
            ]
          },
          "metadata": {
            "tags": []
          },
          "execution_count": 4
        }
      ]
    },
    {
      "cell_type": "code",
      "metadata": {
        "colab": {
          "base_uri": "https://localhost:8080/"
        },
        "id": "atMGQ7Y01xUh",
        "outputId": "39c5edca-0cd9-42a1-a233-2df5d800190e"
      },
      "source": [
        "y_test.shape"
      ],
      "execution_count": 5,
      "outputs": [
        {
          "output_type": "execute_result",
          "data": {
            "text/plain": [
              "(400, 15)"
            ]
          },
          "metadata": {
            "tags": []
          },
          "execution_count": 5
        }
      ]
    },
    {
      "cell_type": "code",
      "metadata": {
        "colab": {
          "base_uri": "https://localhost:8080/"
        },
        "id": "F86Q4ztm3znM",
        "outputId": "2c69d6ca-31ff-47ce-e5cd-3c07813808ae"
      },
      "source": [
        "y_test[:10]"
      ],
      "execution_count": 6,
      "outputs": [
        {
          "output_type": "execute_result",
          "data": {
            "text/plain": [
              "array([[1., 0., 0., 0., 0., 0., 0., 0., 0., 0., 0., 0., 0., 0., 0.],\n",
              "       [1., 0., 0., 0., 0., 0., 0., 0., 0., 0., 0., 0., 0., 0., 0.],\n",
              "       [0., 0., 0., 1., 0., 0., 0., 0., 0., 0., 0., 0., 0., 0., 0.],\n",
              "       [1., 0., 0., 0., 0., 0., 0., 0., 0., 0., 0., 0., 0., 0., 0.],\n",
              "       [0., 0., 0., 0., 0., 0., 0., 1., 0., 0., 0., 0., 0., 0., 0.],\n",
              "       [0., 0., 0., 0., 0., 0., 0., 1., 0., 0., 0., 0., 0., 0., 0.],\n",
              "       [0., 1., 0., 0., 0., 0., 0., 0., 0., 0., 0., 0., 0., 0., 0.],\n",
              "       [0., 0., 0., 0., 0., 0., 0., 0., 0., 1., 0., 0., 0., 0., 0.],\n",
              "       [0., 0., 0., 0., 0., 1., 0., 0., 0., 0., 0., 0., 0., 0., 0.],\n",
              "       [0., 0., 0., 0., 1., 0., 0., 0., 0., 0., 0., 0., 0., 0., 0.]],\n",
              "      dtype=float32)"
            ]
          },
          "metadata": {
            "tags": []
          },
          "execution_count": 6
        }
      ]
    },
    {
      "cell_type": "code",
      "metadata": {
        "colab": {
          "base_uri": "https://localhost:8080/"
        },
        "id": "hWWLtos84gdJ",
        "outputId": "80a5e4a9-75ea-40a3-f340-05f3f98905ba"
      },
      "source": [
        "y_test_single_labels = np.where(y_test==1)[1]\n",
        "y_test_single_labels.shape"
      ],
      "execution_count": 7,
      "outputs": [
        {
          "output_type": "execute_result",
          "data": {
            "text/plain": [
              "(400,)"
            ]
          },
          "metadata": {
            "tags": []
          },
          "execution_count": 7
        }
      ]
    },
    {
      "cell_type": "code",
      "metadata": {
        "colab": {
          "base_uri": "https://localhost:8080/"
        },
        "id": "QI-BvMpM6zsg",
        "outputId": "4a1f71f9-2734-4b74-cfa4-a3fa2ee38717"
      },
      "source": [
        "y_test_single_labels[:10]"
      ],
      "execution_count": 8,
      "outputs": [
        {
          "output_type": "execute_result",
          "data": {
            "text/plain": [
              "array([0, 0, 3, 0, 7, 7, 1, 9, 5, 4])"
            ]
          },
          "metadata": {
            "tags": []
          },
          "execution_count": 8
        }
      ]
    },
    {
      "cell_type": "code",
      "metadata": {
        "colab": {
          "base_uri": "https://localhost:8080/"
        },
        "id": "5seF2GK4FqGo",
        "outputId": "5ebbf075-f83c-4e54-f288-6fb5b5591fd3"
      },
      "source": [
        "from collections import Counter\n",
        "dict(Counter(y_test_single_labels))"
      ],
      "execution_count": 9,
      "outputs": [
        {
          "output_type": "execute_result",
          "data": {
            "text/plain": [
              "{0: 315,\n",
              " 1: 15,\n",
              " 2: 10,\n",
              " 3: 7,\n",
              " 4: 15,\n",
              " 5: 8,\n",
              " 6: 5,\n",
              " 7: 6,\n",
              " 8: 7,\n",
              " 9: 4,\n",
              " 10: 4,\n",
              " 12: 2,\n",
              " 13: 2}"
            ]
          },
          "metadata": {
            "tags": []
          },
          "execution_count": 9
        }
      ]
    },
    {
      "cell_type": "code",
      "metadata": {
        "colab": {
          "base_uri": "https://localhost:8080/"
        },
        "id": "rVlNTimWGmcQ",
        "outputId": "146d95a7-4a33-4dda-aa36-f6e95eb1fea8"
      },
      "source": [
        "classes = ['No Finding','Infiltration',\n",
        "           'Effusion','Atelectasis','Nodule', 'Mass',\n",
        "           'Pleural_Thickening','Fibrosis','Pneumothorax',\n",
        "           'Cardiomegaly','Consolidation','Emphysema',\n",
        "           'Pneumonia','Hernia','Edema']\n",
        "\n",
        "mapper = dict(zip(range(0,len(classes)),classes))\n",
        "mapper"
      ],
      "execution_count": 60,
      "outputs": [
        {
          "output_type": "execute_result",
          "data": {
            "text/plain": [
              "{0: 'No Finding',\n",
              " 1: 'Infiltration',\n",
              " 2: 'Effusion',\n",
              " 3: 'Atelectasis',\n",
              " 4: 'Nodule',\n",
              " 5: 'Mass',\n",
              " 6: 'Pleural_Thickening',\n",
              " 7: 'Fibrosis',\n",
              " 8: 'Pneumothorax',\n",
              " 9: 'Cardiomegaly',\n",
              " 10: 'Consolidation',\n",
              " 11: 'Emphysema',\n",
              " 12: 'Pneumonia',\n",
              " 13: 'Hernia',\n",
              " 14: 'Edema'}"
            ]
          },
          "metadata": {
            "tags": []
          },
          "execution_count": 60
        }
      ]
    },
    {
      "cell_type": "code",
      "metadata": {
        "id": "l2gwy0FbnWq7"
      },
      "source": [
        "def get_one_hot_stuff(true_labels,mapper_order):\n",
        "  true_labels_all = np.zeros((len(true_labels),14))\n",
        "  for i in range(len(true_labels_all)):\n",
        "    label = true_labels[i]\n",
        "    true_labels_all[i,mapper_order[label]] = 1\n",
        "  \n",
        "  print(true_labels_all.shape)\n",
        "  return true_labels_all"
      ],
      "execution_count": 110,
      "outputs": []
    },
    {
      "cell_type": "code",
      "metadata": {
        "id": "ou-mKYTm3Vs3"
      },
      "source": [
        "#Plot the ROC curves for the output for each label in the test class.\n",
        "#Referred from https://github.com/Sairamvinay/Chest-X-ray-DL/blob/Seongwoo/Seongwoo_v1.ipynb\n",
        "def get_roc_curve(true_labels, predicted_vals):\n",
        "    auc_roc_vals = []\n",
        "    for i in range(len(classes)):\n",
        "      try:\n",
        "        gt = true_labels[:, i]\n",
        "        pred = predicted_vals[:, i]\n",
        "        auc_roc = roc_auc_score(gt, pred)\n",
        "        auc_roc_vals.append(auc_roc)\n",
        "        fpr_rf, tpr_rf, _ = roc_curve(gt, pred)\n",
        "        plt.figure(1, figsize=(10, 10))\n",
        "        plt.plot([0, 1], [0, 1], 'k--')\n",
        "        plt.plot(fpr_rf, tpr_rf,\n",
        "                  label=mapper[i] + \" (\" + str(round(auc_roc, 3)) + \")\")\n",
        "        plt.xlabel('False positive rate')\n",
        "        plt.ylabel('True positive rate')\n",
        "        plt.title('ROC curve')\n",
        "        plt.legend(loc='best')\n",
        "      except:\n",
        "        pass\n",
        "    \n",
        "    plt.show()\n",
        "    return auc_roc_vals"
      ],
      "execution_count": 107,
      "outputs": []
    },
    {
      "cell_type": "code",
      "metadata": {
        "id": "SfWBPMeXeBj7"
      },
      "source": [
        "def get_roc_curve_again(labels, predicted_vals, true_label):\n",
        "    auc_roc_vals = []\n",
        "    \n",
        "    for i in range(len(labels)):\n",
        "        try:\n",
        "          gt = true_label[:, i]\n",
        "          pred = predicted_vals[:, i]\n",
        "          \n",
        "          auc_roc = roc_auc_score(gt, pred)\n",
        "          \n",
        "          auc_roc_vals.append(auc_roc)\n",
        "          fpr_rf, tpr_rf, _ = roc_curve(gt, pred)\n",
        "          plt.figure(1, figsize=(10, 10))\n",
        "          plt.plot([0, 1], [0, 1], 'k--')\n",
        "          plt.plot(fpr_rf, tpr_rf,\n",
        "                    label=labels[i] + \" (\" + str(round(auc_roc, 3)) + \")\")\n",
        "          plt.xlabel('False positive rate')\n",
        "          plt.ylabel('True positive rate')\n",
        "          plt.title('ROC curve')\n",
        "          plt.legend(loc='best')\n",
        "        except:\n",
        "            print(\n",
        "                f\"Error in generating ROC curve for {labels[i]}. \"\n",
        "                f\"Dataset lacks enough examples.\"\n",
        "            )\n",
        "    plt.show()\n",
        "    return auc_roc_vals"
      ],
      "execution_count": 108,
      "outputs": []
    },
    {
      "cell_type": "markdown",
      "metadata": {
        "id": "bXvsqKI00tfp"
      },
      "source": [
        "## **Work on the baseline CNN model results**"
      ]
    },
    {
      "cell_type": "code",
      "metadata": {
        "colab": {
          "base_uri": "https://localhost:8080/"
        },
        "id": "yKFcgPz3ytTw",
        "outputId": "34bcb9b0-ab19-436a-a545-177439c264eb"
      },
      "source": [
        "with open(\"bin_files/regular_CNN/trainHistoryDict\",'rb') as f:\n",
        "  history_baseline = pickle.load(f)\n",
        "\n",
        "history_baseline"
      ],
      "execution_count": 3,
      "outputs": [
        {
          "output_type": "execute_result",
          "data": {
            "text/plain": [
              "{'accuracy': [0.484499990940094,\n",
              "  0.6384999752044678,\n",
              "  0.6384999752044678,\n",
              "  0.6384999752044678,\n",
              "  0.6384999752044678,\n",
              "  0.6384999752044678,\n",
              "  0.6384999752044678,\n",
              "  0.6384999752044678,\n",
              "  0.6384999752044678,\n",
              "  0.6384999752044678],\n",
              " 'loss': [508.53485107421875,\n",
              "  1.656827449798584,\n",
              "  1.5518158674240112,\n",
              "  1.5174397230148315,\n",
              "  1.5076804161071777,\n",
              "  1.5123645067214966,\n",
              "  1.515419840812683,\n",
              "  1.5047717094421387,\n",
              "  1.5093941688537598,\n",
              "  1.5097931623458862],\n",
              " 'val_accuracy': [0.5879999995231628,\n",
              "  0.5879999995231628,\n",
              "  0.5879999995231628,\n",
              "  0.5879999995231628,\n",
              "  0.5879999995231628,\n",
              "  0.5879999995231628,\n",
              "  0.5879999995231628,\n",
              "  0.5879999995231628,\n",
              "  0.5879999995231628,\n",
              "  0.5879999995231628],\n",
              " 'val_loss': [2.1143064498901367,\n",
              "  1.836464285850525,\n",
              "  2.062025308609009,\n",
              "  2.162484884262085,\n",
              "  2.2327146530151367,\n",
              "  2.1290507316589355,\n",
              "  2.101653814315796,\n",
              "  2.1708450317382812,\n",
              "  2.0282697677612305,\n",
              "  1.9132680892944336]}"
            ]
          },
          "metadata": {
            "tags": []
          },
          "execution_count": 3
        }
      ]
    },
    {
      "cell_type": "code",
      "metadata": {
        "id": "8SiOk1HMzHPU"
      },
      "source": [
        "epochs = range(1,11)\n",
        "train_acc = np.array(history_baseline['accuracy'])*100.00\n",
        "val_acc = np.array(history_baseline['val_accuracy'])*100.00\n",
        "\n",
        "train_loss = history_baseline['loss']\n",
        "val_loss = history_baseline['val_loss']"
      ],
      "execution_count": 4,
      "outputs": []
    },
    {
      "cell_type": "code",
      "metadata": {
        "colab": {
          "base_uri": "https://localhost:8080/",
          "height": 295
        },
        "id": "ZJIbWadazkrS",
        "outputId": "527fc57d-b521-4b3c-b695-54df716ecf41"
      },
      "source": [
        "plt.figure()\n",
        "plt.title(\"Accuracy vs Epochs for a regular CNN model\")\n",
        "plt.plot(epochs[:],train_acc[:],'red',label = \"Train\")\n",
        "plt.plot(epochs,val_acc,'green',label = \"Validation\")\n",
        "plt.xlabel(\"Epochs\")\n",
        "plt.ylabel(\"Accuracy in %\")\n",
        "plt.legend()\n",
        "plt.show()"
      ],
      "execution_count": 5,
      "outputs": [
        {
          "output_type": "display_data",
          "data": {
            "image/png": "[encoded data removed]",
            "text/plain": [
              "<Figure size 432x288 with 1 Axes>"
            ]
          },
          "metadata": {
            "tags": [],
            "needs_background": "light"
          }
        }
      ]
    },
    {
      "cell_type": "code",
      "metadata": {
        "colab": {
          "base_uri": "https://localhost:8080/",
          "height": 295
        },
        "id": "9vJ4DS4mz0Ub",
        "outputId": "8bb60b18-fd3f-4038-eef5-55c1ee70684e"
      },
      "source": [
        "plt.figure()\n",
        "plt.title(\"Loss vs Epochs for a regular CNN model\")\n",
        "plt.plot(epochs[1:],train_loss[1:],'red',label = \"Train\")\n",
        "plt.plot(epochs,val_loss,'green',label = \"Validation\")\n",
        "plt.xlabel(\"Epochs\")\n",
        "plt.ylabel(\"Loss\")\n",
        "plt.legend()\n",
        "plt.show()"
      ],
      "execution_count": 6,
      "outputs": [
        {
          "output_type": "display_data",
          "data": {
            "image/png": "[encoded data removed]",
            "text/plain": [
              "<Figure size 432x288 with 1 Axes>"
            ]
          },
          "metadata": {
            "tags": [],
            "needs_background": "light"
          }
        }
      ]
    },
    {
      "cell_type": "code",
      "metadata": {
        "colab": {
          "base_uri": "https://localhost:8080/"
        },
        "id": "0vX7L5450T1e",
        "outputId": "b232ac46-bc92-49c9-f3a1-2e66eae5f4e0"
      },
      "source": [
        "# load YAML and create model\n",
        "with open('bin_files/regular_CNN/model.yaml', 'r') as yaml_file:\n",
        "  loaded_model_yaml = yaml_file.read()\n",
        "\n",
        "loaded_model = keras.models.model_from_yaml(loaded_model_yaml)\n",
        "# load weights into new model\n",
        "\n",
        "loaded_model.load_weights(\"bin_files/regular_CNN/model.h5\")\n",
        "print(\"Loaded model from disk\")"
      ],
      "execution_count": 7,
      "outputs": [
        {
          "output_type": "stream",
          "text": [
            "Loaded model from disk\n"
          ],
          "name": "stdout"
        }
      ]
    },
    {
      "cell_type": "code",
      "metadata": {
        "colab": {
          "base_uri": "https://localhost:8080/"
        },
        "id": "Jx3XhxWm1YiQ",
        "outputId": "eaa46797-37d2-4c09-dfb3-81b98bc8833e"
      },
      "source": [
        "loaded_model.summary()"
      ],
      "execution_count": 8,
      "outputs": [
        {
          "output_type": "stream",
          "text": [
            "Model: \"sequential\"\n",
            "_________________________________________________________________\n",
            "Layer (type)                 Output Shape              Param #   \n",
            "=================================================================\n",
            "conv2d (Conv2D)              (None, 250, 250, 128)     6400      \n",
            "_________________________________________________________________\n",
            "max_pooling2d (MaxPooling2D) (None, 125, 125, 128)     0         \n",
            "_________________________________________________________________\n",
            "conv2d_1 (Conv2D)            (None, 119, 119, 128)     802944    \n",
            "_________________________________________________________________\n",
            "max_pooling2d_1 (MaxPooling2 (None, 59, 59, 128)       0         \n",
            "_________________________________________________________________\n",
            "conv2d_2 (Conv2D)            (None, 53, 53, 128)       802944    \n",
            "_________________________________________________________________\n",
            "max_pooling2d_2 (MaxPooling2 (None, 26, 26, 128)       0         \n",
            "_________________________________________________________________\n",
            "dense (Dense)                (None, 26, 26, 50)        6450      \n",
            "_________________________________________________________________\n",
            "dropout (Dropout)            (None, 26, 26, 50)        0         \n",
            "_________________________________________________________________\n",
            "dense_1 (Dense)              (None, 26, 26, 50)        2550      \n",
            "_________________________________________________________________\n",
            "dropout_1 (Dropout)          (None, 26, 26, 50)        0         \n",
            "_________________________________________________________________\n",
            "flatten (Flatten)            (None, 33800)             0         \n",
            "_________________________________________________________________\n",
            "dense_2 (Dense)              (None, 15)                507015    \n",
            "=================================================================\n",
            "Total params: 2,128,303\n",
            "Trainable params: 2,128,303\n",
            "Non-trainable params: 0\n",
            "_________________________________________________________________\n"
          ],
          "name": "stdout"
        }
      ]
    },
    {
      "cell_type": "code",
      "metadata": {
        "colab": {
          "base_uri": "https://localhost:8080/"
        },
        "id": "RVhakxnq1_AP",
        "outputId": "f34f2303-d1eb-433a-9386-20978eff6d6f"
      },
      "source": [
        "loaded_model.get_weights()"
      ],
      "execution_count": 9,
      "outputs": [
        {
          "output_type": "execute_result",
          "data": {
            "text/plain": [
              "[array([[[[-0.09044291, -0.06816097, -0.02437612, ..., -0.02690412,\n",
              "           -0.06587826, -0.04970252]],\n",
              " \n",
              "         [[-0.07267347, -0.05244484, -0.03905483, ..., -0.02232995,\n",
              "           -0.02069872, -0.08831226]],\n",
              " \n",
              "         [[-0.02919043, -0.05790234, -0.08254261, ..., -0.03787492,\n",
              "           -0.07759085, -0.04385642]],\n",
              " \n",
              "         ...,\n",
              " \n",
              "         [[-0.0930471 , -0.04259926, -0.06771944, ..., -0.02267103,\n",
              "           -0.07483553, -0.07700671]],\n",
              " \n",
              "         [[-0.04770709, -0.04107742, -0.04780303, ..., -0.02255229,\n",
              "           -0.05807344, -0.03373852]],\n",
              " \n",
              "         [[ 0.00362143, -0.0690518 , -0.06397816, ..., -0.02313666,\n",
              "           -0.05422204, -0.04363867]]],\n",
              " \n",
              " \n",
              "        [[[-0.03903459, -0.03731933, -0.05665135, ..., -0.0413366 ,\n",
              "           -0.05851895, -0.03751956]],\n",
              " \n",
              "         [[-0.0672171 , -0.05560917, -0.07554539, ..., -0.02766707,\n",
              "           -0.06668816, -0.06417365]],\n",
              " \n",
              "         [[-0.08969772, -0.02029548, -0.0479885 , ..., -0.05600925,\n",
              "           -0.07501498, -0.03218525]],\n",
              " \n",
              "         ...,\n",
              " \n",
              "         [[-0.09022354, -0.02634827, -0.05943138, ..., -0.02083633,\n",
              "           -0.04788776, -0.08292882]],\n",
              " \n",
              "         [[-0.1019759 , -0.02723513, -0.07461247, ..., -0.0747814 ,\n",
              "           -0.07635562, -0.05743866]],\n",
              " \n",
              "         [[-0.06264952, -0.0282765 , -0.01277478, ..., -0.05503844,\n",
              "           -0.07420388, -0.06232049]]],\n",
              " \n",
              " \n",
              "        [[[-0.08234603, -0.01582228, -0.03877689, ..., -0.05222215,\n",
              "           -0.05839592, -0.07604939]],\n",
              " \n",
              "         [[-0.04237651, -0.06829829, -0.07086654, ..., -0.05708833,\n",
              "           -0.049574  , -0.06738628]],\n",
              " \n",
              "         [[-0.05766408, -0.0608687 , -0.03519781, ..., -0.03192963,\n",
              "           -0.01910836, -0.07710438]],\n",
              " \n",
              "         ...,\n",
              " \n",
              "         [[-0.0605283 , -0.07827858, -0.06397566, ..., -0.04621004,\n",
              "           -0.03529717, -0.07441366]],\n",
              " \n",
              "         [[-0.07280238, -0.0843447 , -0.03755234, ..., -0.05622179,\n",
              "           -0.02464552, -0.02970184]],\n",
              " \n",
              "         [[-0.05324415, -0.09453794, -0.0366801 , ..., -0.03772751,\n",
              "           -0.03402853, -0.05311593]]],\n",
              " \n",
              " \n",
              "        ...,\n",
              " \n",
              " \n",
              "        [[[-0.06609348, -0.03546339, -0.04589226, ..., -0.01938317,\n",
              "           -0.0566593 , -0.05125151]],\n",
              " \n",
              "         [[-0.07626104, -0.05512749, -0.08438122, ..., -0.06092327,\n",
              "           -0.0246837 , -0.08168539]],\n",
              " \n",
              "         [[-0.05451136, -0.04635294, -0.05637873, ..., -0.06890204,\n",
              "           -0.06450634, -0.07846845]],\n",
              " \n",
              "         ...,\n",
              " \n",
              "         [[-0.06784996, -0.05916172, -0.07175794, ..., -0.0370831 ,\n",
              "           -0.07405515, -0.04928481]],\n",
              " \n",
              "         [[-0.05416409, -0.05700591, -0.02965913, ..., -0.06298852,\n",
              "           -0.01958836, -0.06556283]],\n",
              " \n",
              "         [[-0.09009388, -0.06523755, -0.07277697, ..., -0.07627679,\n",
              "           -0.06972511, -0.04713732]]],\n",
              " \n",
              " \n",
              "        [[[-0.05761829, -0.0527279 , -0.0610025 , ..., -0.04475233,\n",
              "           -0.02479385, -0.06192169]],\n",
              " \n",
              "         [[-0.03341056, -0.06432288, -0.05584287, ..., -0.02457898,\n",
              "           -0.04860349, -0.05077011]],\n",
              " \n",
              "         [[-0.05968961, -0.06441879, -0.0772699 , ..., -0.04521757,\n",
              "           -0.02223387, -0.04082865]],\n",
              " \n",
              "         ...,\n",
              " \n",
              "         [[-0.07408093, -0.07894742, -0.02617001, ..., -0.06509618,\n",
              "           -0.03358924, -0.05111155]],\n",
              " \n",
              "         [[-0.10187352, -0.08638066, -0.0798504 , ..., -0.04798405,\n",
              "           -0.02259574, -0.05533319]],\n",
              " \n",
              "         [[-0.09905942, -0.09207294, -0.02757545, ..., -0.05160384,\n",
              "           -0.01852571, -0.0781568 ]]],\n",
              " \n",
              " \n",
              "        [[[-0.09168372, -0.0864917 , -0.08466706, ..., -0.03836617,\n",
              "           -0.02557502, -0.05498016]],\n",
              " \n",
              "         [[-0.04718017, -0.04153593, -0.0776392 , ..., -0.02221491,\n",
              "           -0.05773851, -0.07131638]],\n",
              " \n",
              "         [[-0.12272386, -0.03872168, -0.04711293, ..., -0.02085836,\n",
              "           -0.06558445, -0.08884434]],\n",
              " \n",
              "         ...,\n",
              " \n",
              "         [[-0.10500465, -0.08280405, -0.07944755, ..., -0.02674191,\n",
              "           -0.03631828, -0.03764824]],\n",
              " \n",
              "         [[-0.10940784, -0.07007456, -0.0431201 , ..., -0.02169403,\n",
              "           -0.05199534, -0.0379777 ]],\n",
              " \n",
              "         [[-0.07072993, -0.0387192 , -0.02389133, ..., -0.03370906,\n",
              "           -0.02919938, -0.06231896]]]], dtype=float32),\n",
              " array([ 0.00963269, -0.0456224 , -0.02215267, -0.04951745, -0.04617959,\n",
              "        -0.04921387, -0.0590817 , -0.04796772, -0.08162497, -0.06757042,\n",
              "        -0.04763898, -0.04453541, -0.06921364, -0.06514182, -0.04919035,\n",
              "        -0.0272545 , -0.06533571, -0.0480256 , -0.04904338,  0.00279034,\n",
              "        -0.06205872, -0.04818698, -0.06227067, -0.0476535 , -0.04556538,\n",
              "        -0.04569915, -0.06742432, -0.04863906, -0.03997872, -0.0689824 ,\n",
              "        -0.03957479, -0.04688298, -0.04104934, -0.03745451, -0.07043721,\n",
              "        -0.04940031, -0.03212287, -0.01429345, -0.04865005, -0.07058895,\n",
              "        -0.04022192, -0.06759068, -0.04908889, -0.07417326, -0.08413882,\n",
              "        -0.04843661, -0.08360328, -0.03212986, -0.04878435, -0.08326756,\n",
              "        -0.07904234, -0.04857646, -0.08009213, -0.04461256, -0.06616163,\n",
              "        -0.0692057 , -0.0455172 , -0.04161324, -0.04936559, -0.08408973,\n",
              "        -0.0583801 , -0.08478117, -0.04909012, -0.06001557, -0.03614482,\n",
              "        -0.07196957, -0.04692372, -0.07979111, -0.07751736, -0.04854596,\n",
              "        -0.07862175, -0.04853255, -0.04891564, -0.07565689, -0.06003227,\n",
              "        -0.06880029, -0.0622997 , -0.06037502, -0.0727755 , -0.04409451,\n",
              "        -0.01356823, -0.06238696, -0.06440436, -0.06582765, -0.03763622,\n",
              "        -0.05835421, -0.04267326, -0.08462388, -0.07045075, -0.04228547,\n",
              "        -0.0651637 , -0.0658934 , -0.06498865, -0.06873591, -0.02046389,\n",
              "        -0.01458019, -0.04334819, -0.04912126, -0.05978203, -0.0678372 ,\n",
              "        -0.04888711, -0.08383222, -0.04910687, -0.04533592, -0.04931918,\n",
              "        -0.06607866, -0.06043112, -0.04508057, -0.04955811, -0.0650102 ,\n",
              "        -0.07292876, -0.06533001, -0.04900445, -0.06004003, -0.03482798,\n",
              "        -0.03368263, -0.05431562, -0.04521226,  0.00063828, -0.05961336,\n",
              "        -0.04848177, -0.04542312, -0.04864209, -0.04934261, -0.04874061,\n",
              "        -0.04913324, -0.04843199, -0.06716038], dtype=float32),\n",
              " array([[[[-0.03502017, -0.06196164, -0.03743259, ..., -0.03613059,\n",
              "           -0.0254957 , -0.04828099],\n",
              "          [-0.06182085, -0.07478335, -0.06828677, ..., -0.05088024,\n",
              "           -0.01965597, -0.05191515],\n",
              "          [-0.04464572, -0.05678008, -0.07184577, ..., -0.01742389,\n",
              "           -0.04949663, -0.07426576],\n",
              "          ...,\n",
              "          [-0.05759635, -0.07021209, -0.03709508, ..., -0.06775947,\n",
              "           -0.04075804, -0.06863233],\n",
              "          [-0.04216899, -0.05099418, -0.0575422 , ..., -0.05069033,\n",
              "           -0.06240208, -0.05425893],\n",
              "          [ 0.0332683 ,  0.01562416,  0.0435266 , ..., -0.06078946,\n",
              "           -0.06929439,  0.03662578]],\n",
              " \n",
              "         [[-0.01862675, -0.06631061, -0.05472201, ..., -0.04668492,\n",
              "           -0.04251378, -0.0662185 ],\n",
              "          [-0.04953265, -0.06499087, -0.07345755, ...,  0.00647134,\n",
              "           -0.02484866, -0.0475088 ],\n",
              "          [-0.05253504, -0.05436587, -0.03384604, ..., -0.01274674,\n",
              "           -0.00831906, -0.06682766],\n",
              "          ...,\n",
              "          [-0.03390437, -0.03568026, -0.04329971, ..., -0.05315728,\n",
              "           -0.07626678, -0.06352299],\n",
              "          [-0.0380128 , -0.06705253, -0.03092767, ..., -0.07948485,\n",
              "           -0.07855038, -0.03961892],\n",
              "          [ 0.01320815,  0.01677757,  0.0471615 , ..., -0.03307413,\n",
              "           -0.04379409,  0.01051523]],\n",
              " \n",
              "         [[-0.00074288, -0.06068204, -0.05421222, ..., -0.04642159,\n",
              "           -0.02583022, -0.06492186],\n",
              "          [-0.03956567, -0.06635597, -0.07880456, ..., -0.0370267 ,\n",
              "           -0.01633189, -0.07138933],\n",
              "          [-0.03442948, -0.05555752, -0.0699484 , ...,  0.01725654,\n",
              "            0.00664115, -0.070402  ],\n",
              "          ...,\n",
              "          [-0.03487268, -0.06091149, -0.03143572, ..., -0.05354227,\n",
              "           -0.07279059, -0.05918475],\n",
              "          [-0.06866862, -0.05499094, -0.02782127, ..., -0.03789645,\n",
              "           -0.04840769, -0.02838789],\n",
              "          [ 0.04475593,  0.02336632,  0.02280343, ..., -0.04891048,\n",
              "           -0.06171529, -0.03336648]],\n",
              " \n",
              "         ...,\n",
              " \n",
              "         [[-0.02897017, -0.04766651, -0.06139905, ..., -0.04087772,\n",
              "            0.0169133 , -0.06985985],\n",
              "          [-0.06249872, -0.05613183, -0.06977835, ..., -0.04149691,\n",
              "           -0.00814609, -0.0614132 ],\n",
              "          [-0.03929222, -0.05491751, -0.07019235, ..., -0.02042323,\n",
              "           -0.00559156, -0.0686175 ],\n",
              "          ...,\n",
              "          [-0.05114647, -0.06022505, -0.06057011, ..., -0.06080954,\n",
              "           -0.05972333, -0.03966751],\n",
              "          [-0.03530054, -0.04766257, -0.03855358, ..., -0.07338069,\n",
              "           -0.03853183, -0.0568457 ],\n",
              "          [ 0.02632719,  0.06928276, -0.01483685, ..., -0.05088726,\n",
              "           -0.05940271,  0.05876159]],\n",
              " \n",
              "         [[-0.05419433, -0.05255407, -0.05038643, ...,  0.01565165,\n",
              "            0.03865507, -0.0613766 ],\n",
              "          [-0.04613616, -0.04642181, -0.05217695, ..., -0.04855639,\n",
              "            0.03446267, -0.05588038],\n",
              "          [-0.07447781, -0.0694935 , -0.05192305, ..., -0.02572766,\n",
              "           -0.00765469, -0.07534742],\n",
              "          ...,\n",
              "          [-0.03455989, -0.05326997, -0.04090001, ..., -0.06697232,\n",
              "           -0.06632552, -0.06312242],\n",
              "          [-0.06048673, -0.07152764, -0.03021089, ..., -0.07077464,\n",
              "           -0.08018882, -0.06653672],\n",
              "          [-0.00679378,  0.06987876, -0.0181273 , ..., -0.03183646,\n",
              "           -0.04430798,  0.03052386]],\n",
              " \n",
              "         [[-0.03971977, -0.05920618, -0.04577089, ...,  0.01534418,\n",
              "            0.01456702, -0.04243894],\n",
              "          [-0.05970243, -0.0489485 , -0.050529  , ..., -0.0419344 ,\n",
              "           -0.0041565 , -0.03345237],\n",
              "          [-0.04361874, -0.04106239, -0.05127678, ...,  0.00770713,\n",
              "           -0.00105245, -0.04460892],\n",
              "          ...,\n",
              "          [-0.063039  , -0.03929095, -0.05792074, ..., -0.05090973,\n",
              "           -0.07435603, -0.04576537],\n",
              "          [-0.06587024, -0.03932768, -0.06739118, ..., -0.05838347,\n",
              "           -0.07435813, -0.0319521 ],\n",
              "          [-0.00954385,  0.03391558,  0.01635166, ..., -0.03197161,\n",
              "           -0.06204473,  0.00061343]]],\n",
              " \n",
              " \n",
              "        [[[-0.02287794, -0.07129493, -0.0592818 , ..., -0.06760192,\n",
              "           -0.05950725, -0.07088979],\n",
              "          [-0.05320668, -0.04709497, -0.04215058, ...,  0.00475067,\n",
              "           -0.02890787, -0.04621811],\n",
              "          [-0.05404056, -0.03571985, -0.05858991, ..., -0.04209497,\n",
              "           -0.03735669, -0.03997404],\n",
              "          ...,\n",
              "          [-0.05092217, -0.03341666, -0.05709441, ..., -0.05068351,\n",
              "           -0.06721891, -0.04405319],\n",
              "          [-0.05963827, -0.05969255, -0.06759007, ..., -0.05799709,\n",
              "           -0.0780256 , -0.0675071 ],\n",
              "          [ 0.0263846 ,  0.04925645,  0.04278138, ..., -0.04978844,\n",
              "           -0.03842774,  0.04280644]],\n",
              " \n",
              "         [[-0.0493136 , -0.04641622, -0.05747494, ..., -0.03062582,\n",
              "           -0.02472608, -0.04965563],\n",
              "          [-0.0314838 , -0.07076815, -0.04908497, ...,  0.01432665,\n",
              "            0.00859227, -0.05652834],\n",
              "          [-0.03147997, -0.05273316, -0.06978889, ..., -0.01173783,\n",
              "            0.01567339, -0.05980828],\n",
              "          ...,\n",
              "          [-0.0461807 , -0.04697236, -0.06630469, ..., -0.07472708,\n",
              "           -0.07345454, -0.06617878],\n",
              "          [-0.03962053, -0.07093459, -0.03673285, ..., -0.03793384,\n",
              "           -0.05188723, -0.0318979 ],\n",
              "          [ 0.02226194,  0.0176465 ,  0.01784762, ..., -0.06551317,\n",
              "           -0.05512048,  0.02096438]],\n",
              " \n",
              "         [[-0.01975254, -0.03549221, -0.07534137, ..., -0.04965708,\n",
              "           -0.02493045, -0.06475899],\n",
              "          [-0.06969681, -0.06501898, -0.05119964, ..., -0.03249932,\n",
              "            0.01868096, -0.03707127],\n",
              "          [-0.0631173 , -0.06873605, -0.04478091, ..., -0.0222445 ,\n",
              "           -0.01170926, -0.06299998],\n",
              "          ...,\n",
              "          [-0.04798761, -0.04844772, -0.02563321, ..., -0.05409152,\n",
              "           -0.07312401, -0.06624658],\n",
              "          [-0.06898864, -0.04791212, -0.03984141, ..., -0.08076786,\n",
              "           -0.0529866 , -0.05359463],\n",
              "          [ 0.01861279,  0.02617827,  0.02128197, ..., -0.06613526,\n",
              "           -0.06338375, -0.0361967 ]],\n",
              " \n",
              "         ...,\n",
              " \n",
              "         [[-0.06518387, -0.05261325, -0.04822461, ...,  0.01537775,\n",
              "           -0.03677665, -0.04004689],\n",
              "          [-0.0356824 , -0.06240186, -0.07096872, ...,  0.00182192,\n",
              "            0.03840166, -0.06904244],\n",
              "          [-0.05415474, -0.05483192, -0.04920952, ...,  0.0151337 ,\n",
              "            0.02380827, -0.06600883],\n",
              "          ...,\n",
              "          [-0.02756769, -0.03469239, -0.02628396, ..., -0.06466229,\n",
              "           -0.06131011, -0.03824238],\n",
              "          [-0.06577462, -0.04135958, -0.04321958, ..., -0.03781388,\n",
              "           -0.06608536, -0.04937558],\n",
              "          [ 0.01513904,  0.06719861, -0.01348507, ..., -0.02113916,\n",
              "           -0.0244297 ,  0.05095561]],\n",
              " \n",
              "         [[-0.06903961, -0.05418071, -0.06583342, ..., -0.01883418,\n",
              "            0.03112981, -0.06432158],\n",
              "          [-0.03250676, -0.04363443, -0.07808547, ...,  0.03879226,\n",
              "            0.04480031, -0.06050216],\n",
              "          [-0.0649964 , -0.05837138, -0.07037256, ..., -0.03196038,\n",
              "           -0.00060767, -0.05815472],\n",
              "          ...,\n",
              "          [-0.03719951, -0.07007834, -0.02735981, ..., -0.05578142,\n",
              "           -0.06159656, -0.07267724],\n",
              "          [-0.05854905, -0.0297769 , -0.05272277, ..., -0.04629504,\n",
              "           -0.06090844, -0.06589035],\n",
              "          [ 0.01941795,  0.073705  , -0.03403874, ..., -0.04469841,\n",
              "           -0.07513651,  0.04688409]],\n",
              " \n",
              "         [[-0.04412676, -0.0390307 , -0.0603086 , ..., -0.02034745,\n",
              "           -0.00669622, -0.06454842],\n",
              "          [-0.04071355, -0.05810141, -0.05453719, ...,  0.00051212,\n",
              "            0.00421579, -0.06175445],\n",
              "          [-0.07603388, -0.05627821, -0.03277383, ...,  0.00078693,\n",
              "            0.00785986, -0.0640879 ],\n",
              "          ...,\n",
              "          [-0.04398009, -0.04605252, -0.06584191, ..., -0.06181922,\n",
              "           -0.04355986, -0.07181803],\n",
              "          [-0.05091216, -0.04470091, -0.07274695, ..., -0.08052602,\n",
              "           -0.05979422, -0.03596512],\n",
              "          [-0.02670641,  0.03617191, -0.03554345, ..., -0.03588145,\n",
              "           -0.04659794,  0.04275743]]],\n",
              " \n",
              " \n",
              "        [[[-0.05702062, -0.05469059, -0.03617242, ..., -0.04817245,\n",
              "           -0.03873843, -0.04451525],\n",
              "          [-0.05318487, -0.034361  , -0.06918697, ..., -0.00609082,\n",
              "           -0.01664147, -0.06734819],\n",
              "          [-0.03389281, -0.05142279, -0.0450135 , ..., -0.01691529,\n",
              "           -0.03888151, -0.05655465],\n",
              "          ...,\n",
              "          [-0.06093353, -0.06065935, -0.06702963, ..., -0.04526297,\n",
              "           -0.0449376 , -0.03495812],\n",
              "          [-0.04105758, -0.04699742, -0.054826  , ..., -0.06476853,\n",
              "           -0.05376103, -0.06591827],\n",
              "          [ 0.01302807,  0.00991031,  0.02549473, ..., -0.04302934,\n",
              "           -0.02983147,  0.04549902]],\n",
              " \n",
              "         [[-0.04718601, -0.0340999 , -0.04720549, ..., -0.05802467,\n",
              "           -0.04483847, -0.0406358 ],\n",
              "          [-0.04984873, -0.04739362, -0.07270267, ..., -0.02570006,\n",
              "            0.02654199, -0.04964038],\n",
              "          [-0.0305355 , -0.07151946, -0.0662606 , ...,  0.01797491,\n",
              "           -0.00886717, -0.04288458],\n",
              "          ...,\n",
              "          [-0.04425612, -0.07342629, -0.02911616, ..., -0.03931895,\n",
              "           -0.06815501, -0.03222368],\n",
              "          [-0.0732929 , -0.06425082, -0.04245323, ..., -0.05882803,\n",
              "           -0.04830464, -0.0453781 ],\n",
              "          [ 0.04015676,  0.04611805,  0.0131457 , ..., -0.03345176,\n",
              "           -0.0373888 ,  0.04387009]],\n",
              " \n",
              "         [[-0.03762223, -0.07590886, -0.05009932, ..., -0.04120144,\n",
              "           -0.01924687, -0.06950419],\n",
              "          [-0.05687767, -0.06998084, -0.0424845 , ..., -0.01477339,\n",
              "            0.00782074, -0.05081396],\n",
              "          [-0.06790248, -0.07181823, -0.06216197, ...,  0.0011356 ,\n",
              "            0.0187621 , -0.06699023],\n",
              "          ...,\n",
              "          [-0.06655663, -0.07132362, -0.06122895, ..., -0.0419656 ,\n",
              "           -0.05625248, -0.05899381],\n",
              "          [-0.04171515, -0.06857972, -0.04214281, ..., -0.04493484,\n",
              "           -0.07563821, -0.04663452],\n",
              "          [ 0.02015763,  0.04911456,  0.01538972, ..., -0.02832602,\n",
              "           -0.02973806, -0.03098848]],\n",
              " \n",
              "         ...,\n",
              " \n",
              "         [[-0.02875449, -0.04271824, -0.07507566, ...,  0.00754078,\n",
              "           -0.000484  , -0.04565407],\n",
              "          [-0.04716598, -0.0435776 , -0.06411616, ..., -0.02063286,\n",
              "            0.01998414, -0.03725098],\n",
              "          [-0.04397497, -0.03667453, -0.05406637, ..., -0.02684889,\n",
              "            0.01842164, -0.06853686],\n",
              "          ...,\n",
              "          [-0.04289912, -0.06636412, -0.05629519, ..., -0.07259567,\n",
              "           -0.04584478, -0.06264   ],\n",
              "          [-0.06821651, -0.04284447, -0.03633751, ..., -0.05758858,\n",
              "           -0.04231142, -0.06471241],\n",
              "          [ 0.00455055,  0.05018761, -0.01817718, ..., -0.04999225,\n",
              "           -0.05217307,  0.07547709]],\n",
              " \n",
              "         [[-0.04162199, -0.0627066 , -0.05847747, ..., -0.01900293,\n",
              "            0.01261402, -0.05446563],\n",
              "          [-0.05950966, -0.05930698, -0.08209681, ..., -0.03656566,\n",
              "            0.0039004 , -0.06799334],\n",
              "          [-0.04468627, -0.0620286 , -0.05121187, ..., -0.02283569,\n",
              "            0.00393482, -0.07278021],\n",
              "          ...,\n",
              "          [-0.05799659, -0.05562378, -0.03416613, ..., -0.08031509,\n",
              "           -0.04787139, -0.0446353 ],\n",
              "          [-0.03355772, -0.03771234, -0.06656072, ..., -0.04920475,\n",
              "           -0.07767335, -0.06552493],\n",
              "          [ 0.00939351,  0.06414232, -0.0231084 , ..., -0.05565971,\n",
              "           -0.04632505,  0.05611445]],\n",
              " \n",
              "         [[-0.0606011 , -0.07176345, -0.04678686, ..., -0.01917857,\n",
              "           -0.00335196, -0.05102617],\n",
              "          [-0.07923138, -0.05839341, -0.07799502, ..., -0.02609157,\n",
              "            0.0513226 , -0.05639202],\n",
              "          [-0.06671257, -0.06218515, -0.04204431, ...,  0.02891748,\n",
              "            0.00223732, -0.0654598 ],\n",
              "          ...,\n",
              "          [-0.07748966, -0.06629844, -0.03518979, ..., -0.0467612 ,\n",
              "           -0.08258238, -0.03255945],\n",
              "          [-0.05175134, -0.04571272, -0.06924482, ..., -0.06693711,\n",
              "           -0.05447708, -0.03331978],\n",
              "          [-0.04740525,  0.02478008,  0.02041666, ...,  0.01158993,\n",
              "            0.03023333,  0.00079985]]],\n",
              " \n",
              " \n",
              "        ...,\n",
              " \n",
              " \n",
              "        [[[-0.05472987, -0.07332994, -0.06911536, ..., -0.03863067,\n",
              "           -0.03342453, -0.04988578],\n",
              "          [-0.07334664, -0.06031894, -0.06434106, ...,  0.00156576,\n",
              "           -0.04838698, -0.04094691],\n",
              "          [-0.0671673 , -0.0506816 , -0.0422535 , ..., -0.01681999,\n",
              "           -0.00429314, -0.07998755],\n",
              "          ...,\n",
              "          [-0.04489874, -0.06253666, -0.0382762 , ..., -0.07017478,\n",
              "           -0.05727703, -0.05313394],\n",
              "          [-0.04335389, -0.05091706, -0.06386408, ..., -0.07991538,\n",
              "           -0.05842704, -0.04858561],\n",
              "          [-0.01916299,  0.03337985,  0.00787466, ..., -0.02645626,\n",
              "            0.0055874 ,  0.01922168]],\n",
              " \n",
              "         [[-0.06303439, -0.07307539, -0.04237223, ..., -0.02169523,\n",
              "           -0.07236977, -0.04584169],\n",
              "          [-0.07878698, -0.04109119, -0.03556339, ...,  0.00955286,\n",
              "           -0.04878579, -0.03829741],\n",
              "          [-0.03120405, -0.03524414, -0.0685416 , ...,  0.01092948,\n",
              "           -0.02962156, -0.05381534],\n",
              "          ...,\n",
              "          [-0.0764429 , -0.03747612, -0.02892191, ..., -0.04121591,\n",
              "           -0.05208438, -0.05701698],\n",
              "          [-0.04002058, -0.06339113, -0.06038625, ..., -0.07077953,\n",
              "           -0.0443823 , -0.05675416],\n",
              "          [-0.00371883,  0.06036655,  0.02461217, ..., -0.03661495,\n",
              "           -0.06774185, -0.00619872]],\n",
              " \n",
              "         [[-0.0340903 , -0.06815576, -0.06115684, ..., -0.02293718,\n",
              "           -0.03295084, -0.07761646],\n",
              "          [-0.07563193, -0.05680392, -0.06808998, ..., -0.04631012,\n",
              "           -0.01942755, -0.06682416],\n",
              "          [-0.03881506, -0.03760599, -0.04679258, ..., -0.01857955,\n",
              "           -0.00322231, -0.06644621],\n",
              "          ...,\n",
              "          [-0.07246344, -0.0657329 , -0.0272121 , ..., -0.0755749 ,\n",
              "           -0.05671097, -0.03722086],\n",
              "          [-0.05437027, -0.03641947, -0.05459752, ..., -0.05535021,\n",
              "           -0.06112427, -0.06274349],\n",
              "          [ 0.00831094,  0.0595752 , -0.00134527, ...,  0.06180677,\n",
              "           -0.06394602,  0.01303825]],\n",
              " \n",
              "         ...,\n",
              " \n",
              "         [[-0.07138437, -0.03567616, -0.03818974, ...,  0.00840896,\n",
              "           -0.00693068, -0.05060215],\n",
              "          [-0.0510464 , -0.06894762, -0.05397953, ..., -0.01721626,\n",
              "           -0.01136082, -0.06129102],\n",
              "          [-0.0414047 , -0.05769701, -0.0516136 , ...,  0.01712292,\n",
              "            0.00298314, -0.04614985],\n",
              "          ...,\n",
              "          [-0.06419028, -0.06852945, -0.04176825, ..., -0.04339375,\n",
              "           -0.08103121, -0.04270992],\n",
              "          [-0.05153701, -0.06394436, -0.06972355, ..., -0.06457825,\n",
              "           -0.07270654, -0.06889071],\n",
              "          [-0.00780027,  0.03394007,  0.01271656, ...,  0.01722926,\n",
              "           -0.04846144,  0.06464186]],\n",
              " \n",
              "         [[-0.05331947, -0.03574811, -0.07258303, ...,  0.00862025,\n",
              "            0.01677639, -0.04007708],\n",
              "          [-0.05607924, -0.02774329, -0.04816234, ..., -0.0093092 ,\n",
              "            0.00202867, -0.04871336],\n",
              "          [-0.0504683 , -0.05317788, -0.07270527, ..., -0.00482576,\n",
              "            0.01624693, -0.06449343],\n",
              "          ...,\n",
              "          [-0.07762032, -0.05392744, -0.05003888, ..., -0.06097956,\n",
              "           -0.06510187, -0.04481845],\n",
              "          [-0.05915473, -0.06309063, -0.05249977, ..., -0.04738148,\n",
              "           -0.05112658, -0.05648018],\n",
              "          [-0.04540505,  0.04583017,  0.03107557, ..., -0.0595318 ,\n",
              "           -0.01764069,  0.01476392]],\n",
              " \n",
              "         [[-0.06963006, -0.06110165, -0.04961397, ..., -0.00757571,\n",
              "           -0.01866767, -0.03336063],\n",
              "          [-0.05261007, -0.06172618, -0.03995142, ..., -0.00291132,\n",
              "            0.03399258, -0.04527611],\n",
              "          [-0.07472172, -0.06038696, -0.06952854, ...,  0.03249509,\n",
              "           -0.00474486, -0.06684189],\n",
              "          ...,\n",
              "          [-0.04728246, -0.05650588, -0.06638571, ..., -0.03947162,\n",
              "           -0.05744586, -0.06490154],\n",
              "          [-0.06006914, -0.06471446, -0.02991766, ..., -0.06852493,\n",
              "           -0.05683196, -0.06814514],\n",
              "          [-0.00930441,  0.04726488,  0.02478909, ..., -0.06328286,\n",
              "            0.03576966,  0.04837457]]],\n",
              " \n",
              " \n",
              "        [[[-0.02972238, -0.06722852, -0.06143571, ..., -0.02229201,\n",
              "           -0.05134766, -0.03628288],\n",
              "          [-0.05809724, -0.03945405, -0.06810606, ..., -0.01389819,\n",
              "           -0.00789547, -0.06937   ],\n",
              "          [-0.06573271, -0.03589265, -0.03686054, ..., -0.0374169 ,\n",
              "           -0.03948304, -0.04540557],\n",
              "          ...,\n",
              "          [-0.05349432, -0.06687625, -0.06145889, ..., -0.04348443,\n",
              "           -0.0927208 , -0.04479693],\n",
              "          [-0.0611724 , -0.06119765, -0.04834587, ..., -0.08097827,\n",
              "           -0.06174896, -0.05473151],\n",
              "          [-0.0181431 ,  0.05570452, -0.01664539, ..., -0.05033266,\n",
              "            0.04651039,  0.04373053]],\n",
              " \n",
              "         [[-0.0399003 , -0.07019176, -0.06812711, ...,  0.00033413,\n",
              "           -0.05605866, -0.04192564],\n",
              "          [-0.04942673, -0.05728428, -0.06034398, ..., -0.04013706,\n",
              "            0.00012076, -0.06112329],\n",
              "          [-0.04724612, -0.04172001, -0.03660606, ...,  0.01601449,\n",
              "           -0.02644281, -0.0676701 ],\n",
              "          ...,\n",
              "          [-0.07833031, -0.05977102, -0.04836084, ..., -0.07935803,\n",
              "           -0.05757168, -0.04017697],\n",
              "          [-0.04959126, -0.05677916, -0.06120392, ..., -0.0666182 ,\n",
              "           -0.06472438, -0.06572132],\n",
              "          [ 0.01311199,  0.0585001 , -0.04837667, ..., -0.06111814,\n",
              "           -0.06300547,  0.04032819]],\n",
              " \n",
              "         [[-0.03771356, -0.06067573, -0.04767643, ..., -0.01420283,\n",
              "           -0.03722929, -0.06377671],\n",
              "          [-0.06874906, -0.05394845, -0.0552053 , ..., -0.04114842,\n",
              "           -0.00723078, -0.05305801],\n",
              "          [-0.03576347, -0.07188822, -0.03515882, ..., -0.01923068,\n",
              "            0.0068798 , -0.05554073],\n",
              "          ...,\n",
              "          [-0.06115717, -0.06816456, -0.05905488, ..., -0.04287206,\n",
              "           -0.06199636, -0.06785687],\n",
              "          [-0.05359945, -0.037813  , -0.06522823, ..., -0.0679346 ,\n",
              "           -0.065132  , -0.03475409],\n",
              "          [ 0.00494953,  0.03181474, -0.03806596, ...,  0.06684803,\n",
              "           -0.05279378,  0.05242673]],\n",
              " \n",
              "         ...,\n",
              " \n",
              "         [[-0.04892122, -0.0711469 , -0.0375428 , ..., -0.02221997,\n",
              "           -0.01119968, -0.07353991],\n",
              "          [-0.07349625, -0.03905701, -0.04958893, ..., -0.03526692,\n",
              "            0.01718608, -0.05301536],\n",
              "          [-0.0683635 , -0.04367653, -0.0631808 , ...,  0.00021388,\n",
              "           -0.00759895, -0.04457708],\n",
              "          ...,\n",
              "          [-0.07243782, -0.04222078, -0.03823967, ..., -0.04854764,\n",
              "           -0.04884073, -0.06647182],\n",
              "          [-0.06063662, -0.0344192 , -0.05394042, ..., -0.07378163,\n",
              "           -0.05108469, -0.05070519],\n",
              "          [-0.03045268,  0.02547365, -0.02063099, ...,  0.02493779,\n",
              "           -0.02844883,  0.0471711 ]],\n",
              " \n",
              "         [[-0.04663475, -0.06404997, -0.04870082, ...,  0.00406275,\n",
              "           -0.01060783, -0.05885283],\n",
              "          [-0.06532197, -0.06504698, -0.08233368, ..., -0.05599654,\n",
              "           -0.0290521 , -0.0613668 ],\n",
              "          [-0.05920887, -0.03848191, -0.04203398, ...,  0.01752882,\n",
              "            0.01283537, -0.03230677],\n",
              "          ...,\n",
              "          [-0.07283036, -0.04367626, -0.03617575, ..., -0.07514493,\n",
              "           -0.07502885, -0.05198202],\n",
              "          [-0.05498852, -0.03193313, -0.03796044, ..., -0.03958897,\n",
              "           -0.05785386, -0.03668396],\n",
              "          [-0.0125142 ,  0.04659447,  0.00413299, ..., -0.0412499 ,\n",
              "           -0.00135717,  0.04600957]],\n",
              " \n",
              "         [[-0.06076527, -0.04297942, -0.05119346, ...,  0.01709181,\n",
              "            0.00475705, -0.07774262],\n",
              "          [-0.06677175, -0.04806282, -0.06436025, ..., -0.02522107,\n",
              "            0.02676636, -0.06582531],\n",
              "          [-0.07180635, -0.06157609, -0.0348438 , ...,  0.01122273,\n",
              "           -0.00842094, -0.07483449],\n",
              "          ...,\n",
              "          [-0.07718447, -0.07228374, -0.04109007, ..., -0.04954193,\n",
              "           -0.07291184, -0.05117549],\n",
              "          [-0.04321003, -0.03081277, -0.05400671, ..., -0.06005569,\n",
              "           -0.07802434, -0.05104285],\n",
              "          [ 0.04836023,  0.04814021,  0.00800999, ..., -0.02522825,\n",
              "            0.04677358,  0.05675343]]],\n",
              " \n",
              " \n",
              "        [[[-0.03840055, -0.05060369, -0.04460258, ..., -0.03674332,\n",
              "           -0.04184579, -0.07205743],\n",
              "          [-0.03317118, -0.04624853, -0.03765988, ..., -0.00093051,\n",
              "           -0.05396454, -0.05465643],\n",
              "          [-0.05153513, -0.04976717, -0.03419948, ..., -0.03125325,\n",
              "           -0.00750684, -0.06716925],\n",
              "          ...,\n",
              "          [-0.07103601, -0.04249072, -0.02787772, ..., -0.0452818 ,\n",
              "           -0.08324844, -0.0542169 ],\n",
              "          [-0.06668743, -0.03213449, -0.04674015, ..., -0.06955962,\n",
              "           -0.04411069, -0.04275756],\n",
              "          [-0.00248205,  0.05923872,  0.00609245, ..., -0.01394206,\n",
              "            0.01778043,  0.00171094]],\n",
              " \n",
              "         [[-0.02680634, -0.03876211, -0.0425754 , ..., -0.02536158,\n",
              "           -0.04596325, -0.05166626],\n",
              "          [-0.04467082, -0.05968232, -0.06093435, ..., -0.04076028,\n",
              "           -0.0353048 , -0.03127208],\n",
              "          [-0.06108   , -0.04194686, -0.06611078, ..., -0.01106692,\n",
              "            0.00574133, -0.03968858],\n",
              "          ...,\n",
              "          [-0.05035378, -0.06808959, -0.04737555, ..., -0.03889686,\n",
              "           -0.09092458, -0.06573329],\n",
              "          [-0.05762478, -0.06076313, -0.03844048, ..., -0.04453653,\n",
              "           -0.06315713, -0.04537061],\n",
              "          [-0.02227172,  0.04336062, -0.00603709, ..., -0.04409931,\n",
              "           -0.0531243 , -0.0142601 ]],\n",
              " \n",
              "         [[-0.05237447, -0.07012235, -0.0716212 , ..., -0.02025503,\n",
              "           -0.02564877, -0.04907598],\n",
              "          [-0.04477801, -0.056848  , -0.04896503, ...,  0.00831928,\n",
              "           -0.05369182, -0.03388262],\n",
              "          [-0.06017974, -0.07254539, -0.05377125, ..., -0.02583382,\n",
              "            0.0357799 , -0.05093883],\n",
              "          ...,\n",
              "          [-0.0496884 , -0.05901659, -0.06721006, ..., -0.0583637 ,\n",
              "           -0.05530019, -0.04973038],\n",
              "          [-0.07067416, -0.06648257, -0.05668064, ..., -0.05533117,\n",
              "           -0.04923357, -0.04042949],\n",
              "          [-0.02316728,  0.0021729 , -0.02274253, ...,  0.04026886,\n",
              "           -0.03855637,  0.06467032]],\n",
              " \n",
              "         ...,\n",
              " \n",
              "         [[-0.06516366, -0.04057613, -0.04958418, ..., -0.00807684,\n",
              "           -0.01990286, -0.0590314 ],\n",
              "          [-0.0483679 , -0.03671585, -0.03907833, ..., -0.03824538,\n",
              "           -0.04414733, -0.03553807],\n",
              "          [-0.04863129, -0.07554838, -0.04817808, ..., -0.00806144,\n",
              "            0.03318373, -0.06421755],\n",
              "          ...,\n",
              "          [-0.05575796, -0.06679677, -0.02588171, ..., -0.057131  ,\n",
              "           -0.05382464, -0.05835622],\n",
              "          [-0.04544847, -0.03612066, -0.04033311, ..., -0.081388  ,\n",
              "           -0.05258256, -0.05044705],\n",
              "          [-0.01570391,  0.04476029, -0.00378029, ..., -0.04184027,\n",
              "           -0.04872923,  0.04871452]],\n",
              " \n",
              "         [[-0.03270707, -0.03829637, -0.03716652, ..., -0.00977035,\n",
              "           -0.01513559, -0.04954235],\n",
              "          [-0.05748945, -0.06483051, -0.07106289, ..., -0.01464532,\n",
              "           -0.04358929, -0.05798814],\n",
              "          [-0.05557248, -0.05994486, -0.07860932, ...,  0.0131549 ,\n",
              "            0.01549827, -0.05075347],\n",
              "          ...,\n",
              "          [-0.0803946 , -0.07221624, -0.04429289, ..., -0.05118011,\n",
              "           -0.09045916, -0.04656333],\n",
              "          [-0.06038589, -0.04219187, -0.02557375, ..., -0.06355376,\n",
              "           -0.0773461 , -0.06406277],\n",
              "          [ 0.03973201,  0.01816151, -0.03379006, ..., -0.03370175,\n",
              "           -0.02827195,  0.06478705]],\n",
              " \n",
              "         [[-0.03785677, -0.04932476, -0.06252553, ..., -0.0075743 ,\n",
              "           -0.0276336 , -0.07257034],\n",
              "          [-0.04649802, -0.08011904, -0.06728245, ...,  0.00804612,\n",
              "           -0.03685889, -0.0696737 ],\n",
              "          [-0.05926888, -0.04111227, -0.04087615, ...,  0.01173435,\n",
              "           -0.00700096, -0.05983258],\n",
              "          ...,\n",
              "          [-0.04457342, -0.07359011, -0.04081003, ..., -0.06101424,\n",
              "           -0.06869609, -0.05205754],\n",
              "          [-0.06346488, -0.03319153, -0.05130211, ..., -0.0561007 ,\n",
              "           -0.08072589, -0.0446913 ],\n",
              "          [ 0.02321978,  0.03640549,  0.00175228, ...,  0.03683979,\n",
              "           -0.05406381,  0.06807131]]]], dtype=float32),\n",
              " array([-0.06588108, -0.05818743, -0.04806594, -0.05529236, -0.07774027,\n",
              "        -0.04352106, -0.05784586, -0.03106757, -0.05556664, -0.04558454,\n",
              "        -0.04567637, -0.0777416 , -0.07773478, -0.07774581, -0.05387366,\n",
              "        -0.07790387, -0.05817731, -0.04562049, -0.05962655, -0.0623862 ,\n",
              "        -0.05551017, -0.06482341, -0.06008803, -0.05992591, -0.05637642,\n",
              "        -0.06606222, -0.05973486, -0.07773361, -0.05755881, -0.05996904,\n",
              "        -0.07768162, -0.07773019, -0.06004763, -0.05550417, -0.0627907 ,\n",
              "        -0.03113138, -0.04283825, -0.0585696 , -0.05264875, -0.04560683,\n",
              "        -0.0456435 , -0.05671293, -0.04577312, -0.04591367, -0.08047671,\n",
              "        -0.01528734, -0.0777418 , -0.05715651, -0.06647092, -0.05840812,\n",
              "        -0.05844658, -0.07774267, -0.05841447, -0.07746048, -0.06925388,\n",
              "        -0.07619979, -0.06004656, -0.05996382, -0.0574402 , -0.0569043 ,\n",
              "        -0.04880423, -0.08518072, -0.0777388 , -0.07773925, -0.07723203,\n",
              "        -0.04688864, -0.05983669, -0.07838844, -0.06055194, -0.04562145,\n",
              "        -0.06289271, -0.05766965, -0.05637312, -0.05725887, -0.06546723,\n",
              "        -0.07867181, -0.0777323 , -0.05358154, -0.04565103, -0.07844608,\n",
              "        -0.05176328, -0.05724848, -0.05905004, -0.07773608, -0.04564414,\n",
              "        -0.06004563, -0.05810245, -0.08106535, -0.07774684, -0.04568379,\n",
              "        -0.05137409, -0.07773307, -0.04630436, -0.07762835, -0.07767202,\n",
              "        -0.05304102, -0.04571052, -0.05122474, -0.05824567, -0.0595287 ,\n",
              "        -0.05754558, -0.04578015, -0.05357395, -0.06573974, -0.08385707,\n",
              "        -0.06005188, -0.0777389 , -0.05847896, -0.05806383, -0.07836465,\n",
              "        -0.06074747, -0.04591583, -0.07298613, -0.05983062, -0.04607407,\n",
              "        -0.05778893, -0.07855836, -0.06936506, -0.0889153 , -0.02136969,\n",
              "        -0.04638964, -0.04574339, -0.08003875, -0.06562051, -0.06002906,\n",
              "        -0.08744   , -0.0777364 , -0.05707438], dtype=float32),\n",
              " array([[[[ 3.12539563e-02,  1.99996810e-02,  7.42968917e-02, ...,\n",
              "           -6.32661507e-02, -1.88251515e-03, -7.13286996e-02],\n",
              "          [ 6.79334775e-02,  3.95371802e-02,  5.84773123e-02, ...,\n",
              "           -5.86151443e-02, -3.70119363e-02, -4.76754867e-02],\n",
              "          [ 6.11255392e-02,  2.84320712e-02,  5.42200468e-02, ...,\n",
              "           -4.71158065e-02,  4.79945075e-03, -4.13539782e-02],\n",
              "          ...,\n",
              "          [ 1.63657703e-02, -1.75908841e-02,  5.93612269e-02, ...,\n",
              "            6.66649565e-02, -4.26585451e-02,  6.43577874e-02],\n",
              "          [ 5.64707592e-02, -4.39692214e-02,  4.40693162e-02, ...,\n",
              "           -1.61937345e-02, -3.36994901e-02, -3.53002511e-02],\n",
              "          [ 4.97499965e-02,  3.05041950e-02,  7.99993873e-02, ...,\n",
              "           -2.98063885e-02, -6.02892525e-02, -3.51184681e-02]],\n",
              " \n",
              "         [[ 3.88794355e-02, -1.59556884e-02,  6.69736490e-02, ...,\n",
              "           -6.95948973e-02, -4.45307745e-03, -7.03697801e-02],\n",
              "          [ 4.29088473e-02,  1.49381785e-02,  6.41104132e-02, ...,\n",
              "           -5.42142913e-02, -2.20665187e-02, -6.82706982e-02],\n",
              "          [ 7.10249245e-02,  2.02797875e-02,  3.96471694e-02, ...,\n",
              "           -2.90335491e-02,  4.86970022e-02, -5.85647374e-02],\n",
              "          ...,\n",
              "          [ 1.13709858e-02,  5.53347077e-03,  2.43458375e-02, ...,\n",
              "            5.53607270e-02, -3.99196483e-02,  5.03310524e-02],\n",
              "          [ 5.04176170e-02, -7.13500530e-02,  7.67959505e-02, ...,\n",
              "           -3.58077437e-02, -5.76688424e-02, -3.30305994e-02],\n",
              "          [ 8.76336694e-02,  6.45175502e-02,  7.41093978e-02, ...,\n",
              "           -6.40380532e-02, -7.27101937e-02, -5.73152862e-02]],\n",
              " \n",
              "         [[ 6.50082752e-02,  1.63776781e-02,  6.52168468e-02, ...,\n",
              "           -5.60886674e-02,  8.14598612e-03, -5.47565445e-02],\n",
              "          [ 4.20363769e-02,  2.34391224e-02,  4.19366397e-02, ...,\n",
              "           -7.09335059e-02, -3.52822393e-02, -5.00201508e-02],\n",
              "          [ 8.06434453e-02, -8.68303142e-03,  4.15723957e-02, ...,\n",
              "           -2.81378217e-02,  2.53931396e-02, -8.12164247e-02],\n",
              "          ...,\n",
              "          [-9.60947853e-03, -2.13593189e-02,  2.28404868e-02, ...,\n",
              "            7.30138645e-02, -5.85519373e-02,  4.20126244e-02],\n",
              "          [-1.93903688e-02, -3.52715030e-02,  4.24094796e-02, ...,\n",
              "           -2.63856463e-02, -2.77723148e-02, -1.36888707e-02],\n",
              "          [ 4.79251705e-02,  4.59012948e-02,  7.33994022e-02, ...,\n",
              "           -2.75653638e-02, -4.11771648e-02, -2.32566502e-02]],\n",
              " \n",
              "         ...,\n",
              " \n",
              "         [[ 6.93604648e-02,  1.50792878e-02,  4.53325659e-02, ...,\n",
              "           -5.05963266e-02,  2.03722976e-02, -5.49631268e-02],\n",
              "          [ 8.42133686e-02, -3.08028609e-03,  5.22233695e-02, ...,\n",
              "           -5.32134585e-02, -9.21112299e-03, -6.55011758e-02],\n",
              "          [ 8.09948742e-02, -2.04244871e-02,  6.01710752e-02, ...,\n",
              "           -5.02146706e-02, -2.46919505e-02, -3.83784100e-02],\n",
              "          ...,\n",
              "          [-4.98869345e-02, -2.74558552e-02, -8.08826298e-04, ...,\n",
              "            6.04676344e-02, -6.51782006e-02,  6.18045330e-02],\n",
              "          [-3.82232890e-02, -5.84758781e-02,  7.21033737e-02, ...,\n",
              "           -3.32047157e-02,  1.90064777e-02, -2.67043225e-02],\n",
              "          [ 5.77535853e-02, -7.27541279e-03,  7.07771629e-02, ...,\n",
              "           -3.20279822e-02, -4.86078970e-02, -3.76160145e-02]],\n",
              " \n",
              "         [[ 5.96214645e-03, -5.56677207e-03,  7.54373148e-02, ...,\n",
              "           -5.93413785e-02, -2.88087595e-02, -5.37420213e-02],\n",
              "          [ 4.35284413e-02,  1.11223292e-02,  5.42215854e-02, ...,\n",
              "           -6.04482554e-02, -3.18694338e-02, -6.73574060e-02],\n",
              "          [ 5.43762520e-02, -5.47127053e-03,  6.96103871e-02, ...,\n",
              "           -5.77723905e-02, -1.87437311e-02, -2.77419239e-02],\n",
              "          ...,\n",
              "          [-7.39462599e-02, -2.49745715e-02,  2.29493994e-03, ...,\n",
              "            6.69694841e-02,  4.16555703e-02,  5.04168086e-02],\n",
              "          [-4.07297648e-02, -3.70577797e-02,  5.83087057e-02, ...,\n",
              "           -3.89819257e-02, -7.78114144e-03, -6.51858049e-03],\n",
              "          [ 4.78396825e-02, -4.22509480e-03,  2.80261096e-02, ...,\n",
              "           -5.84532283e-02, -3.99083346e-02, -3.60277481e-02]],\n",
              " \n",
              "         [[ 1.27664218e-02,  2.00284850e-02,  4.55875508e-02, ...,\n",
              "           -5.32742441e-02, -3.65974158e-02, -7.12347329e-02],\n",
              "          [ 7.45088235e-02,  2.12464817e-02,  5.83430305e-02, ...,\n",
              "           -6.67598620e-02, -4.32294831e-02, -6.65038154e-02],\n",
              "          [ 8.62755403e-02,  6.14452362e-03,  6.77844658e-02, ...,\n",
              "           -6.57257214e-02,  3.04633733e-02, -4.52911742e-02],\n",
              "          ...,\n",
              "          [-6.52521774e-02, -2.07806807e-02,  1.85668468e-02, ...,\n",
              "            5.08383028e-02,  4.56159413e-02,  4.73475792e-02],\n",
              "          [-5.75325638e-02, -4.14338969e-02,  3.74457650e-02, ...,\n",
              "           -3.56407650e-03,  1.76846348e-02, -2.10665409e-02],\n",
              "          [ 3.39268520e-02,  1.36794075e-02,  6.81928396e-02, ...,\n",
              "           -4.00041305e-02, -4.36583310e-02, -2.39703748e-02]]],\n",
              " \n",
              " \n",
              "        [[[ 5.47457710e-02, -1.12329964e-02,  7.74075389e-02, ...,\n",
              "           -3.55221219e-02,  1.52831450e-02, -3.77853401e-02],\n",
              "          [ 5.48554957e-02,  5.22571020e-02,  6.55927807e-02, ...,\n",
              "           -6.85239956e-02, -1.63234193e-02, -5.13289422e-02],\n",
              "          [ 5.51489703e-02,  3.70984385e-03,  5.16944304e-02, ...,\n",
              "           -4.87016402e-02, -2.43653054e-03, -3.10895089e-02],\n",
              "          ...,\n",
              "          [ 3.55973132e-02, -4.63274401e-03,  6.31078556e-02, ...,\n",
              "            5.77200055e-02, -3.78766358e-02,  4.09175195e-02],\n",
              "          [ 4.61580195e-02, -6.27330691e-02,  4.54053171e-02, ...,\n",
              "           -4.60934034e-03, -6.85065836e-02, -1.72832292e-02],\n",
              "          [ 7.55338147e-02,  5.40250093e-02,  4.57006544e-02, ...,\n",
              "           -3.43621597e-02, -5.04871421e-02, -6.11468665e-02]],\n",
              " \n",
              "         [[ 6.44294247e-02, -5.55174425e-04,  7.19322339e-02, ...,\n",
              "           -6.05198182e-02, -4.23239497e-03, -6.76769689e-02],\n",
              "          [ 6.17471188e-02,  2.94412058e-02,  4.15360890e-02, ...,\n",
              "           -5.59111536e-02, -1.49914706e-02, -5.20064048e-02],\n",
              "          [ 8.07831287e-02, -2.01996043e-03,  6.50270134e-02, ...,\n",
              "           -3.05885077e-02,  3.07917763e-02, -4.29800488e-02],\n",
              "          ...,\n",
              "          [ 4.42610122e-02,  3.45762382e-04,  2.23927367e-02, ...,\n",
              "            5.85825965e-02, -7.55440518e-02,  4.89796884e-02],\n",
              "          [ 3.40620428e-02, -6.61950484e-02,  5.65623306e-02, ...,\n",
              "           -2.73898821e-02, -4.52583805e-02, -2.63886116e-02],\n",
              "          [ 6.85212836e-02,  2.87550129e-02,  7.97685608e-02, ...,\n",
              "           -6.08133599e-02, -7.28610158e-02, -2.33540367e-02]],\n",
              " \n",
              "         [[ 7.97197297e-02,  1.42850224e-02,  4.70427312e-02, ...,\n",
              "           -2.82688644e-02,  4.55231499e-03, -4.61524278e-02],\n",
              "          [ 6.44900501e-02,  2.35716347e-02,  6.12964407e-02, ...,\n",
              "           -4.52344678e-02, -4.22356799e-02, -6.70324638e-02],\n",
              "          [ 7.50617981e-02, -1.69485901e-02,  4.39003222e-02, ...,\n",
              "           -7.05984533e-02, -1.66383665e-02, -5.38404807e-02],\n",
              "          ...,\n",
              "          [-9.51854791e-03, -1.67593043e-02,  4.56044599e-02, ...,\n",
              "            7.21943527e-02, -3.53574753e-02,  5.82707264e-02],\n",
              "          [-5.06926291e-02, -6.50567859e-02,  3.30319107e-02, ...,\n",
              "           -2.47647427e-02, -6.65492192e-02, -3.45239677e-02],\n",
              "          [ 7.65912533e-02,  2.26367470e-02,  4.89661284e-02, ...,\n",
              "           -3.09041031e-02, -3.71235423e-02, -4.69937362e-02]],\n",
              " \n",
              "         ...,\n",
              " \n",
              "         [[ 7.02562779e-02, -6.99980184e-04,  4.92791049e-02, ...,\n",
              "           -5.14212549e-02, -4.96224128e-03, -6.79867044e-02],\n",
              "          [ 5.73191755e-02,  1.64717308e-03,  6.37820438e-02, ...,\n",
              "           -6.20098747e-02,  1.72250029e-02, -8.18327814e-02],\n",
              "          [ 8.42786208e-02, -1.88606642e-02,  3.55245247e-02, ...,\n",
              "           -7.08390549e-02, -1.86901875e-02, -6.65268674e-02],\n",
              "          ...,\n",
              "          [-3.41309719e-02, -4.33690567e-03, -2.02317582e-03, ...,\n",
              "            4.07206416e-02, -3.59251462e-02,  7.91040733e-02],\n",
              "          [-7.10544959e-02, -3.97843383e-02,  4.10407521e-02, ...,\n",
              "           -2.17630696e-02, -2.19432767e-02, -7.86610413e-03],\n",
              "          [ 5.21281175e-02, -1.02160992e-02,  7.56570473e-02, ...,\n",
              "           -4.31945063e-02, -3.52022909e-02, -3.99095900e-02]],\n",
              " \n",
              "         [[ 4.63219509e-02,  1.93081666e-02,  4.73566800e-02, ...,\n",
              "           -5.58299497e-02, -3.51257883e-02, -5.64244427e-02],\n",
              "          [ 4.45900224e-02,  7.41692726e-03,  6.97235093e-02, ...,\n",
              "           -2.79176217e-02, -1.81249734e-02, -3.13919932e-02],\n",
              "          [ 5.59273809e-02, -6.01414405e-03,  7.38368779e-02, ...,\n",
              "           -7.41451308e-02, -3.76701844e-03, -3.46497670e-02],\n",
              "          ...,\n",
              "          [-3.74094956e-02, -2.45437734e-02,  3.75275053e-02, ...,\n",
              "            6.91014752e-02, -9.30948241e-04,  6.07302040e-02],\n",
              "          [-6.93816394e-02, -6.40399083e-02,  5.92858344e-02, ...,\n",
              "           -3.19417790e-02, -2.10581291e-02, -4.08054590e-02],\n",
              "          [ 4.90089208e-02, -1.53405741e-02,  3.68729495e-02, ...,\n",
              "           -4.30390611e-02, -6.75372928e-02, -6.21467307e-02]],\n",
              " \n",
              "         [[ 4.81158635e-03,  1.83983725e-02,  7.43455961e-02, ...,\n",
              "           -5.59261553e-02, -3.02311834e-02, -3.13977264e-02],\n",
              "          [ 4.43695039e-02,  7.95548130e-03,  4.41492237e-02, ...,\n",
              "           -4.87581752e-02, -3.08024548e-02, -5.78760281e-02],\n",
              "          [ 8.14837143e-02,  1.43170562e-02,  4.52390350e-02, ...,\n",
              "           -6.36003688e-02,  2.14885715e-02, -6.48850203e-02],\n",
              "          ...,\n",
              "          [-6.00016713e-02, -9.64700896e-03,  2.90226284e-02, ...,\n",
              "            5.12269214e-02, -2.74511203e-02,  6.10056445e-02],\n",
              "          [-7.14575499e-02, -6.37777820e-02,  3.95631157e-02, ...,\n",
              "           -2.42704730e-02, -2.52826083e-02, -8.56600981e-03],\n",
              "          [ 4.98850346e-02, -4.95682005e-03,  6.50924891e-02, ...,\n",
              "           -5.49761541e-02, -3.94841135e-02, -6.53688759e-02]]],\n",
              " \n",
              " \n",
              "        [[[ 3.29724811e-02, -1.44938342e-02,  7.66442791e-02, ...,\n",
              "           -5.43471389e-02, -1.29481899e-02, -5.22628389e-02],\n",
              "          [ 7.51733780e-02,  5.64319864e-02,  5.78502342e-02, ...,\n",
              "           -8.33127275e-02,  2.08107289e-02, -4.20333073e-02],\n",
              "          [ 7.80457631e-02, -5.30013815e-03,  6.84390441e-02, ...,\n",
              "           -3.29523981e-02, -4.58881706e-02, -5.78120872e-02],\n",
              "          ...,\n",
              "          [ 4.14241180e-02, -1.19349374e-04,  5.09313978e-02, ...,\n",
              "            6.66885525e-02, -4.87809516e-02,  5.72057106e-02],\n",
              "          [ 3.36333960e-02, -4.55897264e-02,  6.23195693e-02, ...,\n",
              "           -7.44595798e-03, -4.42585312e-02, -1.62275545e-02],\n",
              "          [ 6.28557876e-02,  5.87551557e-02,  4.63528894e-02, ...,\n",
              "           -2.92091314e-02, -6.49490058e-02, -6.56032339e-02]],\n",
              " \n",
              "         [[ 2.51548346e-02,  1.74969528e-02,  5.73819168e-02, ...,\n",
              "           -3.23051028e-02, -7.03987491e-04, -3.68349403e-02],\n",
              "          [ 3.88707258e-02,  3.92064750e-02,  4.93086353e-02, ...,\n",
              "           -7.53340498e-02,  5.94730442e-03, -3.74559835e-02],\n",
              "          [ 5.87509312e-02, -7.41053466e-03,  3.93313132e-02, ...,\n",
              "           -4.92590331e-02, -4.47231121e-02, -5.11532128e-02],\n",
              "          ...,\n",
              "          [ 1.48613146e-02, -4.78032604e-03,  5.43920137e-02, ...,\n",
              "            4.93401811e-02, -6.50544539e-02,  5.72606660e-02],\n",
              "          [ 2.81872675e-02, -3.45821641e-02,  4.69063185e-02, ...,\n",
              "           -2.57441066e-02, -3.63285504e-02, -1.50141660e-02],\n",
              "          [ 5.36895692e-02,  3.58805060e-02,  5.76670878e-02, ...,\n",
              "           -3.18333134e-02, -4.30102460e-02, -6.50247186e-02]],\n",
              " \n",
              "         [[ 7.95090944e-02,  1.43421944e-02,  7.67266527e-02, ...,\n",
              "           -6.84915632e-02, -6.61638100e-03, -4.09106649e-02],\n",
              "          [ 5.53752556e-02,  6.90917252e-03,  6.01569973e-02, ...,\n",
              "           -6.19208589e-02, -3.85422900e-04, -3.28061134e-02],\n",
              "          [ 5.83832301e-02,  1.27338115e-02,  6.16746657e-02, ...,\n",
              "           -5.98834269e-02, -2.44054291e-02, -3.69042531e-02],\n",
              "          ...,\n",
              "          [-4.37599495e-02, -1.63601153e-02,  5.06774969e-02, ...,\n",
              "            6.89358711e-02, -4.60298210e-02,  5.74492514e-02],\n",
              "          [-2.61494964e-02, -6.82493448e-02,  6.87317550e-02, ...,\n",
              "           -2.63412073e-02, -6.87576011e-02, -3.30869555e-02],\n",
              "          [ 7.92040676e-02,  8.22352711e-03,  6.93666264e-02, ...,\n",
              "           -3.28459106e-02, -3.67516987e-02, -2.56385636e-02]],\n",
              " \n",
              "         ...,\n",
              " \n",
              "         [[ 4.53746989e-02, -1.30923912e-02,  4.68150377e-02, ...,\n",
              "           -5.50400093e-02, -1.70164257e-02, -3.00937425e-02],\n",
              "          [ 4.02533039e-02, -7.54652638e-03,  7.01526552e-02, ...,\n",
              "           -3.80068384e-02, -8.19258671e-03, -3.77628878e-02],\n",
              "          [ 7.15487376e-02,  8.73155147e-03,  5.04277870e-02, ...,\n",
              "           -7.43520856e-02, -5.69216162e-02, -5.26205078e-02],\n",
              "          ...,\n",
              "          [-5.91477640e-02,  9.82382055e-03,  2.30285600e-02, ...,\n",
              "            6.39172420e-02, -5.86215295e-02,  6.35972619e-02],\n",
              "          [-3.01349927e-02, -3.32130305e-02,  7.06083998e-02, ...,\n",
              "           -2.24467404e-02, -3.15086506e-02, -1.95914395e-02],\n",
              "          [ 5.93418628e-02, -5.89541579e-03,  5.13003170e-02, ...,\n",
              "           -6.41977489e-02, -5.01722582e-02, -5.26042432e-02]],\n",
              " \n",
              "         [[-1.79723371e-02,  5.59163839e-03,  5.33189178e-02, ...,\n",
              "           -8.08555782e-02, -3.35830599e-02, -4.71088439e-02],\n",
              "          [ 5.22551201e-02,  1.45302396e-02,  3.79722975e-02, ...,\n",
              "           -4.97169532e-02, -7.89641310e-03, -3.03052627e-02],\n",
              "          [ 8.41838196e-02, -6.73111342e-03,  3.94791998e-02, ...,\n",
              "           -7.33685866e-02, -4.53535840e-02, -4.23570015e-02],\n",
              "          ...,\n",
              "          [-6.86238408e-02,  9.96698812e-03,  3.55180725e-02, ...,\n",
              "            5.50246052e-02, -3.78920846e-02,  6.69342801e-02],\n",
              "          [-4.89430204e-02, -5.50842583e-02,  6.41810894e-02, ...,\n",
              "           -1.70995183e-02, -5.33072017e-02, -5.67678036e-03],\n",
              "          [ 6.44053295e-02,  1.73584074e-02,  6.73016384e-02, ...,\n",
              "           -4.36647125e-02, -5.66426851e-02, -6.19542822e-02]],\n",
              " \n",
              "         [[-2.60819457e-02, -1.46513991e-03,  6.97244033e-02, ...,\n",
              "           -3.03925965e-02, -1.88522972e-03, -5.79704866e-02],\n",
              "          [ 3.70274782e-02,  1.47737581e-02,  4.66323718e-02, ...,\n",
              "           -3.75669673e-02, -4.30007838e-02, -3.87496687e-02],\n",
              "          [ 5.36915921e-02,  1.00784060e-02,  5.27642071e-02, ...,\n",
              "           -6.29791319e-02, -1.03327939e-02, -3.82016227e-02],\n",
              "          ...,\n",
              "          [-6.53512478e-02, -8.17920640e-03,  2.79216133e-02, ...,\n",
              "            4.93787229e-02, -2.91215684e-02,  8.05889666e-02],\n",
              "          [-6.90416917e-02, -5.03869466e-02,  5.41482195e-02, ...,\n",
              "           -3.43860760e-02, -5.14858365e-02, -3.44969705e-02],\n",
              "          [ 4.21542749e-02,  1.03628729e-03,  3.45275663e-02, ...,\n",
              "           -5.64961061e-02, -4.56760265e-02, -5.53126112e-02]]],\n",
              " \n",
              " \n",
              "        ...,\n",
              " \n",
              " \n",
              "        [[[ 4.74249683e-02,  1.30204652e-02,  4.02258374e-02, ...,\n",
              "           -7.41888806e-02, -1.82830654e-02, -6.06792718e-02],\n",
              "          [ 7.62289464e-02,  1.63789578e-02,  3.95325199e-02, ...,\n",
              "           -5.86028621e-02, -2.06140447e-02, -7.04621896e-02],\n",
              "          [ 7.33046457e-02,  1.90367792e-02,  5.40723316e-02, ...,\n",
              "           -4.42682803e-02, -2.98280083e-02, -2.90551446e-02],\n",
              "          ...,\n",
              "          [ 1.67886410e-02, -8.24971497e-03,  2.14971602e-02, ...,\n",
              "            4.57893983e-02, -6.87457025e-02,  4.72232550e-02],\n",
              "          [ 6.00150973e-02, -7.18284100e-02,  5.17348796e-02, ...,\n",
              "           -2.49223430e-02, -3.07695810e-02, -1.69210862e-02],\n",
              "          [ 5.92778437e-02,  1.71697717e-02,  7.47963339e-02, ...,\n",
              "           -6.43929392e-02, -5.55782467e-02, -6.12558499e-02]],\n",
              " \n",
              "         [[ 4.58394364e-02, -4.11723182e-03,  3.95687111e-02, ...,\n",
              "           -4.70713861e-02, -2.82436907e-02, -5.38033061e-02],\n",
              "          [ 5.21705374e-02, -1.10338703e-02,  7.40119144e-02, ...,\n",
              "           -6.57651126e-02, -1.42757660e-02, -6.78619966e-02],\n",
              "          [ 7.29288757e-02,  3.15683335e-03,  4.05535065e-02, ...,\n",
              "           -7.35156238e-02, -3.30649614e-02, -2.98954416e-02],\n",
              "          ...,\n",
              "          [ 3.46158966e-02, -2.43305657e-02,  2.71314513e-02, ...,\n",
              "            6.75166771e-02, -7.40220770e-02,  4.94160727e-02],\n",
              "          [ 6.95641786e-02, -7.08568618e-02,  5.67296781e-02, ...,\n",
              "           -2.95177046e-02, -4.57909442e-02, -3.92161161e-02],\n",
              "          [ 7.91013688e-02,  9.04646149e-05,  4.29532789e-02, ...,\n",
              "           -4.03798334e-02, -6.48808926e-02, -5.63918985e-02]],\n",
              " \n",
              "         [[ 4.74521928e-02, -2.01647170e-03,  4.90175560e-02, ...,\n",
              "           -6.79369643e-02, -3.69237289e-02, -3.54587808e-02],\n",
              "          [ 8.77120048e-02, -2.14858558e-02,  7.25544170e-02, ...,\n",
              "           -4.52755094e-02, -4.66804998e-03, -4.31372710e-02],\n",
              "          [ 5.20746522e-02,  1.49440635e-02,  3.96937504e-02, ...,\n",
              "           -5.36106266e-02, -1.37016419e-02, -5.86260855e-02],\n",
              "          ...,\n",
              "          [ 3.53763811e-02, -2.27463041e-02,  5.55787459e-02, ...,\n",
              "            6.13954775e-02, -7.14010373e-02,  5.89026138e-02],\n",
              "          [ 8.76637548e-03, -7.01832473e-02,  6.37201220e-02, ...,\n",
              "           -2.34978572e-02, -1.66722741e-02, -1.63493659e-02],\n",
              "          [ 6.24561682e-02,  6.65657734e-03,  5.99799864e-02, ...,\n",
              "           -6.10299744e-02, -3.46934423e-02, -5.47663607e-02]],\n",
              " \n",
              "         ...,\n",
              " \n",
              "         [[ 5.52496836e-02,  4.33047675e-03,  4.86900061e-02, ...,\n",
              "           -3.23657952e-02,  1.73227955e-02, -5.78723364e-02],\n",
              "          [ 5.10463975e-02, -1.68796200e-02,  7.08758831e-02, ...,\n",
              "           -3.21191773e-02, -2.63532586e-02, -6.62734658e-02],\n",
              "          [ 6.85497001e-02,  5.18562645e-03,  7.33171925e-02, ...,\n",
              "           -4.98644076e-02, -1.39852408e-02, -6.81950897e-02],\n",
              "          ...,\n",
              "          [-5.18707559e-02, -2.61373632e-02,  7.49307685e-03, ...,\n",
              "            4.47549932e-02, -6.65456057e-02,  4.54161316e-02],\n",
              "          [-2.89986935e-02, -4.39820178e-02,  6.55570999e-02, ...,\n",
              "           -2.51839962e-03, -4.69288565e-02, -8.45585391e-03],\n",
              "          [ 8.32988098e-02,  8.45401175e-03,  4.41463888e-02, ...,\n",
              "           -3.07549555e-02, -2.47641467e-02, -5.68177551e-02]],\n",
              " \n",
              "         [[-4.64424863e-02, -8.98945611e-03,  6.84653744e-02, ...,\n",
              "           -6.31997958e-02, -1.19335577e-02, -4.91393581e-02],\n",
              "          [ 5.62237911e-02,  2.53899358e-02,  7.00124502e-02, ...,\n",
              "           -7.05116019e-02, -1.56788416e-02, -6.49397671e-02],\n",
              "          [ 6.12766370e-02, -1.02860704e-02,  4.54040207e-02, ...,\n",
              "           -3.57270278e-02, -1.04266414e-02, -5.12281768e-02],\n",
              "          ...,\n",
              "          [-7.56992027e-02, -7.67129473e-03,  3.97236608e-02, ...,\n",
              "            4.23453338e-02, -4.08733040e-02,  5.32810278e-02],\n",
              "          [-7.41164610e-02, -6.54953420e-02,  3.34949009e-02, ...,\n",
              "           -2.18881145e-02, -4.69683297e-02, -4.56248084e-03],\n",
              "          [ 7.33835623e-02,  1.84506942e-02,  3.40252966e-02, ...,\n",
              "           -6.10716306e-02, -3.18575501e-02, -3.16131078e-02]],\n",
              " \n",
              "         [[ 6.18485594e-03,  1.48290768e-04,  4.35385779e-02, ...,\n",
              "           -5.83648942e-02, -1.09163402e-02, -5.59465140e-02],\n",
              "          [ 5.09633496e-02,  6.33825222e-03,  4.98172976e-02, ...,\n",
              "           -3.71145606e-02, -2.75390670e-02, -7.36570582e-02],\n",
              "          [ 8.09738934e-02, -1.10580139e-02,  6.65272400e-02, ...,\n",
              "           -7.08691180e-02,  1.81839447e-02, -5.05080372e-02],\n",
              "          ...,\n",
              "          [-4.99849021e-02, -4.54059616e-03,  2.15692259e-03, ...,\n",
              "            4.08361740e-02, -6.49774969e-02,  7.52243847e-02],\n",
              "          [-5.83247021e-02, -5.26123419e-02,  5.66796437e-02, ...,\n",
              "           -2.20673699e-02, -2.67265029e-02, -1.82047654e-02],\n",
              "          [ 3.45414355e-02, -7.59472884e-03,  7.22273141e-02, ...,\n",
              "           -3.24298926e-02, -3.44426781e-02, -5.70812896e-02]]],\n",
              " \n",
              " \n",
              "        [[[ 3.60107683e-02,  8.84190761e-03,  3.88323255e-02, ...,\n",
              "           -5.91827072e-02, -8.32902268e-03, -3.02441027e-02],\n",
              "          [ 8.21857080e-02,  7.50208134e-03,  6.45816028e-02, ...,\n",
              "           -4.09465358e-02, -3.71409990e-02, -3.78852561e-02],\n",
              "          [ 5.11258245e-02,  1.00254696e-02,  6.69933781e-02, ...,\n",
              "           -3.33603695e-02, -2.67091449e-02, -6.98587373e-02],\n",
              "          ...,\n",
              "          [ 4.75071333e-02, -3.38077769e-02,  5.53795509e-02, ...,\n",
              "            5.93944900e-02, -7.13360384e-02,  4.93318737e-02],\n",
              "          [ 8.61579925e-02, -6.76144138e-02,  7.61284828e-02, ...,\n",
              "           -2.25197263e-02, -5.04586510e-02, -1.31105445e-02],\n",
              "          [ 7.30258822e-02,  4.23222966e-02,  6.09641708e-02, ...,\n",
              "           -3.98302115e-02, -6.86625689e-02, -2.53328905e-02]],\n",
              " \n",
              "         [[ 4.57267612e-02,  1.02885682e-02,  7.06348345e-02, ...,\n",
              "           -7.03635961e-02,  5.54904202e-03, -3.06791756e-02],\n",
              "          [ 7.46880099e-02,  1.82106700e-02,  6.22196831e-02, ...,\n",
              "           -6.71222284e-02, -1.83837321e-02, -5.29892705e-02],\n",
              "          [ 8.02856982e-02,  1.42871048e-02,  7.25899562e-02, ...,\n",
              "           -6.03674687e-02,  3.61888967e-02, -5.06569743e-02],\n",
              "          ...,\n",
              "          [ 3.79942581e-02, -4.09412421e-02,  5.11849858e-02, ...,\n",
              "            7.92314932e-02, -6.58556819e-02,  5.36604151e-02],\n",
              "          [ 8.12490657e-02, -5.58261089e-02,  5.71883209e-02, ...,\n",
              "           -4.54400629e-02, -6.07642978e-02, -1.21189998e-02],\n",
              "          [ 8.60514045e-02,  9.25772008e-04,  4.65281047e-02, ...,\n",
              "           -6.26911744e-02, -5.05982824e-02, -5.06678484e-02]],\n",
              " \n",
              "         [[ 4.21964079e-02, -1.88056491e-02,  6.57180399e-02, ...,\n",
              "           -4.16583084e-02, -1.55701104e-03, -6.76128715e-02],\n",
              "          [ 6.04408272e-02,  1.44786602e-02,  7.46058449e-02, ...,\n",
              "           -5.95570989e-02,  2.06182692e-02, -5.50257042e-02],\n",
              "          [ 5.68663180e-02, -1.55877825e-02,  6.02454953e-02, ...,\n",
              "           -6.49630204e-02,  2.19255351e-02, -5.33801578e-02],\n",
              "          ...,\n",
              "          [ 4.51938696e-02, -1.91064961e-02,  2.63659898e-02, ...,\n",
              "            7.32451305e-02, -5.92084192e-02,  4.29320782e-02],\n",
              "          [ 3.06644617e-03, -5.63614182e-02,  4.92876768e-02, ...,\n",
              "           -6.38049096e-03, -3.40000093e-02, -1.04785236e-02],\n",
              "          [ 7.68897533e-02, -1.70115139e-02,  5.98492473e-02, ...,\n",
              "           -7.02100843e-02, -6.33004904e-02, -5.86443804e-02]],\n",
              " \n",
              "         ...,\n",
              " \n",
              "         [[ 6.89869821e-02, -6.11422397e-03,  7.28813335e-02, ...,\n",
              "           -5.15085608e-02, -1.30790835e-02, -7.61825666e-02],\n",
              "          [ 4.62040640e-02, -1.66068468e-02,  6.39864132e-02, ...,\n",
              "           -6.28045425e-02, -1.44010186e-02, -7.99779296e-02],\n",
              "          [ 7.81693384e-02, -1.50554832e-02,  6.09053150e-02, ...,\n",
              "           -7.72781447e-02, -2.19394509e-02, -4.84101735e-02],\n",
              "          ...,\n",
              "          [-3.71414237e-02,  1.13120407e-03,  1.81101840e-02, ...,\n",
              "            7.05133379e-02, -3.34807187e-02,  4.81591597e-02],\n",
              "          [-2.35586837e-02, -6.97354004e-02,  4.32028882e-02, ...,\n",
              "           -2.98941899e-02, -3.05079501e-02, -6.91111572e-03],\n",
              "          [ 4.89718691e-02, -3.12675931e-03,  5.94697073e-02, ...,\n",
              "           -3.73466313e-02, -7.18548670e-02, -3.83387618e-02]],\n",
              " \n",
              "         [[ 2.84877373e-03, -4.04719263e-04,  7.71423057e-02, ...,\n",
              "           -7.21404627e-02, -5.54994075e-03, -5.96445613e-02],\n",
              "          [ 6.75651506e-02, -6.52172929e-03,  6.31155819e-02, ...,\n",
              "           -7.09426999e-02, -2.56057153e-03, -7.10009336e-02],\n",
              "          [ 6.10473864e-02, -1.98764093e-02,  3.54839191e-02, ...,\n",
              "           -4.31276672e-02, -1.55761493e-02, -6.99120685e-02],\n",
              "          ...,\n",
              "          [-4.64069583e-02, -8.87950975e-03, -5.65207843e-03, ...,\n",
              "            8.06756392e-02, -4.43509743e-02,  6.45912811e-02],\n",
              "          [-7.25503266e-02, -5.13267703e-02,  3.75406407e-02, ...,\n",
              "           -3.64131518e-02, -5.74448854e-02, -1.13104340e-02],\n",
              "          [ 5.04358001e-02, -9.82483197e-03,  7.49622136e-02, ...,\n",
              "           -5.90739958e-02, -6.86262250e-02, -4.15861048e-02]],\n",
              " \n",
              "         [[ 2.58969702e-02,  1.09552406e-03,  5.75656444e-02, ...,\n",
              "           -5.02540395e-02,  1.41715473e-02, -4.89743203e-02],\n",
              "          [ 8.68939310e-02,  2.82694399e-02,  4.70165871e-02, ...,\n",
              "           -7.19370618e-02, -1.46133928e-02, -7.87159428e-02],\n",
              "          [ 7.09205791e-02,  5.40154986e-03,  7.53553659e-02, ...,\n",
              "           -6.76310360e-02,  1.54940598e-02, -3.46460901e-02],\n",
              "          ...,\n",
              "          [-4.23701331e-02,  1.67975109e-03,  1.04270142e-03, ...,\n",
              "            5.61466329e-02, -4.27106917e-02,  5.63558452e-02],\n",
              "          [-3.47909518e-02, -6.41094744e-02,  4.56941128e-02, ...,\n",
              "           -2.13777348e-02, -5.19825332e-02, -2.04785820e-02],\n",
              "          [ 4.98467088e-02,  1.56051982e-02,  3.87773886e-02, ...,\n",
              "           -3.87448035e-02, -5.39470538e-02, -3.68799306e-02]]],\n",
              " \n",
              " \n",
              "        [[[ 2.75660940e-02, -4.63555194e-03,  6.44643232e-02, ...,\n",
              "           -3.07504572e-02, -1.30294627e-02, -4.11106162e-02],\n",
              "          [ 4.62537557e-02,  2.46194974e-02,  3.91932204e-02, ...,\n",
              "           -3.96010429e-02, -2.49119736e-02, -6.19269386e-02],\n",
              "          [ 5.66720478e-02,  1.47011746e-02,  3.58581655e-02, ...,\n",
              "           -3.91200818e-02,  3.51719721e-03, -6.89088777e-02],\n",
              "          ...,\n",
              "          [ 5.18471673e-02, -3.33324261e-02,  2.92036925e-02, ...,\n",
              "            7.40292743e-02, -4.63527925e-02,  5.06331809e-02],\n",
              "          [ 3.56724747e-02, -5.47548011e-02,  4.01404202e-02, ...,\n",
              "           -1.14557622e-02, -5.14848642e-02, -2.23677959e-02],\n",
              "          [ 5.50426580e-02,  2.75294506e-03,  5.99455610e-02, ...,\n",
              "           -3.75557318e-02, -3.51206772e-02, -4.04815786e-02]],\n",
              " \n",
              "         [[ 4.26631533e-02,  7.93866068e-03,  4.74858433e-02, ...,\n",
              "           -4.66511473e-02, -8.94624181e-03, -3.82011607e-02],\n",
              "          [ 7.53230304e-02,  7.16641545e-03,  5.28591983e-02, ...,\n",
              "           -6.75942972e-02, -3.36456187e-02, -5.50513752e-02],\n",
              "          [ 7.96380639e-02,  7.03533366e-03,  4.85503115e-02, ...,\n",
              "           -6.57021850e-02,  2.23949249e-03, -2.96537001e-02],\n",
              "          ...,\n",
              "          [ 5.59374802e-02, -5.79091758e-02,  1.32491309e-02, ...,\n",
              "            6.28384277e-02, -4.48122472e-02,  6.61606938e-02],\n",
              "          [ 6.03005998e-02, -4.71994095e-02,  6.42137602e-02, ...,\n",
              "           -2.82824468e-02, -5.78082167e-02, -6.22152491e-03],\n",
              "          [ 6.35534823e-02, -5.26917214e-03,  3.52284238e-02, ...,\n",
              "           -5.20798638e-02, -6.10239059e-02, -2.77039185e-02]],\n",
              " \n",
              "         [[ 6.82840273e-02, -1.92881450e-02,  7.35545680e-02, ...,\n",
              "           -6.46153167e-02, -4.61896881e-03, -4.73776795e-02],\n",
              "          [ 6.43409267e-02,  2.76622758e-03,  4.18899581e-02, ...,\n",
              "           -6.11379482e-02,  2.64834147e-02, -4.56386991e-02],\n",
              "          [ 9.04275924e-02, -1.32817598e-02,  6.29634038e-02, ...,\n",
              "           -7.50576705e-02, -6.47102203e-03, -6.32397458e-02],\n",
              "          ...,\n",
              "          [ 3.66791785e-02, -1.83443725e-02, -6.16813218e-03, ...,\n",
              "            6.34473041e-02, -4.16173078e-02,  4.02538031e-02],\n",
              "          [-1.64030492e-02, -4.25904021e-02,  3.95220891e-02, ...,\n",
              "           -1.74868386e-02, -3.46365161e-02, -2.79337242e-02],\n",
              "          [ 6.16063252e-02, -8.19338579e-03,  5.59511557e-02, ...,\n",
              "           -3.67127880e-02, -3.62103768e-02, -3.17433961e-02]],\n",
              " \n",
              "         ...,\n",
              " \n",
              "         [[ 6.14684075e-02,  1.69052370e-03,  7.13171065e-02, ...,\n",
              "           -6.13487549e-02, -3.90488021e-02, -4.88057584e-02],\n",
              "          [ 6.93055168e-02,  2.03950554e-02,  4.28043380e-02, ...,\n",
              "           -4.84969579e-02,  3.54250111e-02, -4.33956720e-02],\n",
              "          [ 6.71984330e-02,  8.85839388e-03,  4.99117933e-02, ...,\n",
              "           -5.95548339e-02, -1.56648587e-02, -5.58802225e-02],\n",
              "          ...,\n",
              "          [-4.82822433e-02, -2.12906953e-02,  1.43197756e-02, ...,\n",
              "            6.90762475e-02, -3.44792902e-02,  5.97042106e-02],\n",
              "          [-3.65071371e-02, -5.98284602e-02,  3.41362618e-02, ...,\n",
              "           -1.48753310e-02, -4.74022217e-02, -2.47812755e-02],\n",
              "          [ 7.25899041e-02, -4.76822443e-03,  5.18351831e-02, ...,\n",
              "           -6.69178963e-02, -5.36429435e-02, -4.02028114e-02]],\n",
              " \n",
              "         [[ 8.85722321e-03,  1.26022678e-02,  6.70532808e-02, ...,\n",
              "           -4.19832841e-02, -1.95419006e-02, -6.10262528e-02],\n",
              "          [ 5.98020032e-02,  1.05435234e-02,  5.15861027e-02, ...,\n",
              "           -7.15077296e-02,  9.85533837e-03, -6.60179481e-02],\n",
              "          [ 6.08504079e-02,  9.37789679e-03,  6.26688153e-02, ...,\n",
              "           -4.63891663e-02, -2.69551668e-02, -3.17487605e-02],\n",
              "          ...,\n",
              "          [-6.40002415e-02, -3.52142565e-02,  7.95578305e-03, ...,\n",
              "            7.45997727e-02, -3.66847664e-02,  8.09186175e-02],\n",
              "          [-4.04006802e-02, -6.88757300e-02,  4.89360690e-02, ...,\n",
              "           -9.60200280e-03, -3.07996962e-02, -2.63895821e-02],\n",
              "          [ 6.60234541e-02, -2.20345543e-03,  6.00585043e-02, ...,\n",
              "           -5.62155694e-02, -4.12498787e-02, -6.03873506e-02]],\n",
              " \n",
              "         [[-1.76763199e-02,  1.96635444e-02,  3.41707356e-02, ...,\n",
              "           -4.33960631e-02,  8.89757834e-03, -4.32322435e-02],\n",
              "          [ 7.71030709e-02, -1.91572716e-03,  5.85983917e-02, ...,\n",
              "           -5.90800084e-02, -1.06504373e-02, -3.72326523e-02],\n",
              "          [ 9.25079435e-02, -7.17934221e-04,  5.49960919e-02, ...,\n",
              "           -5.70229925e-02, -1.99023876e-02, -5.19433655e-02],\n",
              "          ...,\n",
              "          [-7.64957666e-02, -1.02084251e-02,  1.08180633e-02, ...,\n",
              "            4.82284762e-02, -4.04340178e-02,  4.76512238e-02],\n",
              "          [-5.97818643e-02, -4.65667546e-02,  7.48387277e-02, ...,\n",
              "           -1.47578260e-02, -3.28326672e-02, -1.84878260e-02],\n",
              "          [ 5.63161522e-02,  4.57576336e-03,  3.63896750e-02, ...,\n",
              "           -4.16281633e-02, -3.13441083e-02, -5.26752062e-02]]]],\n",
              "       dtype=float32),\n",
              " array([-0.05314615, -0.039511  ,  0.03265726, -0.05728501, -0.06000563,\n",
              "        -0.01865457,  0.05617107, -0.08369721,  0.09270193, -0.06003125,\n",
              "        -0.08928947, -0.07041751, -0.08350699, -0.02910372, -0.09128528,\n",
              "        -0.05654347, -0.06004011, -0.07828066, -0.05789061,  0.07205036,\n",
              "        -0.07104953, -0.08527098,  0.00646079,  0.03971907, -0.06004751,\n",
              "        -0.00761922, -0.07643098, -0.06004196, -0.08266149, -0.06003604,\n",
              "        -0.06741001, -0.06828248, -0.07148612, -0.05894908, -0.05672147,\n",
              "        -0.04404679, -0.04724102, -0.06256654, -0.05980756, -0.08426531,\n",
              "        -0.01148596, -0.08510527, -0.06765784, -0.00966678, -0.03402175,\n",
              "        -0.08422188,  0.07517332, -0.04087311, -0.05322897, -0.06035351,\n",
              "         0.00804391, -0.04744968, -0.05562687, -0.0876485 , -0.05978226,\n",
              "        -0.08050327, -0.05053826, -0.08212974, -0.06004859, -0.05876316,\n",
              "        -0.02537144, -0.05998666, -0.0285327 , -0.06447891,  0.01258923,\n",
              "        -0.01827255, -0.00717093,  0.05604178, -0.07696514, -0.08804293,\n",
              "        -0.05381291, -0.06735515, -0.08687479,  0.09859311, -0.06000949,\n",
              "        -0.0597198 , -0.05996938, -0.05994285, -0.06338742, -0.0600531 ,\n",
              "        -0.0600513 , -0.08112854, -0.03550499, -0.06433618, -0.0692324 ,\n",
              "        -0.08721979, -0.06000031,  0.06442186, -0.06934466, -0.0863421 ,\n",
              "        -0.00685753, -0.0600362 , -0.06174057, -0.04986433, -0.07898702,\n",
              "        -0.02340945, -0.06004782, -0.05982927, -0.06004744, -0.05995432,\n",
              "        -0.06638771, -0.07621028, -0.06003591, -0.0717423 , -0.08016019,\n",
              "        -0.08254323, -0.06005014, -0.0343267 , -0.06002281, -0.09115143,\n",
              "        -0.08995844, -0.05995385, -0.06001075, -0.08552291, -0.07573149,\n",
              "        -0.06002886, -0.06004173, -0.06003829, -0.07540458, -0.07960831,\n",
              "         0.09089254, -0.05941361, -0.02555042, -0.06814948, -0.05820209,\n",
              "        -0.0742503 , -0.05985935, -0.07094191], dtype=float32),\n",
              " array([[ 0.05339507,  0.11589495, -0.22862212, ...,  0.03601152,\n",
              "          0.15712151, -0.13866471],\n",
              "        [ 0.04402548,  0.05141166,  0.10377882, ...,  0.04413144,\n",
              "         -0.04090907,  0.08112742],\n",
              "        [ 0.05223691, -0.02312315,  0.06581232, ...,  0.12587489,\n",
              "         -0.1933371 , -0.24167237],\n",
              "        ...,\n",
              "        [ 0.12719737,  0.2311701 ,  0.02733938, ..., -0.12078504,\n",
              "         -0.08731277,  0.08191696],\n",
              "        [-0.09720326, -0.13913387,  0.09498853, ...,  0.18543354,\n",
              "         -0.14632241,  0.10658278],\n",
              "        [ 0.06898855, -0.0747726 ,  0.08641566, ..., -0.13047619,\n",
              "          0.08965703, -0.07554279]], dtype=float32),\n",
              " array([-0.0773064 , -0.06903544, -0.06962299, -0.04523175, -0.04562213,\n",
              "        -0.04547342, -0.02793496, -0.0530425 , -0.06653657, -0.05346985,\n",
              "        -0.04504045, -0.01724643,  0.        , -0.06005239, -0.07017238,\n",
              "        -0.02689244, -0.07044802, -0.07800078, -0.08925544, -0.06002878,\n",
              "        -0.07103828, -0.07023294, -0.06005193, -0.04560662,  0.02070541,\n",
              "        -0.02089777,  0.05444473, -0.06005235, -0.04432378, -0.04950159,\n",
              "        -0.05117669, -0.05998842, -0.02246139, -0.05837989, -0.09186152,\n",
              "        -0.07015786, -0.024319  , -0.07134921, -0.0491627 , -0.03298639,\n",
              "        -0.03911826, -0.0709206 , -0.04544391, -0.07150817, -0.0318503 ,\n",
              "        -0.07123768, -0.06005275, -0.06711128, -0.06100195, -0.06808216],\n",
              "       dtype=float32),\n",
              " array([[-0.1803348 , -0.10887625, -0.21741529, ..., -0.27635917,\n",
              "          0.14171354, -0.06070975],\n",
              "        [ 0.03781848,  0.00247084,  0.12817504, ..., -0.10654435,\n",
              "         -0.19526675, -0.256774  ],\n",
              "        [-0.1283939 ,  0.1809365 ,  0.04527364, ..., -0.16357285,\n",
              "         -0.10305066, -0.04112834],\n",
              "        ...,\n",
              "        [-0.22718403, -0.24348803,  0.05066137, ..., -0.08478113,\n",
              "         -0.21961842,  0.17986228],\n",
              "        [ 0.07376814, -0.20740265, -0.09893163, ..., -0.02675726,\n",
              "         -0.23350152,  0.01845684],\n",
              "        [-0.11560377,  0.1403527 ,  0.03791176, ..., -0.19561988,\n",
              "         -0.25958228, -0.16937447]], dtype=float32),\n",
              " array([ 0.0381984 , -0.08108006, -0.08398051, -0.05878715, -0.08850536,\n",
              "        -0.09149794, -0.09414884, -0.0894069 , -0.11233357, -0.07201244,\n",
              "        -0.07307417, -0.07473646, -0.09353312, -0.12409268, -0.11240897,\n",
              "        -0.09099893, -0.06642903, -0.07935194, -0.00414375, -0.10981719,\n",
              "        -0.09895172, -0.10100293, -0.07475062, -0.00148229, -0.07269603,\n",
              "        -0.11219773, -0.09649263, -0.07119122, -0.09276775, -0.0491627 ,\n",
              "        -0.1120619 , -0.05777814, -0.1062644 , -0.10121215, -0.10852163,\n",
              "        -0.09049629, -0.09775139, -0.084365  , -0.12278428, -0.10693307,\n",
              "        -0.05512853, -0.07028081, -0.08689373, -0.08272719, -0.09404378,\n",
              "        -0.10754926, -0.064224  , -0.05444567, -0.09317217, -0.10762864],\n",
              "       dtype=float32),\n",
              " array([[-0.02183783, -0.04326245,  0.02954925, ..., -0.12423648,\n",
              "          0.0202746 , -0.08341341],\n",
              "        [-0.04866078, -0.05207786,  0.02518599, ..., -0.03991572,\n",
              "          0.05904676, -0.02921888],\n",
              "        [ 0.03450712, -0.04097387,  0.06456305, ..., -0.06218637,\n",
              "         -0.05464261, -0.06428577],\n",
              "        ...,\n",
              "        [-0.03799717, -0.01565421,  0.06818853, ..., -0.01127754,\n",
              "         -0.00068839, -0.00124116],\n",
              "        [-0.04336288,  0.06030082,  0.05323879, ..., -0.07110805,\n",
              "         -0.06435181, -0.06966721],\n",
              "        [-0.03993313, -0.03096416, -0.05242131, ..., -0.05009452,\n",
              "         -0.04779422, -0.06487301]], dtype=float32),\n",
              " array([ 0.1858333 ,  0.12273888, -0.18106207, -0.21451713, -0.1645333 ,\n",
              "        -0.19690634, -0.22806914, -0.05190928, -0.23411855, -0.21390922,\n",
              "        -0.21775131, -0.26388374, -0.2331993 , -0.2270574 , -0.16956876],\n",
              "       dtype=float32)]"
            ]
          },
          "metadata": {
            "tags": []
          },
          "execution_count": 9
        }
      ]
    },
    {
      "cell_type": "code",
      "metadata": {
        "colab": {
          "base_uri": "https://localhost:8080/"
        },
        "id": "XLAMYlia1yRI",
        "outputId": "1cbfe868-ae4a-4168-bbfe-4029cc771fab"
      },
      "source": [
        "loaded_model.compile(optimizer = keras.optimizers.Adam(learning_rate=0.01),loss = \"categorical_crossentropy\",metrics=[\"accuracy\"])\n",
        "scores = loaded_model.evaluate(X_test_scale,y_test)\n",
        "scores"
      ],
      "execution_count": 15,
      "outputs": [
        {
          "output_type": "stream",
          "text": [
            "13/13 [==============================] - 172s 13s/step - loss: 1.6428 - accuracy: 0.7875\n"
          ],
          "name": "stdout"
        },
        {
          "output_type": "execute_result",
          "data": {
            "text/plain": [
              "[1.642764687538147, 0.7875000238418579]"
            ]
          },
          "metadata": {
            "tags": []
          },
          "execution_count": 15
        }
      ]
    },
    {
      "cell_type": "code",
      "metadata": {
        "colab": {
          "base_uri": "https://localhost:8080/"
        },
        "id": "brtedx_q14QJ",
        "outputId": "a9a4773d-0c3a-4f48-8642-ae8c94ca534e"
      },
      "source": [
        "test_loss = scores[0]\n",
        "test_acc = scores[1] * 100.00\n",
        "print(f\"Test loss for this model is {test_loss:.4f}\")\n",
        "print(f\"Test accuracy for this model is {test_acc:.2f}%\")"
      ],
      "execution_count": 16,
      "outputs": [
        {
          "output_type": "stream",
          "text": [
            "Test loss for this model is 1.6428\n",
            "Test accuracy for this model is 78.75%\n"
          ],
          "name": "stdout"
        }
      ]
    },
    {
      "cell_type": "code",
      "metadata": {
        "colab": {
          "base_uri": "https://localhost:8080/"
        },
        "id": "XnbGCJxOAfTY",
        "outputId": "ec76a4e1-ae7a-47e3-d164-0bfbe885244f"
      },
      "source": [
        "y_preds = []\n",
        "for i in tqdm(range(X_test_scale.shape[0])):\n",
        "  sample = np.array([X_test_scale[i]])\n",
        "  pred = loaded_model.predict(sample,batch_size=1)\n",
        "  y_preds.append(pred)"
      ],
      "execution_count": 38,
      "outputs": [
        {
          "output_type": "stream",
          "text": [
            "100%|██████████| 400/400 [03:22<00:00,  1.97it/s]\n"
          ],
          "name": "stderr"
        }
      ]
    },
    {
      "cell_type": "code",
      "metadata": {
        "colab": {
          "base_uri": "https://localhost:8080/"
        },
        "id": "R8iuXyZdH-fe",
        "outputId": "7c1bb43b-c2a1-4469-b542-eb486197edc1"
      },
      "source": [
        "y_preds[:10]"
      ],
      "execution_count": 55,
      "outputs": [
        {
          "output_type": "execute_result",
          "data": {
            "text/plain": [
              "[array([[0.2622013 , 0.07376506, 0.06627221, 0.06078904, 0.07993132,\n",
              "         0.05633578, 0.05824793, 0.07443701, 0.05118865, 0.05245964,\n",
              "         0.04368248, 0.03538108, 0.03510309, 0.02934745, 0.020858  ]],\n",
              "       dtype=float32),\n",
              " array([[0.2622013 , 0.07376506, 0.06627221, 0.06078904, 0.07993132,\n",
              "         0.05633578, 0.05824793, 0.07443701, 0.05118865, 0.05245964,\n",
              "         0.04368248, 0.03538108, 0.03510309, 0.02934745, 0.020858  ]],\n",
              "       dtype=float32),\n",
              " array([[0.2622013 , 0.07376506, 0.06627221, 0.06078904, 0.07993132,\n",
              "         0.05633578, 0.05824793, 0.07443701, 0.05118865, 0.05245964,\n",
              "         0.04368248, 0.03538108, 0.03510309, 0.02934745, 0.020858  ]],\n",
              "       dtype=float32),\n",
              " array([[0.2622013 , 0.07376506, 0.06627221, 0.06078904, 0.07993132,\n",
              "         0.05633578, 0.05824793, 0.07443701, 0.05118865, 0.05245964,\n",
              "         0.04368248, 0.03538108, 0.03510309, 0.02934745, 0.020858  ]],\n",
              "       dtype=float32),\n",
              " array([[0.2622013 , 0.07376506, 0.06627221, 0.06078904, 0.07993132,\n",
              "         0.05633578, 0.05824793, 0.07443701, 0.05118865, 0.05245964,\n",
              "         0.04368248, 0.03538108, 0.03510309, 0.02934745, 0.020858  ]],\n",
              "       dtype=float32),\n",
              " array([[0.2622013 , 0.07376506, 0.06627221, 0.06078904, 0.07993132,\n",
              "         0.05633578, 0.05824793, 0.07443701, 0.05118865, 0.05245964,\n",
              "         0.04368248, 0.03538108, 0.03510309, 0.02934745, 0.020858  ]],\n",
              "       dtype=float32),\n",
              " array([[0.2622013 , 0.07376506, 0.06627221, 0.06078904, 0.07993132,\n",
              "         0.05633578, 0.05824793, 0.07443701, 0.05118865, 0.05245964,\n",
              "         0.04368248, 0.03538108, 0.03510309, 0.02934745, 0.020858  ]],\n",
              "       dtype=float32),\n",
              " array([[0.2622013 , 0.07376506, 0.06627221, 0.06078904, 0.07993132,\n",
              "         0.05633578, 0.05824793, 0.07443701, 0.05118865, 0.05245964,\n",
              "         0.04368248, 0.03538108, 0.03510309, 0.02934745, 0.020858  ]],\n",
              "       dtype=float32),\n",
              " array([[0.2622013 , 0.07376506, 0.06627221, 0.06078904, 0.07993132,\n",
              "         0.05633578, 0.05824793, 0.07443701, 0.05118865, 0.05245964,\n",
              "         0.04368248, 0.03538108, 0.03510309, 0.02934745, 0.020858  ]],\n",
              "       dtype=float32),\n",
              " array([[0.2622013 , 0.07376506, 0.06627221, 0.06078904, 0.07993132,\n",
              "         0.05633578, 0.05824793, 0.07443701, 0.05118865, 0.05245964,\n",
              "         0.04368248, 0.03538108, 0.03510309, 0.02934745, 0.020858  ]],\n",
              "       dtype=float32)]"
            ]
          },
          "metadata": {
            "tags": []
          },
          "execution_count": 55
        }
      ]
    },
    {
      "cell_type": "code",
      "metadata": {
        "colab": {
          "base_uri": "https://localhost:8080/"
        },
        "id": "UImKYFAjIBSe",
        "outputId": "a06cc621-8001-48b0-d3b9-55611e414d7c"
      },
      "source": [
        "y_preds_final = np.array(y_preds)[:,0,:]\n",
        "y_preds_final.shape"
      ],
      "execution_count": 59,
      "outputs": [
        {
          "output_type": "execute_result",
          "data": {
            "text/plain": [
              "(400, 15)"
            ]
          },
          "metadata": {
            "tags": []
          },
          "execution_count": 59
        }
      ]
    },
    {
      "cell_type": "code",
      "metadata": {
        "colab": {
          "base_uri": "https://localhost:8080/"
        },
        "id": "EKPnrAzqJtkH",
        "outputId": "b203209d-6171-4238-d471-1c9e10538975"
      },
      "source": [
        "y_preds_final"
      ],
      "execution_count": 75,
      "outputs": [
        {
          "output_type": "execute_result",
          "data": {
            "text/plain": [
              "array([[0.2622013 , 0.07376506, 0.06627221, ..., 0.03510309, 0.02934745,\n",
              "        0.020858  ],\n",
              "       [0.2622013 , 0.07376506, 0.06627221, ..., 0.03510309, 0.02934745,\n",
              "        0.020858  ],\n",
              "       [0.2622013 , 0.07376506, 0.06627221, ..., 0.03510309, 0.02934745,\n",
              "        0.020858  ],\n",
              "       ...,\n",
              "       [0.2622013 , 0.07376506, 0.06627221, ..., 0.03510309, 0.02934745,\n",
              "        0.020858  ],\n",
              "       [0.2622013 , 0.07376506, 0.06627221, ..., 0.03510309, 0.02934745,\n",
              "        0.020858  ],\n",
              "       [0.2622013 , 0.07376506, 0.06627221, ..., 0.03510309, 0.02934745,\n",
              "        0.020858  ]], dtype=float32)"
            ]
          },
          "metadata": {
            "tags": []
          },
          "execution_count": 75
        }
      ]
    },
    {
      "cell_type": "code",
      "metadata": {
        "colab": {
          "base_uri": "https://localhost:8080/",
          "height": 621
        },
        "id": "lwEv-IpPGYNw",
        "outputId": "4b88f2d1-93eb-4ba0-d2e9-42256fe4b543"
      },
      "source": [
        "roc_auc_vals = get_roc_curve(y_test,y_preds_final)"
      ],
      "execution_count": 74,
      "outputs": [
        {
          "output_type": "display_data",
          "data": {
            "image/png": "[encoded data removed]",
            "text/plain": [
              "<Figure size 720x720 with 1 Axes>"
            ]
          },
          "metadata": {
            "tags": [],
            "needs_background": "light"
          }
        }
      ]
    },
    {
      "cell_type": "markdown",
      "metadata": {
        "id": "A0EFazdMKWpW"
      },
      "source": [
        "## **DenseNet Training**"
      ]
    },
    {
      "cell_type": "code",
      "metadata": {
        "colab": {
          "base_uri": "https://localhost:8080/",
          "height": 241
        },
        "id": "9o7D0oIbRGbo",
        "outputId": "6b7fc5b1-2135-463b-c94a-53ed32884395"
      },
      "source": [
        "df = pd.read_csv(\"csv files/no_sampling_index_csv/added_paths_PA.csv\")\n",
        "df.head()"
      ],
      "execution_count": 3,
      "outputs": [
        {
          "output_type": "execute_result",
          "data": {
            "text/html": [
              "<div>\n",
              "<style scoped>\n",
              "    .dataframe tbody tr th:only-of-type {\n",
              "        vertical-align: middle;\n",
              "    }\n",
              "\n",
              "    .dataframe tbody tr th {\n",
              "        vertical-align: top;\n",
              "    }\n",
              "\n",
              "    .dataframe thead th {\n",
              "        text-align: right;\n",
              "    }\n",
              "</style>\n",
              "<table border=\"1\" class=\"dataframe\">\n",
              "  <thead>\n",
              "    <tr style=\"text-align: right;\">\n",
              "      <th></th>\n",
              "      <th>Image Index</th>\n",
              "      <th>Finding Labels</th>\n",
              "      <th>Follow-up #</th>\n",
              "      <th>Patient ID</th>\n",
              "      <th>Patient Age</th>\n",
              "      <th>Patient Gender</th>\n",
              "      <th>View Position</th>\n",
              "      <th>OriginalImage[Width</th>\n",
              "      <th>Height]</th>\n",
              "      <th>OriginalImagePixelSpacing[x</th>\n",
              "      <th>y]</th>\n",
              "      <th>full_path</th>\n",
              "    </tr>\n",
              "  </thead>\n",
              "  <tbody>\n",
              "    <tr>\n",
              "      <th>0</th>\n",
              "      <td>00000001_000.png</td>\n",
              "      <td>Cardiomegaly</td>\n",
              "      <td>0</td>\n",
              "      <td>1</td>\n",
              "      <td>58</td>\n",
              "      <td>M</td>\n",
              "      <td>PA</td>\n",
              "      <td>2682</td>\n",
              "      <td>2749</td>\n",
              "      <td>0.143</td>\n",
              "      <td>0.143</td>\n",
              "      <td>images/images1/00000001_000.png</td>\n",
              "    </tr>\n",
              "    <tr>\n",
              "      <th>1</th>\n",
              "      <td>00000001_001.png</td>\n",
              "      <td>Cardiomegaly</td>\n",
              "      <td>1</td>\n",
              "      <td>1</td>\n",
              "      <td>58</td>\n",
              "      <td>M</td>\n",
              "      <td>PA</td>\n",
              "      <td>2894</td>\n",
              "      <td>2729</td>\n",
              "      <td>0.143</td>\n",
              "      <td>0.143</td>\n",
              "      <td>images/images1/00000001_001.png</td>\n",
              "    </tr>\n",
              "    <tr>\n",
              "      <th>2</th>\n",
              "      <td>00000001_001.png</td>\n",
              "      <td>Emphysema</td>\n",
              "      <td>1</td>\n",
              "      <td>1</td>\n",
              "      <td>58</td>\n",
              "      <td>M</td>\n",
              "      <td>PA</td>\n",
              "      <td>2894</td>\n",
              "      <td>2729</td>\n",
              "      <td>0.143</td>\n",
              "      <td>0.143</td>\n",
              "      <td>images/images1/00000001_001.png</td>\n",
              "    </tr>\n",
              "    <tr>\n",
              "      <th>3</th>\n",
              "      <td>00000001_002.png</td>\n",
              "      <td>Effusion</td>\n",
              "      <td>2</td>\n",
              "      <td>1</td>\n",
              "      <td>58</td>\n",
              "      <td>M</td>\n",
              "      <td>PA</td>\n",
              "      <td>2500</td>\n",
              "      <td>2048</td>\n",
              "      <td>0.168</td>\n",
              "      <td>0.168</td>\n",
              "      <td>images/images1/00000001_002.png</td>\n",
              "    </tr>\n",
              "    <tr>\n",
              "      <th>4</th>\n",
              "      <td>00000001_002.png</td>\n",
              "      <td>Cardiomegaly</td>\n",
              "      <td>2</td>\n",
              "      <td>1</td>\n",
              "      <td>58</td>\n",
              "      <td>M</td>\n",
              "      <td>PA</td>\n",
              "      <td>2500</td>\n",
              "      <td>2048</td>\n",
              "      <td>0.168</td>\n",
              "      <td>0.168</td>\n",
              "      <td>images/images1/00000001_002.png</td>\n",
              "    </tr>\n",
              "  </tbody>\n",
              "</table>\n",
              "</div>"
            ],
            "text/plain": [
              "        Image Index Finding Labels  ...     y]                        full_path\n",
              "0  00000001_000.png   Cardiomegaly  ...  0.143  images/images1/00000001_000.png\n",
              "1  00000001_001.png   Cardiomegaly  ...  0.143  images/images1/00000001_001.png\n",
              "2  00000001_001.png      Emphysema  ...  0.143  images/images1/00000001_001.png\n",
              "3  00000001_002.png       Effusion  ...  0.168  images/images1/00000001_002.png\n",
              "4  00000001_002.png   Cardiomegaly  ...  0.168  images/images1/00000001_002.png\n",
              "\n",
              "[5 rows x 12 columns]"
            ]
          },
          "metadata": {
            "tags": []
          },
          "execution_count": 3
        }
      ]
    },
    {
      "cell_type": "code",
      "metadata": {
        "id": "IUqTvaIwRt4o"
      },
      "source": [
        "df_final = df[df['Finding Labels']!= 'No Finding']"
      ],
      "execution_count": 4,
      "outputs": []
    },
    {
      "cell_type": "code",
      "metadata": {
        "colab": {
          "base_uri": "https://localhost:8080/",
          "height": 241
        },
        "id": "WjyKdEJ-RzjX",
        "outputId": "8fdcfe28-a004-42b9-9dcb-0e9495778654"
      },
      "source": [
        "df_final.head()"
      ],
      "execution_count": 5,
      "outputs": [
        {
          "output_type": "execute_result",
          "data": {
            "text/html": [
              "<div>\n",
              "<style scoped>\n",
              "    .dataframe tbody tr th:only-of-type {\n",
              "        vertical-align: middle;\n",
              "    }\n",
              "\n",
              "    .dataframe tbody tr th {\n",
              "        vertical-align: top;\n",
              "    }\n",
              "\n",
              "    .dataframe thead th {\n",
              "        text-align: right;\n",
              "    }\n",
              "</style>\n",
              "<table border=\"1\" class=\"dataframe\">\n",
              "  <thead>\n",
              "    <tr style=\"text-align: right;\">\n",
              "      <th></th>\n",
              "      <th>Image Index</th>\n",
              "      <th>Finding Labels</th>\n",
              "      <th>Follow-up #</th>\n",
              "      <th>Patient ID</th>\n",
              "      <th>Patient Age</th>\n",
              "      <th>Patient Gender</th>\n",
              "      <th>View Position</th>\n",
              "      <th>OriginalImage[Width</th>\n",
              "      <th>Height]</th>\n",
              "      <th>OriginalImagePixelSpacing[x</th>\n",
              "      <th>y]</th>\n",
              "      <th>full_path</th>\n",
              "    </tr>\n",
              "  </thead>\n",
              "  <tbody>\n",
              "    <tr>\n",
              "      <th>0</th>\n",
              "      <td>00000001_000.png</td>\n",
              "      <td>Cardiomegaly</td>\n",
              "      <td>0</td>\n",
              "      <td>1</td>\n",
              "      <td>58</td>\n",
              "      <td>M</td>\n",
              "      <td>PA</td>\n",
              "      <td>2682</td>\n",
              "      <td>2749</td>\n",
              "      <td>0.143</td>\n",
              "      <td>0.143</td>\n",
              "      <td>images/images1/00000001_000.png</td>\n",
              "    </tr>\n",
              "    <tr>\n",
              "      <th>1</th>\n",
              "      <td>00000001_001.png</td>\n",
              "      <td>Cardiomegaly</td>\n",
              "      <td>1</td>\n",
              "      <td>1</td>\n",
              "      <td>58</td>\n",
              "      <td>M</td>\n",
              "      <td>PA</td>\n",
              "      <td>2894</td>\n",
              "      <td>2729</td>\n",
              "      <td>0.143</td>\n",
              "      <td>0.143</td>\n",
              "      <td>images/images1/00000001_001.png</td>\n",
              "    </tr>\n",
              "    <tr>\n",
              "      <th>2</th>\n",
              "      <td>00000001_001.png</td>\n",
              "      <td>Emphysema</td>\n",
              "      <td>1</td>\n",
              "      <td>1</td>\n",
              "      <td>58</td>\n",
              "      <td>M</td>\n",
              "      <td>PA</td>\n",
              "      <td>2894</td>\n",
              "      <td>2729</td>\n",
              "      <td>0.143</td>\n",
              "      <td>0.143</td>\n",
              "      <td>images/images1/00000001_001.png</td>\n",
              "    </tr>\n",
              "    <tr>\n",
              "      <th>3</th>\n",
              "      <td>00000001_002.png</td>\n",
              "      <td>Effusion</td>\n",
              "      <td>2</td>\n",
              "      <td>1</td>\n",
              "      <td>58</td>\n",
              "      <td>M</td>\n",
              "      <td>PA</td>\n",
              "      <td>2500</td>\n",
              "      <td>2048</td>\n",
              "      <td>0.168</td>\n",
              "      <td>0.168</td>\n",
              "      <td>images/images1/00000001_002.png</td>\n",
              "    </tr>\n",
              "    <tr>\n",
              "      <th>4</th>\n",
              "      <td>00000001_002.png</td>\n",
              "      <td>Cardiomegaly</td>\n",
              "      <td>2</td>\n",
              "      <td>1</td>\n",
              "      <td>58</td>\n",
              "      <td>M</td>\n",
              "      <td>PA</td>\n",
              "      <td>2500</td>\n",
              "      <td>2048</td>\n",
              "      <td>0.168</td>\n",
              "      <td>0.168</td>\n",
              "      <td>images/images1/00000001_002.png</td>\n",
              "    </tr>\n",
              "  </tbody>\n",
              "</table>\n",
              "</div>"
            ],
            "text/plain": [
              "        Image Index Finding Labels  ...     y]                        full_path\n",
              "0  00000001_000.png   Cardiomegaly  ...  0.143  images/images1/00000001_000.png\n",
              "1  00000001_001.png   Cardiomegaly  ...  0.143  images/images1/00000001_001.png\n",
              "2  00000001_001.png      Emphysema  ...  0.143  images/images1/00000001_001.png\n",
              "3  00000001_002.png       Effusion  ...  0.168  images/images1/00000001_002.png\n",
              "4  00000001_002.png   Cardiomegaly  ...  0.168  images/images1/00000001_002.png\n",
              "\n",
              "[5 rows x 12 columns]"
            ]
          },
          "metadata": {
            "tags": []
          },
          "execution_count": 5
        }
      ]
    },
    {
      "cell_type": "code",
      "metadata": {
        "colab": {
          "base_uri": "https://localhost:8080/"
        },
        "id": "C_KaL0KZSGEI",
        "outputId": "cff95e33-3683-4efa-973f-bf05c5cfb79e"
      },
      "source": [
        "df.shape"
      ],
      "execution_count": 6,
      "outputs": [
        {
          "output_type": "execute_result",
          "data": {
            "text/plain": [
              "(20259, 12)"
            ]
          },
          "metadata": {
            "tags": []
          },
          "execution_count": 6
        }
      ]
    },
    {
      "cell_type": "code",
      "metadata": {
        "colab": {
          "base_uri": "https://localhost:8080/"
        },
        "id": "dq4N7mA0SH0I",
        "outputId": "e80fe538-aa84-4c6c-8cde-6143ac3ebc84"
      },
      "source": [
        "df_final.shape"
      ],
      "execution_count": 7,
      "outputs": [
        {
          "output_type": "execute_result",
          "data": {
            "text/plain": [
              "(8698, 12)"
            ]
          },
          "metadata": {
            "tags": []
          },
          "execution_count": 7
        }
      ]
    },
    {
      "cell_type": "code",
      "metadata": {
        "colab": {
          "base_uri": "https://localhost:8080/"
        },
        "id": "-CO_pFosSLNw",
        "outputId": "e1b82dc5-b933-4775-bf15-a4024b5eb870"
      },
      "source": [
        "train, validate, test = np.split(df_final.sample(frac=1), [int(.6*len(df_final)), int(.8*len(df_final))])\n",
        "print(train)\n",
        "train.to_csv(\"csv files/no_sampling_index_csv/train_df_DenseNet.csv\", sep=',',index=False)\n",
        "validate.to_csv(\"csv files/no_sampling_index_csv/valid_df_DenseNet.csv\",sep=',',index=False)\n",
        "test.to_csv(\"csv files/no_sampling_index_csv/test_df_DenseNet.csv\",sep=',',index=False)\n",
        "print(validate)\n",
        "print(test)"
      ],
      "execution_count": 8,
      "outputs": [
        {
          "output_type": "stream",
          "text": [
            "            Image Index  ...                         full_path\n",
            "19425  00028019_000.png  ...  images/images11/00028019_000.png\n",
            "1975   00001718_010.png  ...   images/images2/00001718_010.png\n",
            "9466   00010872_007.png  ...   images/images5/00010872_007.png\n",
            "11675  00013862_002.png  ...   images/images7/00013862_002.png\n",
            "19529  00028324_001.png  ...  images/images12/00028324_001.png\n",
            "...                 ...  ...                               ...\n",
            "1804   00001561_001.png  ...   images/images2/00001561_001.png\n",
            "488    00000370_010.png  ...   images/images1/00000370_010.png\n",
            "10186  00011969_001.png  ...   images/images6/00011969_001.png\n",
            "10265  00012061_007.png  ...   images/images6/00012061_007.png\n",
            "12300  00014791_000.png  ...   images/images7/00014791_000.png\n",
            "\n",
            "[5218 rows x 12 columns]\n",
            "            Image Index  ...                         full_path\n",
            "7262   00007904_000.png  ...   images/images4/00007904_000.png\n",
            "6172   00006055_002.png  ...   images/images3/00006055_002.png\n",
            "10346  00012178_001.png  ...   images/images6/00012178_001.png\n",
            "5312   00004625_008.png  ...   images/images3/00004625_008.png\n",
            "7216   00007865_001.png  ...   images/images4/00007865_001.png\n",
            "...                 ...  ...                               ...\n",
            "16720  00021807_000.png  ...  images/images10/00021807_000.png\n",
            "19146  00027266_001.png  ...  images/images11/00027266_001.png\n",
            "13244  00016417_002.png  ...   images/images8/00016417_002.png\n",
            "19757  00028899_002.png  ...  images/images12/00028899_002.png\n",
            "17479  00023027_001.png  ...  images/images10/00023027_001.png\n",
            "\n",
            "[1740 rows x 12 columns]\n",
            "            Image Index  ...                         full_path\n",
            "10511  00012306_001.png  ...   images/images6/00012306_001.png\n",
            "18456  00025816_000.png  ...  images/images11/00025816_000.png\n",
            "15478  00019896_001.png  ...   images/images9/00019896_001.png\n",
            "1420   00001158_002.png  ...   images/images1/00001158_002.png\n",
            "18260  00025457_000.png  ...  images/images11/00025457_000.png\n",
            "...                 ...  ...                               ...\n",
            "13709  00017188_000.png  ...   images/images8/00017188_000.png\n",
            "13176  00016283_000.png  ...   images/images8/00016283_000.png\n",
            "9884   00011516_000.png  ...   images/images5/00011516_000.png\n",
            "14294  00018105_003.png  ...   images/images8/00018105_003.png\n",
            "6285   00006254_001.png  ...   images/images3/00006254_001.png\n",
            "\n",
            "[1740 rows x 12 columns]\n"
          ],
          "name": "stdout"
        }
      ]
    },
    {
      "cell_type": "code",
      "metadata": {
        "colab": {
          "base_uri": "https://localhost:8080/"
        },
        "id": "8R8J5GGfTBpt",
        "outputId": "8d1026b2-4b9e-41c1-ad9d-d3c9906fd9ce"
      },
      "source": [
        "!ls \"csv files/no_sampling_index_csv/\""
      ],
      "execution_count": 10,
      "outputs": [
        {
          "output_type": "stream",
          "text": [
            "added_paths_PA.csv  df_PA.csv\t\t  train_df_DenseNet.csv\n",
            "df_AP.csv\t    test_df_DenseNet.csv  valid_df_DenseNet.csv\n"
          ],
          "name": "stdout"
        }
      ]
    },
    {
      "cell_type": "code",
      "metadata": {
        "id": "YXq-3U_qTMz7"
      },
      "source": [
        "labels = ['Cardiomegaly', \n",
        "          'Emphysema', \n",
        "          'Effusion', \n",
        "          'Hernia', \n",
        "          'Infiltration', \n",
        "          'Mass', \n",
        "          'Nodule', \n",
        "          'Atelectasis',\n",
        "          'Pneumothorax',\n",
        "          'Pleural_Thickening', \n",
        "          'Pneumonia', \n",
        "          'Fibrosis', \n",
        "          'Edema', \n",
        "          'Consolidation']"
      ],
      "execution_count": 12,
      "outputs": []
    },
    {
      "cell_type": "code",
      "metadata": {
        "colab": {
          "base_uri": "https://localhost:8080/"
        },
        "id": "-jUurwhyYEmc",
        "outputId": "b944f85c-1c78-4bd8-b6bb-428b021d8404"
      },
      "source": [
        "MAPPER = dict(zip(labels,range(0,14)))\n",
        "MAPPER"
      ],
      "execution_count": 90,
      "outputs": [
        {
          "output_type": "execute_result",
          "data": {
            "text/plain": [
              "{'Atelectasis': 7,\n",
              " 'Cardiomegaly': 0,\n",
              " 'Consolidation': 13,\n",
              " 'Edema': 12,\n",
              " 'Effusion': 2,\n",
              " 'Emphysema': 1,\n",
              " 'Fibrosis': 11,\n",
              " 'Hernia': 3,\n",
              " 'Infiltration': 4,\n",
              " 'Mass': 5,\n",
              " 'Nodule': 6,\n",
              " 'Pleural_Thickening': 9,\n",
              " 'Pneumonia': 10,\n",
              " 'Pneumothorax': 8}"
            ]
          },
          "metadata": {
            "tags": []
          },
          "execution_count": 90
        }
      ]
    },
    {
      "cell_type": "code",
      "metadata": {
        "colab": {
          "base_uri": "https://localhost:8080/"
        },
        "id": "1P0gZQYFYXZE",
        "outputId": "79b60dc7-f198-4922-9bce-d7ef5e3c70c6"
      },
      "source": [
        "opp_MAPPER = dict(zip(range(0,14),labels))\n",
        "opp_MAPPER"
      ],
      "execution_count": 46,
      "outputs": [
        {
          "output_type": "execute_result",
          "data": {
            "text/plain": [
              "{0: 'Cardiomegaly',\n",
              " 1: 'Emphysema',\n",
              " 2: 'Effusion',\n",
              " 3: 'Hernia',\n",
              " 4: 'Infiltration',\n",
              " 5: 'Mass',\n",
              " 6: 'Nodule',\n",
              " 7: 'Atelectasis',\n",
              " 8: 'Pneumothorax',\n",
              " 9: 'Pleural_Thickening',\n",
              " 10: 'Pneumonia',\n",
              " 11: 'Fibrosis',\n",
              " 12: 'Edema',\n",
              " 13: 'Consolidation'}"
            ]
          },
          "metadata": {
            "tags": []
          },
          "execution_count": 46
        }
      ]
    },
    {
      "cell_type": "code",
      "metadata": {
        "id": "v7uvVxOGTNhS"
      },
      "source": [
        "from keras.preprocessing.image import ImageDataGenerator\n",
        "IMG_SIZE = (128, 128)\n",
        "core_idg = ImageDataGenerator(samplewise_center=True, \n",
        "                              samplewise_std_normalization=True, \n",
        "                              horizontal_flip = True, \n",
        "                              vertical_flip = False, \n",
        "                              height_shift_range= 0.05, \n",
        "                              width_shift_range=0.1, \n",
        "                              rotation_range=5, \n",
        "                              shear_range = 0.1,\n",
        "                              fill_mode = 'reflect',\n",
        "                              zoom_range=0.15)"
      ],
      "execution_count": 13,
      "outputs": []
    },
    {
      "cell_type": "code",
      "metadata": {
        "id": "qZ_XonH7Tlea"
      },
      "source": [
        "def get_train_generator(df, image_dir, x_col, y_cols, shuffle=True, batch_size=8, seed=1, target_w = 320, target_h = 320):\n",
        "    \"\"\"\n",
        "    Return generator for training set, normalizing using batch\n",
        "    statistics.\n",
        "\n",
        "    Args:\n",
        "      train_df (dataframe): dataframe specifying training data.\n",
        "      image_dir (str): directory where image files are held.\n",
        "      x_col (str): name of column in df that holds filenames.\n",
        "      y_cols (list): list of strings that hold y labels for images.\n",
        "      batch_size (int): images per batch to be fed into model during training.\n",
        "      seed (int): random seed.\n",
        "      target_w (int): final width of input images.\n",
        "      target_h (int): final height of input images.\n",
        "    \n",
        "    Returns:\n",
        "        train_generator (DataFrameIterator): iterator over training set\n",
        "    \"\"\"        \n",
        "    print(\"getting train generator...\") \n",
        "    # normalize images\n",
        "    image_generator = ImageDataGenerator(\n",
        "        samplewise_center=True,\n",
        "        samplewise_std_normalization= True)\n",
        "    \n",
        "    # flow from directory with specified batch size\n",
        "    # and target image size\n",
        "    generator = image_generator.flow_from_dataframe(\n",
        "            dataframe=df,\n",
        "            directory=image_dir,\n",
        "            x_col=x_col,\n",
        "            y_col=y_cols,\n",
        "            class_mode=\"raw\",\n",
        "            batch_size=batch_size,\n",
        "            shuffle=shuffle,\n",
        "            seed=seed,\n",
        "            target_size=(target_w,target_h))\n",
        "    \n",
        "    return generator\n",
        "\n",
        "def get_test_and_valid_generator(valid_df, test_df, train_df, image_dir, x_col, y_cols, sample_size=100, batch_size=8, seed=1, target_w = 320, target_h = 320):\n",
        "    \"\"\"\n",
        "    Return generator for validation set and test test set using \n",
        "    normalization statistics from training set.\n",
        "\n",
        "    Args:\n",
        "      valid_df (dataframe): dataframe specifying validation data.\n",
        "      test_df (dataframe): dataframe specifying test data.\n",
        "      train_df (dataframe): dataframe specifying training data.\n",
        "      image_dir (str): directory where image files are held.\n",
        "      x_col (str): name of column in df that holds filenames.\n",
        "      y_cols (list): list of strings that hold y labels for images.\n",
        "      sample_size (int): size of sample to use for normalization statistics.\n",
        "      batch_size (int): images per batch to be fed into model during training.\n",
        "      seed (int): random seed.\n",
        "      target_w (int): final width of input images.\n",
        "      target_h (int): final height of input images.\n",
        "    \n",
        "    Returns:\n",
        "        test_generator (DataFrameIterator) and valid_generator: iterators over test set and validation set respectively\n",
        "    \"\"\"\n",
        "    print(\"getting train and valid generators...\")\n",
        "    # get generator to sample dataset\n",
        "    raw_train_generator = ImageDataGenerator().flow_from_dataframe(\n",
        "        dataframe=train_df, \n",
        "        directory=image_dir, \n",
        "        x_col=x_col, \n",
        "        y_col=y_cols, \n",
        "        class_mode=\"raw\", \n",
        "        batch_size=sample_size, \n",
        "        shuffle=True, \n",
        "        target_size=(target_w, target_h))\n",
        "    \n",
        "    # get data sample\n",
        "    batch = raw_train_generator.next()\n",
        "    data_sample = batch[0]\n",
        "\n",
        "    # use sample to fit mean and std for test set generator\n",
        "    image_generator = ImageDataGenerator(\n",
        "        featurewise_center=True,\n",
        "        featurewise_std_normalization= True)\n",
        "    \n",
        "    # fit generator to sample from training data\n",
        "    image_generator.fit(data_sample)\n",
        "\n",
        "    # get test generator\n",
        "    valid_generator = image_generator.flow_from_dataframe(\n",
        "            dataframe=valid_df,\n",
        "            directory=image_dir,\n",
        "            x_col=x_col,\n",
        "            y_col=y_cols,\n",
        "            class_mode=\"raw\",\n",
        "            batch_size=batch_size,\n",
        "            shuffle=False,\n",
        "            seed=seed,\n",
        "            target_size=(target_w,target_h))\n",
        "\n",
        "    test_generator = image_generator.flow_from_dataframe(\n",
        "            dataframe=test_df,\n",
        "            directory=image_dir,\n",
        "            x_col=x_col,\n",
        "            y_col=y_cols,\n",
        "            class_mode=\"raw\",\n",
        "            batch_size=batch_size,\n",
        "            shuffle=False,\n",
        "            seed=seed,\n",
        "            target_size=(target_w,target_h))\n",
        "    return valid_generator, test_generator"
      ],
      "execution_count": 30,
      "outputs": []
    },
    {
      "cell_type": "code",
      "metadata": {
        "colab": {
          "base_uri": "https://localhost:8080/"
        },
        "id": "Wn8wW8rSTrkR",
        "outputId": "a01c529d-2776-4049-e513-7ae0b0b786d4"
      },
      "source": [
        "train_generator = get_train_generator(train, None, \"full_path\", \"Finding Labels\",target_w=128,target_h=128)\n",
        "valid_generator, test_generator= get_test_and_valid_generator(validate,test,train,None,\"full_path\",\"Finding Labels\",target_h=128,target_w=128)"
      ],
      "execution_count": 31,
      "outputs": [
        {
          "output_type": "stream",
          "text": [
            "getting train generator...\n",
            "Found 5218 validated image filenames.\n",
            "getting train and valid generators...\n",
            "Found 5218 validated image filenames.\n",
            "Found 1740 validated image filenames.\n",
            "Found 1740 validated image filenames.\n"
          ],
          "name": "stdout"
        }
      ]
    },
    {
      "cell_type": "code",
      "metadata": {
        "id": "gBzOMoSWM6kz"
      },
      "source": [
        "def get_weighted_loss(pos_weights, neg_weights, epsilon=1e-7):\n",
        "    \"\"\"\n",
        "    Return weighted loss function given negative weights and positive weights.\n",
        "\n",
        "    Args:\n",
        "      pos_weights (np.array): array of positive weights for each class, size (num_classes)\n",
        "      neg_weights (np.array): array of negative weights for each class, size (num_classes)\n",
        "    \n",
        "    Returns:\n",
        "      weighted_loss (function): weighted loss function\n",
        "    \"\"\"\n",
        "    def weighted_loss(y_true, y_pred):\n",
        "        \"\"\"\n",
        "        Return weighted loss value. \n",
        "\n",
        "        Args:\n",
        "            y_true (Tensor): Tensor of true labels, size is (num_examples, num_classes)\n",
        "            y_pred (Tensor): Tensor of predicted labels, size is (num_examples, num_classes)\n",
        "        Returns:\n",
        "            loss (Float): overall scalar loss summed across all classes\n",
        "        \"\"\"\n",
        "        # initialize loss to zero\n",
        "        loss = 0.0\n",
        "        \n",
        "        ### START CODE HERE (REPLACE INSTANCES OF 'None' with your code) ###\n",
        "\n",
        "        for i in range(len(pos_weights)):\n",
        "            # for each class, add average weighted loss for that class \n",
        "            loss_pos = -1 * K.mean(pos_weights[i] * y_true[:, i] * K.log(y_pred[:, i] + epsilon))\n",
        "            loss_neg = -1 * K.mean(neg_weights[i] * (1 - y_true[:, i]) * K.log(1 - y_pred[:, i] + epsilon))\n",
        "            loss += loss_pos + loss_neg\n",
        "            #complete this line\n",
        "        return loss\n",
        "    \n",
        "        ### END CODE HERE ###\n",
        "    return weighted_loss"
      ],
      "execution_count": 32,
      "outputs": []
    },
    {
      "cell_type": "code",
      "metadata": {
        "colab": {
          "base_uri": "https://localhost:8080/"
        },
        "id": "6QIUiJAtW35Q",
        "outputId": "a0c77d3f-3228-4099-fed9-5f4a8f8c866c"
      },
      "source": [
        "train_generator.labels"
      ],
      "execution_count": 36,
      "outputs": [
        {
          "output_type": "execute_result",
          "data": {
            "text/plain": [
              "array(['Nodule', 'Atelectasis', 'Nodule', ..., 'Pneumothorax',\n",
              "       'Atelectasis', 'Effusion'], dtype=object)"
            ]
          },
          "metadata": {
            "tags": []
          },
          "execution_count": 36
        }
      ]
    },
    {
      "cell_type": "code",
      "metadata": {
        "colab": {
          "base_uri": "https://localhost:8080/"
        },
        "id": "Yd0-oYzWX5Q-",
        "outputId": "33dd5208-2391-49ae-c450-c2f909c9601f"
      },
      "source": [
        "all_labels = train['Finding Labels'].map(lambda x: MAPPER[x])\n",
        "all_labels"
      ],
      "execution_count": 41,
      "outputs": [
        {
          "output_type": "execute_result",
          "data": {
            "text/plain": [
              "19425    6\n",
              "1975     7\n",
              "9466     6\n",
              "11675    7\n",
              "19529    5\n",
              "        ..\n",
              "1804     8\n",
              "488      4\n",
              "10186    8\n",
              "10265    7\n",
              "12300    2\n",
              "Name: Finding Labels, Length: 5218, dtype: int64"
            ]
          },
          "metadata": {
            "tags": []
          },
          "execution_count": 41
        }
      ]
    },
    {
      "cell_type": "code",
      "metadata": {
        "colab": {
          "base_uri": "https://localhost:8080/"
        },
        "id": "TObHhX_AdZRE",
        "outputId": "fcf0ffd7-6a3c-4a95-ccba-c2ec1db64177"
      },
      "source": [
        "test_labels = test['Finding Labels'].map(lambda x: MAPPER[x])\n",
        "test_labels"
      ],
      "execution_count": 52,
      "outputs": [
        {
          "output_type": "execute_result",
          "data": {
            "text/plain": [
              "10511    7\n",
              "18456    7\n",
              "15478    4\n",
              "1420     5\n",
              "18260    4\n",
              "        ..\n",
              "13709    2\n",
              "13176    4\n",
              "9884     0\n",
              "14294    4\n",
              "6285     9\n",
              "Name: Finding Labels, Length: 1740, dtype: int64"
            ]
          },
          "metadata": {
            "tags": []
          },
          "execution_count": 52
        }
      ]
    },
    {
      "cell_type": "code",
      "metadata": {
        "colab": {
          "base_uri": "https://localhost:8080/"
        },
        "id": "ddBr-p0xM7fX",
        "outputId": "6e27332f-db76-4626-c3df-6f202288febe"
      },
      "source": [
        "def compute_class_freqs(val_labels):\n",
        "    \"\"\"\n",
        "    Compute positive and negative frequences for each class.\n",
        "\n",
        "    Args:\n",
        "        labels (np.array): matrix of labels, size (num_examples, num_classes)\n",
        "    Returns:\n",
        "        positive_frequencies (np.array): array of positive frequences for each\n",
        "                                         class, size (num_classes)\n",
        "        negative_frequencies (np.array): array of negative frequences for each\n",
        "                                         class, size (num_classes)\n",
        "    \"\"\"\n",
        "    ### START CODE HERE (REPLACE INSTANCES OF 'None' with your code) ###\n",
        "    \n",
        "    # total number of patients (rows)\n",
        "    N = val_labels.shape[0]\n",
        "    \n",
        "    positive_frequencies = np.sum(val_labels, axis = 0) / N\n",
        "    negative_frequencies = 1- positive_frequencies\n",
        "\n",
        "    ### END CODE HERE ###\n",
        "    return positive_frequencies, negative_frequencies\n",
        "\n",
        "freq_pos, freq_neg = compute_class_freqs(all_labels)\n",
        "freq_pos"
      ],
      "execution_count": 42,
      "outputs": [
        {
          "output_type": "execute_result",
          "data": {
            "text/plain": [
              "5.577041011881947"
            ]
          },
          "metadata": {
            "tags": []
          },
          "execution_count": 42
        }
      ]
    },
    {
      "cell_type": "code",
      "metadata": {
        "id": "ERoNLT4UNC7Y"
      },
      "source": [
        "pos_weights = freq_neg\n",
        "neg_weights = freq_pos\n",
        "pos_contribution = freq_pos * pos_weights \n",
        "neg_contribution = freq_neg * neg_weights"
      ],
      "execution_count": 43,
      "outputs": []
    },
    {
      "cell_type": "code",
      "metadata": {
        "id": "spR5bCW2HTHv"
      },
      "source": [
        "# create the base pre-trained model\n",
        "base_model = keras.applications.DenseNet121(weights='bin_files/DenseNet/densenet.hdf5', include_top=False)\n",
        "\n",
        "x = base_model.output\n",
        "\n",
        "# add a global spatial average pooling layer\n",
        "x = keras.layers.GlobalAveragePooling2D()(x)\n",
        "\n",
        "# and a logistic layer\n",
        "predictions = keras.layers.Dense(len(opp_MAPPER.keys()), activation=\"softmax\")(x)\n",
        "\n",
        "model = keras.models.Model(inputs=base_model.input, outputs=predictions)\n",
        "model.compile(optimizer='adam', loss=get_weighted_loss(pos_weights, neg_weights))"
      ],
      "execution_count": 47,
      "outputs": []
    },
    {
      "cell_type": "code",
      "metadata": {
        "id": "vfmx_3hdMDwx"
      },
      "source": [
        "model.load_weights(\"bin_files/DenseNet/pretrained_model.h5\")"
      ],
      "execution_count": 48,
      "outputs": []
    },
    {
      "cell_type": "code",
      "metadata": {
        "id": "e-Eo7UP8PX_c"
      },
      "source": [
        "predicted_vals = model.predict(test_generator,test_generator.labels)"
      ],
      "execution_count": 68,
      "outputs": []
    },
    {
      "cell_type": "code",
      "metadata": {
        "colab": {
          "base_uri": "https://localhost:8080/"
        },
        "id": "i-wXosntfGjj",
        "outputId": "62c6d6e1-9900-4382-c87e-c87d10985e92"
      },
      "source": [
        "predicted_vals[:10]"
      ],
      "execution_count": 69,
      "outputs": [
        {
          "output_type": "execute_result",
          "data": {
            "text/plain": [
              "array([[9.52579733e-03, 2.21162057e-03, 7.01585831e-03, 2.86504835e-01,\n",
              "        5.44746220e-02, 9.17463154e-02, 8.96246210e-02, 1.25940397e-01,\n",
              "        1.49723666e-03, 2.16767453e-02, 2.14600995e-01, 2.92140935e-02,\n",
              "        6.14912016e-03, 5.98177649e-02],\n",
              "       [1.89222250e-04, 3.14855343e-03, 3.84406885e-04, 6.14496410e-01,\n",
              "        1.32518606e-02, 2.79674493e-02, 1.97657682e-02, 2.35203534e-01,\n",
              "        2.19590100e-03, 1.10847848e-02, 2.51062699e-02, 3.77573371e-02,\n",
              "        2.30739388e-05, 9.42548551e-03],\n",
              "       [1.79263065e-03, 6.65722974e-03, 2.39591138e-03, 5.89822114e-01,\n",
              "        1.75088942e-02, 4.40367758e-02, 3.36871110e-02, 1.51161641e-01,\n",
              "        1.79888995e-03, 2.39576809e-02, 5.34613766e-02, 5.59940599e-02,\n",
              "        6.51448907e-04, 1.70741659e-02],\n",
              "       [6.04047409e-06, 1.58894097e-03, 4.23925521e-05, 6.38945401e-01,\n",
              "        5.05105243e-04, 2.24857673e-01, 1.02390207e-01, 1.18803456e-02,\n",
              "        1.28745582e-04, 5.71095897e-03, 2.74889008e-03, 1.02695012e-02,\n",
              "        4.61676473e-06, 9.21191473e-04],\n",
              "       [2.26598643e-02, 8.87500960e-03, 1.69586763e-02, 2.53030062e-01,\n",
              "        5.30577973e-02, 1.54003516e-01, 8.25893357e-02, 5.62122427e-02,\n",
              "        6.59798644e-03, 4.72343825e-02, 1.45880178e-01, 6.36527911e-02,\n",
              "        7.47420266e-03, 8.17739293e-02],\n",
              "       [1.09112659e-03, 9.78686009e-03, 2.43976805e-03, 5.04568160e-01,\n",
              "        2.08219849e-02, 1.02235727e-01, 5.10031395e-02, 7.95361623e-02,\n",
              "        3.72984516e-03, 3.35877724e-02, 5.36190681e-02, 1.14074185e-01,\n",
              "        6.36627607e-04, 2.28695814e-02],\n",
              "       [3.53689347e-06, 7.10034966e-01, 1.86522375e-04, 9.82913598e-02,\n",
              "        6.61636936e-04, 7.63836782e-03, 2.08548713e-03, 3.06041120e-03,\n",
              "        1.08978108e-01, 2.48499252e-02, 7.11906294e-04, 4.23672125e-02,\n",
              "        1.38391279e-05, 1.11672585e-03],\n",
              "       [2.02568658e-02, 7.17926174e-02, 6.31094873e-02, 1.02226511e-01,\n",
              "        5.56247830e-02, 5.96627370e-02, 6.34875447e-02, 3.77584919e-02,\n",
              "        8.20135698e-02, 8.06784555e-02, 8.31592008e-02, 1.29080430e-01,\n",
              "        3.34033556e-02, 1.17746010e-01],\n",
              "       [2.56033352e-04, 1.76501588e-03, 4.22352721e-04, 6.91270649e-01,\n",
              "        8.96859076e-03, 6.21632896e-02, 2.69803666e-02, 1.30643532e-01,\n",
              "        8.64122470e-04, 1.11459661e-02, 2.91612707e-02, 2.67228447e-02,\n",
              "        3.60325139e-05, 9.59997345e-03],\n",
              "       [5.41250873e-03, 9.54746176e-03, 1.59199521e-01, 1.79103419e-01,\n",
              "        4.98227701e-02, 4.41789888e-02, 4.27025072e-02, 2.15370506e-01,\n",
              "        2.64457781e-02, 2.22227015e-02, 1.00831255e-01, 3.70453633e-02,\n",
              "        7.97707867e-03, 1.00140184e-01]], dtype=float32)"
            ]
          },
          "metadata": {
            "tags": []
          },
          "execution_count": 69
        }
      ]
    },
    {
      "cell_type": "code",
      "metadata": {
        "colab": {
          "base_uri": "https://localhost:8080/"
        },
        "id": "Era5jI69w_Hb",
        "outputId": "bca4db56-02ca-456e-adc2-da5d61270365"
      },
      "source": [
        "true_label = get_one_hot_stuff(test_generator.labels,MAPPER)"
      ],
      "execution_count": 111,
      "outputs": [
        {
          "output_type": "stream",
          "text": [
            "(1740, 14)\n"
          ],
          "name": "stdout"
        }
      ]
    },
    {
      "cell_type": "code",
      "metadata": {
        "colab": {
          "base_uri": "https://localhost:8080/"
        },
        "id": "ZxuKzplIxi-b",
        "outputId": "cea42e7e-021a-4049-a28c-f0b936777224"
      },
      "source": [
        "true_label[:10]"
      ],
      "execution_count": 114,
      "outputs": [
        {
          "output_type": "execute_result",
          "data": {
            "text/plain": [
              "array([[0., 0., 0., 0., 0., 0., 0., 1., 0., 0., 0., 0., 0., 0.],\n",
              "       [0., 0., 0., 0., 0., 0., 0., 1., 0., 0., 0., 0., 0., 0.],\n",
              "       [0., 0., 0., 0., 1., 0., 0., 0., 0., 0., 0., 0., 0., 0.],\n",
              "       [0., 0., 0., 0., 0., 1., 0., 0., 0., 0., 0., 0., 0., 0.],\n",
              "       [0., 0., 0., 0., 1., 0., 0., 0., 0., 0., 0., 0., 0., 0.],\n",
              "       [0., 0., 0., 0., 0., 0., 0., 0., 1., 0., 0., 0., 0., 0.],\n",
              "       [0., 0., 0., 0., 0., 0., 0., 0., 0., 1., 0., 0., 0., 0.],\n",
              "       [0., 0., 1., 0., 0., 0., 0., 0., 0., 0., 0., 0., 0., 0.],\n",
              "       [0., 0., 0., 0., 0., 0., 1., 0., 0., 0., 0., 0., 0., 0.],\n",
              "       [0., 0., 1., 0., 0., 0., 0., 0., 0., 0., 0., 0., 0., 0.]])"
            ]
          },
          "metadata": {
            "tags": []
          },
          "execution_count": 114
        }
      ]
    },
    {
      "cell_type": "code",
      "metadata": {
        "colab": {
          "base_uri": "https://localhost:8080/",
          "height": 621
        },
        "id": "6Acbs8y6YhJT",
        "outputId": "6c5936ba-5574-4f3a-e163-24ad8f223d53"
      },
      "source": [
        "auc_rocs = get_roc_curve_again(labels,predicted_vals,true_label)"
      ],
      "execution_count": 115,
      "outputs": [
        {
          "output_type": "display_data",
          "data": {
            "image/png": "[encoded data removed]",
            "text/plain": [
              "<Figure size 720x720 with 1 Axes>"
            ]
          },
          "metadata": {
            "tags": [],
            "needs_background": "light"
          }
        }
      ]
    }
  ]
}