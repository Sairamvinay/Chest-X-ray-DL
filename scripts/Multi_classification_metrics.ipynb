{
  "nbformat": 4,
  "nbformat_minor": 0,
  "metadata": {
    "colab": {
      "name": "Multi_classification_metrics.ipynb",
      "provenance": []
    },
    "kernelspec": {
      "name": "python3",
      "display_name": "Python 3"
    }
  },
  "cells": [
    {
      "cell_type": "code",
      "metadata": {
        "id": "cUiCXOng1F03"
      },
      "source": [
        "from sklearn.metrics import roc_curve, f1_score\n",
        "import seaborn as sn\n",
        "import matplotlib.pyplot as plt\n",
        "\n",
        "\n",
        "def roc_curve(figsize=(10,10), n_class=2, class_names=[], y_test=[],y_score=[]):\n",
        "# https://scikit-learn.org/stable/modules/generated/sklearn.metrics.roc_curve.html\n",
        "  TPR,FPR = [],[]\n",
        "  roc_auc = []\n",
        "  for i in range(n_class):\n",
        "    FPR[i],TPR[i],thresholds = roc_curve(y_test[:,i],y_score[:,i])\n",
        "    roc_auc[i] = auc(FPR[i],TPR[i])\n",
        "    plt.figure(figsize=figsize)\n",
        "    plt.plot(FPR[i],TPR[i],label='auc: '+str(roc_auc[i]))\n",
        "    plt.plot([0,1],[0,1],linestyle='--')\n",
        "    plt.xlim([0.0,1.0])\n",
        "    plt.xlabel('FPR')\n",
        "    plt.ylim([0.0,1.0])\n",
        "    plt.ylabel('TPR')\n",
        "    plt.title('ROC for: '+class_names[i])\n",
        "    plt.show()\n",
        "\n",
        "\n",
        "def F1_score(y_true,y_pred,class_names):\n",
        "  f1 = {}\n",
        "  map(lambda i,x:f1.update({class_names[i]:x}),enumerate(f1_score(y_true,y_pred,average=None)))\n",
        "  return f1\n",
        "\n",
        "  \n",
        "\n",
        "\n",
        "\n",
        "\n",
        "\n",
        "  \n",
        "\n",
        "\n",
        "  "
      ],
      "execution_count": 9,
      "outputs": []
    }
  ]
}