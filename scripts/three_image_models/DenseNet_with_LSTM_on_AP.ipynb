{
  "nbformat": 4,
  "nbformat_minor": 0,
  "metadata": {
    "colab": {
      "name": "Modelling.ipynb",
      "provenance": [],
      "collapsed_sections": [
        "x13esZjyw3Mj",
        "mcbM1LrR4WvJ",
        "pHJov9LoBkQU",
        "FxNsK_kOBkQW",
        "RKZ57rXrBkQW",
        "eFZeg3UT4noA",
        "H1EfLGPN_7z1",
        "3oqpcs47AAvs",
        "KuMBXE4BAEWI",
        "cSzRNf-rHO7E",
        "2OOfE6FjHXpu",
        "kXL1qk3IDfeh"
      ]
    },
    "kernelspec": {
      "name": "python3",
      "display_name": "Python 3"
    },
    "accelerator": "TPU"
  },
  "cells": [
    {
      "cell_type": "code",
      "metadata": {
        "colab": {
          "base_uri": "https://localhost:8080/"
        },
        "id": "Bq3fw2RCpixC",
        "outputId": "deb109f1-f5d1-473a-da68-b0d8f33bf4e4"
      },
      "source": [
        "import pandas as pd\n",
        "import keras\n",
        "import numpy as np\n",
        "import os\n",
        "from tqdm import tqdm\n",
        "from time import time\n",
        "from sklearn.metrics import roc_curve,roc_auc_score,f1_score,accuracy_score,precision_recall_curve,auc\n",
        "from sklearn.svm import SVC\n",
        "from sklearn.model_selection import train_test_split,KFold\n",
        "import matplotlib.pyplot as plt\n",
        "import matplotlib.image as mpimg\n",
        "import seaborn as sns\n",
        "from collections import Counter,defaultdict\n",
        "from PIL import Image,ImageOps\n",
        "import glob \n",
        "import cv2\n",
        "import pickle\n",
        "try:\n",
        "  # Use the %tensorflow_version magic if in colab.\n",
        "  %tensorflow_version 1.x\n",
        "except Exception:\n",
        "  pass"
      ],
      "execution_count": 1,
      "outputs": [
        {
          "output_type": "stream",
          "text": [
            "TensorFlow is already loaded. Please restart the runtime to change versions.\n"
          ],
          "name": "stdout"
        }
      ]
    },
    {
      "cell_type": "code",
      "metadata": {
        "colab": {
          "base_uri": "https://localhost:8080/"
        },
        "id": "gyL8QAaqWCFs",
        "outputId": "51660eaa-9717-4acf-fae4-380cdad00306"
      },
      "source": [
        "from google.colab import drive\n",
        "drive.mount('/content/drive')"
      ],
      "execution_count": 2,
      "outputs": [
        {
          "output_type": "stream",
          "text": [
            "Mounted at /content/drive\n"
          ],
          "name": "stdout"
        }
      ]
    },
    {
      "cell_type": "markdown",
      "metadata": {
        "id": "VU1J5WWJvnPY"
      },
      "source": [
        "PIPELINE\n",
        "\n",
        "1. Load in the pickle files which contain images (DONE)\n",
        "2. Load in the CSVs for train/test/val (DONE)\n",
        "3. Create the output labels (the One Hot Encoded versions) (DONE)\n",
        "\n",
        "4. Rescale into [0,1] range\n",
        "5. Model the problem\n",
        "\n",
        "  a. 3 input tensors\n",
        "\n",
        "  b. DENSENET/MOBILENET layer\n",
        "\n",
        "  c. Flatten layer\n",
        "\n",
        "  d. LSTM Layer\n",
        "\n",
        "  e. Sigmoid Layer\n",
        "\n",
        "\n",
        "6. Plot the Loss/Accuracy plots\n",
        "7. Plot the ROC plots per class (investigate the F1 score also)"
      ]
    },
    {
      "cell_type": "markdown",
      "metadata": {
        "id": "x13esZjyw3Mj"
      },
      "source": [
        "# **Load images and get the outputs: X,y creation**"
      ]
    },
    {
      "cell_type": "code",
      "metadata": {
        "colab": {
          "base_uri": "https://localhost:8080/"
        },
        "id": "Dw_5DudexcBu",
        "outputId": "24c96522-f563-458d-c7c6-df10f9311df6"
      },
      "source": [
        "!ls"
      ],
      "execution_count": 3,
      "outputs": [
        {
          "output_type": "stream",
          "text": [
            "drive  sample_data\n"
          ],
          "name": "stdout"
        }
      ]
    },
    {
      "cell_type": "code",
      "metadata": {
        "colab": {
          "base_uri": "https://localhost:8080/"
        },
        "id": "qXXe1QeOxe7r",
        "outputId": "fe4d0f0e-7a53-4da0-dc60-bda6b134913f"
      },
      "source": [
        "os.chdir(\"/content/drive/Shared drives/ECS 289G Deep Learning Project/Project/Datasets/\")\n",
        "!pwd"
      ],
      "execution_count": 4,
      "outputs": [
        {
          "output_type": "stream",
          "text": [
            "/content/drive/Shared drives/ECS 289G Deep Learning Project/Project/Datasets\n"
          ],
          "name": "stdout"
        }
      ]
    },
    {
      "cell_type": "code",
      "metadata": {
        "colab": {
          "base_uri": "https://localhost:8080/"
        },
        "id": "X2bd0tXvxiZW",
        "outputId": "db507202-a979-4179-abea-f8b63390c33b"
      },
      "source": [
        "!ls"
      ],
      "execution_count": 5,
      "outputs": [
        {
          "output_type": "stream",
          "text": [
            " bin_files\t\t\t        images_pickled\n",
            "'csv files'\t\t\t        images_zip_files\n",
            " Data_Entry_2017_v2020.gsheet\t       'Process NIH Dataset Details.ipynb'\n",
            "'Filter and Create Sample Sets.ipynb'  'Sample Set Images.ipynb'\n",
            " images\n"
          ],
          "name": "stdout"
        }
      ]
    },
    {
      "cell_type": "code",
      "metadata": {
        "colab": {
          "base_uri": "https://localhost:8080/"
        },
        "id": "TQdwmdAdDVES",
        "outputId": "6a87c327-882d-4fc6-bc59-0e5bf7867456"
      },
      "source": [
        "classes = ['No Finding','Infiltration',\n",
        "           'Effusion','Atelectasis','Nodule', 'Mass',\n",
        "           'Pleural_Thickening','Fibrosis','Pneumothorax',\n",
        "           'Cardiomegaly','Consolidation','Emphysema',\n",
        "           'Pneumonia','Hernia','Edema']\n",
        "\n",
        "mapper = dict(zip(classes, range(0,len(classes))))\n",
        "mapper"
      ],
      "execution_count": 6,
      "outputs": [
        {
          "output_type": "execute_result",
          "data": {
            "text/plain": [
              "{'Atelectasis': 3,\n",
              " 'Cardiomegaly': 9,\n",
              " 'Consolidation': 10,\n",
              " 'Edema': 14,\n",
              " 'Effusion': 2,\n",
              " 'Emphysema': 11,\n",
              " 'Fibrosis': 7,\n",
              " 'Hernia': 13,\n",
              " 'Infiltration': 1,\n",
              " 'Mass': 5,\n",
              " 'No Finding': 0,\n",
              " 'Nodule': 4,\n",
              " 'Pleural_Thickening': 6,\n",
              " 'Pneumonia': 12,\n",
              " 'Pneumothorax': 8}"
            ]
          },
          "metadata": {
            "tags": []
          },
          "execution_count": 6
        }
      ]
    },
    {
      "cell_type": "code",
      "metadata": {
        "id": "NmI14FsfC3uz"
      },
      "source": [
        "def one_hot_encode(y,num_classes= 15):\n",
        "  num_samples = len(y)\n",
        "  y_final = np.zeros((num_samples,num_classes))\n",
        "  for i,label in enumerate(y):\n",
        "    y_final[i][mapper[label]] = 1\n",
        "  \n",
        "  return y_final"
      ],
      "execution_count": 7,
      "outputs": []
    },
    {
      "cell_type": "markdown",
      "metadata": {
        "id": "mcbM1LrR4WvJ"
      },
      "source": [
        "## **PA**"
      ]
    },
    {
      "cell_type": "markdown",
      "metadata": {
        "id": "pHJov9LoBkQU"
      },
      "source": [
        "### **Train X,y**"
      ]
    },
    {
      "cell_type": "code",
      "metadata": {
        "colab": {
          "base_uri": "https://localhost:8080/"
        },
        "id": "k0-FrrFPBkQV",
        "outputId": "1e2f2815-c81f-4ec4-ff9b-c54c4ada1bed"
      },
      "source": [
        "with open(\"images_pickled/all_PA_files/PA_images.pkl\",'rb') as f:\n",
        "  PA_imgs = pickle.load(f)\n",
        "\n",
        "len(PA_imgs)"
      ],
      "execution_count": null,
      "outputs": [
        {
          "output_type": "execute_result",
          "data": {
            "text/plain": [
              "12151"
            ]
          },
          "metadata": {
            "tags": []
          },
          "execution_count": 7
        }
      ]
    },
    {
      "cell_type": "code",
      "metadata": {
        "colab": {
          "base_uri": "https://localhost:8080/",
          "height": 456
        },
        "id": "u5SQSEdtBkQV",
        "outputId": "b8a7a1b6-8b4b-4d09-8967-c56f7fdb8f10"
      },
      "source": [
        "train_pa = pd.read_csv(\"/content/drive/Shareddrives/ECS 289G Deep Learning Project/Project/Datasets/csv files/with_sampling_index_csv/PA_train.csv\")\n",
        "train_pa"
      ],
      "execution_count": null,
      "outputs": [
        {
          "output_type": "execute_result",
          "data": {
            "text/html": [
              "<div>\n",
              "<style scoped>\n",
              "    .dataframe tbody tr th:only-of-type {\n",
              "        vertical-align: middle;\n",
              "    }\n",
              "\n",
              "    .dataframe tbody tr th {\n",
              "        vertical-align: top;\n",
              "    }\n",
              "\n",
              "    .dataframe thead th {\n",
              "        text-align: right;\n",
              "    }\n",
              "</style>\n",
              "<table border=\"1\" class=\"dataframe\">\n",
              "  <thead>\n",
              "    <tr style=\"text-align: right;\">\n",
              "      <th></th>\n",
              "      <th>Image Index</th>\n",
              "      <th>Finding Labels</th>\n",
              "      <th>Follow-up #</th>\n",
              "      <th>Patient ID</th>\n",
              "      <th>Patient Age</th>\n",
              "      <th>Patient Gender</th>\n",
              "      <th>View Position</th>\n",
              "      <th>OriginalImage[Width</th>\n",
              "      <th>Height]</th>\n",
              "      <th>OriginalImagePixelSpacing[x</th>\n",
              "      <th>y]</th>\n",
              "      <th>Sample #</th>\n",
              "      <th>full_path</th>\n",
              "    </tr>\n",
              "  </thead>\n",
              "  <tbody>\n",
              "    <tr>\n",
              "      <th>0</th>\n",
              "      <td>00000001_000.png</td>\n",
              "      <td>Cardiomegaly</td>\n",
              "      <td>0</td>\n",
              "      <td>1</td>\n",
              "      <td>58</td>\n",
              "      <td>M</td>\n",
              "      <td>PA</td>\n",
              "      <td>2682</td>\n",
              "      <td>2749</td>\n",
              "      <td>0.143000</td>\n",
              "      <td>0.143000</td>\n",
              "      <td>1</td>\n",
              "      <td>images/images1/00000001_000.png</td>\n",
              "    </tr>\n",
              "    <tr>\n",
              "      <th>1</th>\n",
              "      <td>00000001_001.png</td>\n",
              "      <td>Cardiomegaly|Emphysema</td>\n",
              "      <td>1</td>\n",
              "      <td>1</td>\n",
              "      <td>58</td>\n",
              "      <td>M</td>\n",
              "      <td>PA</td>\n",
              "      <td>2894</td>\n",
              "      <td>2729</td>\n",
              "      <td>0.143000</td>\n",
              "      <td>0.143000</td>\n",
              "      <td>1</td>\n",
              "      <td>images/images1/00000001_001.png</td>\n",
              "    </tr>\n",
              "    <tr>\n",
              "      <th>2</th>\n",
              "      <td>00000001_002.png</td>\n",
              "      <td>Effusion</td>\n",
              "      <td>2</td>\n",
              "      <td>1</td>\n",
              "      <td>58</td>\n",
              "      <td>M</td>\n",
              "      <td>PA</td>\n",
              "      <td>2500</td>\n",
              "      <td>2048</td>\n",
              "      <td>0.168000</td>\n",
              "      <td>0.168000</td>\n",
              "      <td>1</td>\n",
              "      <td>images/images1/00000001_002.png</td>\n",
              "    </tr>\n",
              "    <tr>\n",
              "      <th>3</th>\n",
              "      <td>00000001_000.png</td>\n",
              "      <td>Cardiomegaly</td>\n",
              "      <td>0</td>\n",
              "      <td>1</td>\n",
              "      <td>58</td>\n",
              "      <td>M</td>\n",
              "      <td>PA</td>\n",
              "      <td>2682</td>\n",
              "      <td>2749</td>\n",
              "      <td>0.143000</td>\n",
              "      <td>0.143000</td>\n",
              "      <td>2</td>\n",
              "      <td>images/images1/00000001_000.png</td>\n",
              "    </tr>\n",
              "    <tr>\n",
              "      <th>4</th>\n",
              "      <td>00000001_001.png</td>\n",
              "      <td>Cardiomegaly|Emphysema</td>\n",
              "      <td>1</td>\n",
              "      <td>1</td>\n",
              "      <td>58</td>\n",
              "      <td>M</td>\n",
              "      <td>PA</td>\n",
              "      <td>2894</td>\n",
              "      <td>2729</td>\n",
              "      <td>0.143000</td>\n",
              "      <td>0.143000</td>\n",
              "      <td>2</td>\n",
              "      <td>images/images1/00000001_001.png</td>\n",
              "    </tr>\n",
              "    <tr>\n",
              "      <th>...</th>\n",
              "      <td>...</td>\n",
              "      <td>...</td>\n",
              "      <td>...</td>\n",
              "      <td>...</td>\n",
              "      <td>...</td>\n",
              "      <td>...</td>\n",
              "      <td>...</td>\n",
              "      <td>...</td>\n",
              "      <td>...</td>\n",
              "      <td>...</td>\n",
              "      <td>...</td>\n",
              "      <td>...</td>\n",
              "      <td>...</td>\n",
              "    </tr>\n",
              "    <tr>\n",
              "      <th>17521</th>\n",
              "      <td>00030068_002.png</td>\n",
              "      <td>Effusion</td>\n",
              "      <td>2</td>\n",
              "      <td>30068</td>\n",
              "      <td>59</td>\n",
              "      <td>F</td>\n",
              "      <td>PA</td>\n",
              "      <td>1841</td>\n",
              "      <td>2020</td>\n",
              "      <td>0.194311</td>\n",
              "      <td>0.194311</td>\n",
              "      <td>8109</td>\n",
              "      <td>images/images12/00030068_002.png</td>\n",
              "    </tr>\n",
              "    <tr>\n",
              "      <th>17522</th>\n",
              "      <td>00030068_003.png</td>\n",
              "      <td>Atelectasis</td>\n",
              "      <td>3</td>\n",
              "      <td>30068</td>\n",
              "      <td>60</td>\n",
              "      <td>F</td>\n",
              "      <td>PA</td>\n",
              "      <td>2021</td>\n",
              "      <td>2021</td>\n",
              "      <td>0.194311</td>\n",
              "      <td>0.194311</td>\n",
              "      <td>8109</td>\n",
              "      <td>images/images12/00030068_003.png</td>\n",
              "    </tr>\n",
              "    <tr>\n",
              "      <th>17523</th>\n",
              "      <td>00030068_001.png</td>\n",
              "      <td>No Finding</td>\n",
              "      <td>1</td>\n",
              "      <td>30068</td>\n",
              "      <td>59</td>\n",
              "      <td>F</td>\n",
              "      <td>PA</td>\n",
              "      <td>1827</td>\n",
              "      <td>2021</td>\n",
              "      <td>0.194311</td>\n",
              "      <td>0.194311</td>\n",
              "      <td>8111</td>\n",
              "      <td>images/images12/00030068_001.png</td>\n",
              "    </tr>\n",
              "    <tr>\n",
              "      <th>17524</th>\n",
              "      <td>00030068_002.png</td>\n",
              "      <td>Effusion</td>\n",
              "      <td>2</td>\n",
              "      <td>30068</td>\n",
              "      <td>59</td>\n",
              "      <td>F</td>\n",
              "      <td>PA</td>\n",
              "      <td>1841</td>\n",
              "      <td>2020</td>\n",
              "      <td>0.194311</td>\n",
              "      <td>0.194311</td>\n",
              "      <td>8111</td>\n",
              "      <td>images/images12/00030068_002.png</td>\n",
              "    </tr>\n",
              "    <tr>\n",
              "      <th>17525</th>\n",
              "      <td>00030068_003.png</td>\n",
              "      <td>Edema</td>\n",
              "      <td>3</td>\n",
              "      <td>30068</td>\n",
              "      <td>60</td>\n",
              "      <td>F</td>\n",
              "      <td>PA</td>\n",
              "      <td>2021</td>\n",
              "      <td>2021</td>\n",
              "      <td>0.194311</td>\n",
              "      <td>0.194311</td>\n",
              "      <td>8111</td>\n",
              "      <td>images/images12/00030068_003.png</td>\n",
              "    </tr>\n",
              "  </tbody>\n",
              "</table>\n",
              "<p>17526 rows × 13 columns</p>\n",
              "</div>"
            ],
            "text/plain": [
              "            Image Index  ...                         full_path\n",
              "0      00000001_000.png  ...   images/images1/00000001_000.png\n",
              "1      00000001_001.png  ...   images/images1/00000001_001.png\n",
              "2      00000001_002.png  ...   images/images1/00000001_002.png\n",
              "3      00000001_000.png  ...   images/images1/00000001_000.png\n",
              "4      00000001_001.png  ...   images/images1/00000001_001.png\n",
              "...                 ...  ...                               ...\n",
              "17521  00030068_002.png  ...  images/images12/00030068_002.png\n",
              "17522  00030068_003.png  ...  images/images12/00030068_003.png\n",
              "17523  00030068_001.png  ...  images/images12/00030068_001.png\n",
              "17524  00030068_002.png  ...  images/images12/00030068_002.png\n",
              "17525  00030068_003.png  ...  images/images12/00030068_003.png\n",
              "\n",
              "[17526 rows x 13 columns]"
            ]
          },
          "metadata": {
            "tags": []
          },
          "execution_count": 8
        }
      ]
    },
    {
      "cell_type": "code",
      "metadata": {
        "id": "ClChCi8uBkQV"
      },
      "source": [
        "#TRAIN SET X Creation\n",
        "all_train_samples = train_pa.groupby(by = 'Sample #',axis = 0)\n",
        "X_train_1st = []\n",
        "X_train_2nd = []\n",
        "X_train_3rd = []\n",
        "y_train = []\n",
        "for sample_num,sample_df in all_train_samples:\n",
        "  label = sample_df[\"Finding Labels\"].values[-1]\n",
        "  image_vectors = sample_df['Image Index'].map(lambda x: PA_imgs[x]).values\n",
        "  X_train_1st.append(image_vectors[0])\n",
        "  X_train_2nd.append(image_vectors[1])\n",
        "  X_train_3rd.append(image_vectors[2])\n",
        "  y_train.append(label)"
      ],
      "execution_count": null,
      "outputs": []
    },
    {
      "cell_type": "code",
      "metadata": {
        "colab": {
          "base_uri": "https://localhost:8080/"
        },
        "id": "Rl27awZ3BkQW",
        "outputId": "f76a5083-97b7-496e-9022-3cce86d39123"
      },
      "source": [
        "np.array(X_train_1st).shape"
      ],
      "execution_count": null,
      "outputs": [
        {
          "output_type": "execute_result",
          "data": {
            "text/plain": [
              "(5842, 128, 128)"
            ]
          },
          "metadata": {
            "tags": []
          },
          "execution_count": 10
        }
      ]
    },
    {
      "cell_type": "code",
      "metadata": {
        "colab": {
          "base_uri": "https://localhost:8080/"
        },
        "id": "MyjSEEeqBkQW",
        "outputId": "56ba0d5a-7c2f-4d61-a8d1-018800236bfa"
      },
      "source": [
        "np.array(X_train_2nd).shape"
      ],
      "execution_count": null,
      "outputs": [
        {
          "output_type": "execute_result",
          "data": {
            "text/plain": [
              "(5842, 128, 128)"
            ]
          },
          "metadata": {
            "tags": []
          },
          "execution_count": 11
        }
      ]
    },
    {
      "cell_type": "code",
      "metadata": {
        "colab": {
          "base_uri": "https://localhost:8080/"
        },
        "id": "sMObdAagBkQW",
        "outputId": "46fb9285-f055-486c-a955-4c3371008644"
      },
      "source": [
        "np.array(X_train_3rd).shape"
      ],
      "execution_count": null,
      "outputs": [
        {
          "output_type": "execute_result",
          "data": {
            "text/plain": [
              "(5842, 128, 128)"
            ]
          },
          "metadata": {
            "tags": []
          },
          "execution_count": 12
        }
      ]
    },
    {
      "cell_type": "code",
      "metadata": {
        "colab": {
          "base_uri": "https://localhost:8080/"
        },
        "id": "FOJSiDz4BkQW",
        "outputId": "78dee262-bfca-418b-fd59-9b2357440483"
      },
      "source": [
        "np.array(y_train).shape"
      ],
      "execution_count": null,
      "outputs": [
        {
          "output_type": "execute_result",
          "data": {
            "text/plain": [
              "(5842,)"
            ]
          },
          "metadata": {
            "tags": []
          },
          "execution_count": 13
        }
      ]
    },
    {
      "cell_type": "code",
      "metadata": {
        "id": "oPlBQpBsEPqJ"
      },
      "source": [
        "y_train_ohe = one_hot_encode(y_train)"
      ],
      "execution_count": null,
      "outputs": []
    },
    {
      "cell_type": "code",
      "metadata": {
        "colab": {
          "base_uri": "https://localhost:8080/"
        },
        "id": "EU2mKX0BEyZh",
        "outputId": "23177c1f-427e-468f-fe91-8d32de0c0d06"
      },
      "source": [
        "print(y_train_ohe.shape)\n",
        "y_train_ohe[:10]"
      ],
      "execution_count": null,
      "outputs": [
        {
          "output_type": "stream",
          "text": [
            "(5842, 15)\n"
          ],
          "name": "stdout"
        },
        {
          "output_type": "execute_result",
          "data": {
            "text/plain": [
              "array([[0., 0., 1., 0., 0., 0., 0., 0., 0., 0., 0., 0., 0., 0., 0.],\n",
              "       [0., 0., 0., 0., 0., 0., 0., 0., 0., 1., 0., 0., 0., 0., 0.],\n",
              "       [0., 0., 0., 0., 0., 0., 0., 0., 0., 0., 0., 0., 0., 1., 0.],\n",
              "       [0., 1., 0., 0., 0., 0., 0., 0., 0., 0., 0., 0., 0., 0., 0.],\n",
              "       [0., 0., 0., 0., 0., 0., 0., 0., 0., 0., 0., 0., 0., 1., 0.],\n",
              "       [0., 0., 0., 0., 0., 0., 0., 0., 0., 0., 0., 0., 0., 1., 0.],\n",
              "       [0., 0., 0., 0., 0., 0., 0., 0., 0., 0., 0., 0., 0., 1., 0.],\n",
              "       [0., 0., 0., 0., 0., 0., 0., 0., 0., 0., 0., 0., 0., 1., 0.],\n",
              "       [0., 0., 0., 0., 1., 0., 0., 0., 0., 0., 0., 0., 0., 0., 0.],\n",
              "       [0., 1., 0., 0., 0., 0., 0., 0., 0., 0., 0., 0., 0., 0., 0.]])"
            ]
          },
          "metadata": {
            "tags": []
          },
          "execution_count": 15
        }
      ]
    },
    {
      "cell_type": "code",
      "metadata": {
        "colab": {
          "base_uri": "https://localhost:8080/"
        },
        "id": "tP48r_2BE2Ak",
        "outputId": "191c46ec-11c0-45a4-f1a3-2adcb0d1f3f3"
      },
      "source": [
        "y_train[:10]"
      ],
      "execution_count": null,
      "outputs": [
        {
          "output_type": "execute_result",
          "data": {
            "text/plain": [
              "['Effusion',\n",
              " 'Cardiomegaly',\n",
              " 'Hernia',\n",
              " 'Infiltration',\n",
              " 'Hernia',\n",
              " 'Hernia',\n",
              " 'Hernia',\n",
              " 'Hernia',\n",
              " 'Nodule',\n",
              " 'Infiltration']"
            ]
          },
          "metadata": {
            "tags": []
          },
          "execution_count": 16
        }
      ]
    },
    {
      "cell_type": "markdown",
      "metadata": {
        "id": "FxNsK_kOBkQW"
      },
      "source": [
        "### **Test X,y**"
      ]
    },
    {
      "cell_type": "code",
      "metadata": {
        "colab": {
          "base_uri": "https://localhost:8080/"
        },
        "id": "xgyvOXGFBkQW",
        "outputId": "446231e4-bc50-4528-b029-edf3795a2dbe"
      },
      "source": [
        "test_pa = pd.read_csv(\"/content/drive/Shareddrives/ECS 289G Deep Learning Project/Project/Datasets/csv files/with_sampling_index_csv/PA_test.csv\")\n",
        "test_pa"
      ],
      "execution_count": null,
      "outputs": [
        {
          "output_type": "execute_result",
          "data": {
            "text/html": [
              "<div>\n",
              "<style scoped>\n",
              "    .dataframe tbody tr th:only-of-type {\n",
              "        vertical-align: middle;\n",
              "    }\n",
              "\n",
              "    .dataframe tbody tr th {\n",
              "        vertical-align: top;\n",
              "    }\n",
              "\n",
              "    .dataframe thead th {\n",
              "        text-align: right;\n",
              "    }\n",
              "</style>\n",
              "<table border=\"1\" class=\"dataframe\">\n",
              "  <thead>\n",
              "    <tr style=\"text-align: right;\">\n",
              "      <th></th>\n",
              "      <th>Image Index</th>\n",
              "      <th>Finding Labels</th>\n",
              "      <th>Follow-up #</th>\n",
              "      <th>Patient ID</th>\n",
              "      <th>Patient Age</th>\n",
              "      <th>Patient Gender</th>\n",
              "      <th>View Position</th>\n",
              "      <th>OriginalImage[Width</th>\n",
              "      <th>Height]</th>\n",
              "      <th>OriginalImagePixelSpacing[x</th>\n",
              "      <th>y]</th>\n",
              "      <th>Sample #</th>\n",
              "      <th>full_path</th>\n",
              "    </tr>\n",
              "  </thead>\n",
              "  <tbody>\n",
              "    <tr>\n",
              "      <th>0</th>\n",
              "      <td>00000003_003.png</td>\n",
              "      <td>Hernia|Infiltration</td>\n",
              "      <td>3</td>\n",
              "      <td>3</td>\n",
              "      <td>76</td>\n",
              "      <td>F</td>\n",
              "      <td>PA</td>\n",
              "      <td>2698</td>\n",
              "      <td>2991</td>\n",
              "      <td>0.143000</td>\n",
              "      <td>0.143000</td>\n",
              "      <td>7</td>\n",
              "      <td>images/images1/00000003_003.png</td>\n",
              "    </tr>\n",
              "    <tr>\n",
              "      <th>1</th>\n",
              "      <td>00000003_004.png</td>\n",
              "      <td>Hernia</td>\n",
              "      <td>4</td>\n",
              "      <td>3</td>\n",
              "      <td>77</td>\n",
              "      <td>F</td>\n",
              "      <td>PA</td>\n",
              "      <td>2500</td>\n",
              "      <td>2048</td>\n",
              "      <td>0.168000</td>\n",
              "      <td>0.168000</td>\n",
              "      <td>7</td>\n",
              "      <td>images/images1/00000003_004.png</td>\n",
              "    </tr>\n",
              "    <tr>\n",
              "      <th>2</th>\n",
              "      <td>00000003_005.png</td>\n",
              "      <td>Hernia</td>\n",
              "      <td>5</td>\n",
              "      <td>3</td>\n",
              "      <td>78</td>\n",
              "      <td>F</td>\n",
              "      <td>PA</td>\n",
              "      <td>2686</td>\n",
              "      <td>2991</td>\n",
              "      <td>0.143000</td>\n",
              "      <td>0.143000</td>\n",
              "      <td>7</td>\n",
              "      <td>images/images1/00000003_005.png</td>\n",
              "    </tr>\n",
              "    <tr>\n",
              "      <th>3</th>\n",
              "      <td>00000103_005.png</td>\n",
              "      <td>Mass|Pneumothorax</td>\n",
              "      <td>5</td>\n",
              "      <td>103</td>\n",
              "      <td>60</td>\n",
              "      <td>M</td>\n",
              "      <td>PA</td>\n",
              "      <td>2992</td>\n",
              "      <td>2991</td>\n",
              "      <td>0.143000</td>\n",
              "      <td>0.143000</td>\n",
              "      <td>38</td>\n",
              "      <td>images/images1/00000103_005.png</td>\n",
              "    </tr>\n",
              "    <tr>\n",
              "      <th>4</th>\n",
              "      <td>00000103_006.png</td>\n",
              "      <td>Pneumothorax</td>\n",
              "      <td>6</td>\n",
              "      <td>103</td>\n",
              "      <td>60</td>\n",
              "      <td>M</td>\n",
              "      <td>PA</td>\n",
              "      <td>2992</td>\n",
              "      <td>2991</td>\n",
              "      <td>0.143000</td>\n",
              "      <td>0.143000</td>\n",
              "      <td>38</td>\n",
              "      <td>images/images1/00000103_006.png</td>\n",
              "    </tr>\n",
              "    <tr>\n",
              "      <th>...</th>\n",
              "      <td>...</td>\n",
              "      <td>...</td>\n",
              "      <td>...</td>\n",
              "      <td>...</td>\n",
              "      <td>...</td>\n",
              "      <td>...</td>\n",
              "      <td>...</td>\n",
              "      <td>...</td>\n",
              "      <td>...</td>\n",
              "      <td>...</td>\n",
              "      <td>...</td>\n",
              "      <td>...</td>\n",
              "      <td>...</td>\n",
              "    </tr>\n",
              "    <tr>\n",
              "      <th>4864</th>\n",
              "      <td>00030068_002.png</td>\n",
              "      <td>Effusion</td>\n",
              "      <td>2</td>\n",
              "      <td>30068</td>\n",
              "      <td>59</td>\n",
              "      <td>F</td>\n",
              "      <td>PA</td>\n",
              "      <td>1841</td>\n",
              "      <td>2020</td>\n",
              "      <td>0.194311</td>\n",
              "      <td>0.194311</td>\n",
              "      <td>8110</td>\n",
              "      <td>images/images12/00030068_002.png</td>\n",
              "    </tr>\n",
              "    <tr>\n",
              "      <th>4865</th>\n",
              "      <td>00030068_003.png</td>\n",
              "      <td>Infiltration</td>\n",
              "      <td>3</td>\n",
              "      <td>30068</td>\n",
              "      <td>60</td>\n",
              "      <td>F</td>\n",
              "      <td>PA</td>\n",
              "      <td>2021</td>\n",
              "      <td>2021</td>\n",
              "      <td>0.194311</td>\n",
              "      <td>0.194311</td>\n",
              "      <td>8110</td>\n",
              "      <td>images/images12/00030068_003.png</td>\n",
              "    </tr>\n",
              "    <tr>\n",
              "      <th>4866</th>\n",
              "      <td>00030434_000.png</td>\n",
              "      <td>Atelectasis</td>\n",
              "      <td>0</td>\n",
              "      <td>30434</td>\n",
              "      <td>53</td>\n",
              "      <td>M</td>\n",
              "      <td>PA</td>\n",
              "      <td>2021</td>\n",
              "      <td>2021</td>\n",
              "      <td>0.194308</td>\n",
              "      <td>0.194308</td>\n",
              "      <td>8114</td>\n",
              "      <td>images/images12/00030434_000.png</td>\n",
              "    </tr>\n",
              "    <tr>\n",
              "      <th>4867</th>\n",
              "      <td>00030434_001.png</td>\n",
              "      <td>Atelectasis</td>\n",
              "      <td>1</td>\n",
              "      <td>30434</td>\n",
              "      <td>53</td>\n",
              "      <td>M</td>\n",
              "      <td>PA</td>\n",
              "      <td>2021</td>\n",
              "      <td>2021</td>\n",
              "      <td>0.194311</td>\n",
              "      <td>0.194311</td>\n",
              "      <td>8114</td>\n",
              "      <td>images/images12/00030434_001.png</td>\n",
              "    </tr>\n",
              "    <tr>\n",
              "      <th>4868</th>\n",
              "      <td>00030434_002.png</td>\n",
              "      <td>No Finding</td>\n",
              "      <td>2</td>\n",
              "      <td>30434</td>\n",
              "      <td>54</td>\n",
              "      <td>M</td>\n",
              "      <td>PA</td>\n",
              "      <td>1786</td>\n",
              "      <td>1981</td>\n",
              "      <td>0.194311</td>\n",
              "      <td>0.194311</td>\n",
              "      <td>8114</td>\n",
              "      <td>images/images12/00030434_002.png</td>\n",
              "    </tr>\n",
              "  </tbody>\n",
              "</table>\n",
              "<p>4869 rows × 13 columns</p>\n",
              "</div>"
            ],
            "text/plain": [
              "           Image Index  ...                         full_path\n",
              "0     00000003_003.png  ...   images/images1/00000003_003.png\n",
              "1     00000003_004.png  ...   images/images1/00000003_004.png\n",
              "2     00000003_005.png  ...   images/images1/00000003_005.png\n",
              "3     00000103_005.png  ...   images/images1/00000103_005.png\n",
              "4     00000103_006.png  ...   images/images1/00000103_006.png\n",
              "...                ...  ...                               ...\n",
              "4864  00030068_002.png  ...  images/images12/00030068_002.png\n",
              "4865  00030068_003.png  ...  images/images12/00030068_003.png\n",
              "4866  00030434_000.png  ...  images/images12/00030434_000.png\n",
              "4867  00030434_001.png  ...  images/images12/00030434_001.png\n",
              "4868  00030434_002.png  ...  images/images12/00030434_002.png\n",
              "\n",
              "[4869 rows x 13 columns]"
            ]
          },
          "metadata": {
            "tags": []
          },
          "execution_count": 17
        }
      ]
    },
    {
      "cell_type": "code",
      "metadata": {
        "id": "02rLtlWZBkQW"
      },
      "source": [
        "#TEST SET X Creation\n",
        "all_test_samples = test_pa.groupby(by = 'Sample #',axis = 0)\n",
        "X_test_1st = []\n",
        "X_test_2nd = []\n",
        "X_test_3rd = []\n",
        "y_test = []\n",
        "for sample_num,sample_df in all_test_samples:\n",
        "  label = sample_df[\"Finding Labels\"].values[-1]\n",
        "  image_vectors = sample_df['Image Index'].map(lambda x: PA_imgs[x]).values\n",
        "  X_test_1st.append(image_vectors[0])\n",
        "  X_test_2nd.append(image_vectors[1])\n",
        "  X_test_3rd.append(image_vectors[2])\n",
        "  y_test.append(label)"
      ],
      "execution_count": null,
      "outputs": []
    },
    {
      "cell_type": "code",
      "metadata": {
        "colab": {
          "base_uri": "https://localhost:8080/"
        },
        "id": "cknuTcwBBkQW",
        "outputId": "2a66564e-b224-4365-e55c-3f08dfa47572"
      },
      "source": [
        "np.array(X_test_1st).shape"
      ],
      "execution_count": null,
      "outputs": [
        {
          "output_type": "execute_result",
          "data": {
            "text/plain": [
              "(1623, 128, 128)"
            ]
          },
          "metadata": {
            "tags": []
          },
          "execution_count": 19
        }
      ]
    },
    {
      "cell_type": "code",
      "metadata": {
        "colab": {
          "base_uri": "https://localhost:8080/"
        },
        "id": "SLowhwDhBkQW",
        "outputId": "0a21164d-5c5d-409a-90cb-bcc576da630c"
      },
      "source": [
        "np.array(X_test_2nd).shape"
      ],
      "execution_count": null,
      "outputs": [
        {
          "output_type": "execute_result",
          "data": {
            "text/plain": [
              "(1623, 128, 128)"
            ]
          },
          "metadata": {
            "tags": []
          },
          "execution_count": 20
        }
      ]
    },
    {
      "cell_type": "code",
      "metadata": {
        "colab": {
          "base_uri": "https://localhost:8080/"
        },
        "id": "QieA99q1BkQW",
        "outputId": "aa332aea-525f-4e90-d099-2c52aaaee9c9"
      },
      "source": [
        "np.array(X_test_3rd).shape"
      ],
      "execution_count": null,
      "outputs": [
        {
          "output_type": "execute_result",
          "data": {
            "text/plain": [
              "(1623, 128, 128)"
            ]
          },
          "metadata": {
            "tags": []
          },
          "execution_count": 21
        }
      ]
    },
    {
      "cell_type": "code",
      "metadata": {
        "colab": {
          "base_uri": "https://localhost:8080/"
        },
        "id": "eMdkbEkdBkQW",
        "outputId": "c4a9e6f6-4f26-4fde-8d6a-4d75726d821e"
      },
      "source": [
        "np.array(y_test).shape"
      ],
      "execution_count": null,
      "outputs": [
        {
          "output_type": "execute_result",
          "data": {
            "text/plain": [
              "(1623,)"
            ]
          },
          "metadata": {
            "tags": []
          },
          "execution_count": 22
        }
      ]
    },
    {
      "cell_type": "code",
      "metadata": {
        "id": "Dxwsf-XQE7vK"
      },
      "source": [
        "y_test_ohe = one_hot_encode(y_test)"
      ],
      "execution_count": null,
      "outputs": []
    },
    {
      "cell_type": "code",
      "metadata": {
        "colab": {
          "base_uri": "https://localhost:8080/"
        },
        "id": "jA6zObNSE7vK",
        "outputId": "4e8d7109-d2aa-4f89-b328-e512dd5a198d"
      },
      "source": [
        "print(y_test_ohe.shape)\n",
        "y_test_ohe[:10]"
      ],
      "execution_count": null,
      "outputs": [
        {
          "output_type": "stream",
          "text": [
            "(1623, 15)\n"
          ],
          "name": "stdout"
        },
        {
          "output_type": "execute_result",
          "data": {
            "text/plain": [
              "array([[0., 0., 0., 0., 0., 0., 0., 0., 0., 0., 0., 0., 0., 1., 0.],\n",
              "       [0., 0., 0., 0., 0., 1., 0., 0., 0., 0., 0., 0., 0., 0., 0.],\n",
              "       [0., 0., 0., 0., 0., 1., 0., 0., 0., 0., 0., 0., 0., 0., 0.],\n",
              "       [0., 0., 0., 0., 0., 1., 0., 0., 0., 0., 0., 0., 0., 0., 0.],\n",
              "       [0., 0., 1., 0., 0., 0., 0., 0., 0., 0., 0., 0., 0., 0., 0.],\n",
              "       [0., 0., 0., 1., 0., 0., 0., 0., 0., 0., 0., 0., 0., 0., 0.],\n",
              "       [0., 0., 0., 0., 0., 0., 1., 0., 0., 0., 0., 0., 0., 0., 0.],\n",
              "       [0., 0., 1., 0., 0., 0., 0., 0., 0., 0., 0., 0., 0., 0., 0.],\n",
              "       [1., 0., 0., 0., 0., 0., 0., 0., 0., 0., 0., 0., 0., 0., 0.],\n",
              "       [1., 0., 0., 0., 0., 0., 0., 0., 0., 0., 0., 0., 0., 0., 0.]])"
            ]
          },
          "metadata": {
            "tags": []
          },
          "execution_count": 24
        }
      ]
    },
    {
      "cell_type": "code",
      "metadata": {
        "colab": {
          "base_uri": "https://localhost:8080/"
        },
        "id": "CFul2q9KE7vK",
        "outputId": "17ac4e54-35a3-49f4-dcc3-88437a20ccaa"
      },
      "source": [
        "y_test[:10]"
      ],
      "execution_count": null,
      "outputs": [
        {
          "output_type": "execute_result",
          "data": {
            "text/plain": [
              "['Hernia',\n",
              " 'Mass',\n",
              " 'Mass',\n",
              " 'Mass',\n",
              " 'Effusion',\n",
              " 'Atelectasis',\n",
              " 'Pleural_Thickening',\n",
              " 'Effusion',\n",
              " 'No Finding',\n",
              " 'No Finding']"
            ]
          },
          "metadata": {
            "tags": []
          },
          "execution_count": 25
        }
      ]
    },
    {
      "cell_type": "markdown",
      "metadata": {
        "id": "RKZ57rXrBkQW"
      },
      "source": [
        "### **Val X,y**"
      ]
    },
    {
      "cell_type": "code",
      "metadata": {
        "colab": {
          "base_uri": "https://localhost:8080/"
        },
        "id": "1cpdIXSJBkQW",
        "outputId": "6e0fa682-3881-48f7-a47a-2568246296ec"
      },
      "source": [
        "val_pa = pd.read_csv(\"/content/drive/Shareddrives/ECS 289G Deep Learning Project/Project/Datasets/csv files/with_sampling_index_csv/PA_val.csv\")\n",
        "val_pa"
      ],
      "execution_count": null,
      "outputs": [
        {
          "output_type": "execute_result",
          "data": {
            "text/html": [
              "<div>\n",
              "<style scoped>\n",
              "    .dataframe tbody tr th:only-of-type {\n",
              "        vertical-align: middle;\n",
              "    }\n",
              "\n",
              "    .dataframe tbody tr th {\n",
              "        vertical-align: top;\n",
              "    }\n",
              "\n",
              "    .dataframe thead th {\n",
              "        text-align: right;\n",
              "    }\n",
              "</style>\n",
              "<table border=\"1\" class=\"dataframe\">\n",
              "  <thead>\n",
              "    <tr style=\"text-align: right;\">\n",
              "      <th></th>\n",
              "      <th>Image Index</th>\n",
              "      <th>Finding Labels</th>\n",
              "      <th>Follow-up #</th>\n",
              "      <th>Patient ID</th>\n",
              "      <th>Patient Age</th>\n",
              "      <th>Patient Gender</th>\n",
              "      <th>View Position</th>\n",
              "      <th>OriginalImage[Width</th>\n",
              "      <th>Height]</th>\n",
              "      <th>OriginalImagePixelSpacing[x</th>\n",
              "      <th>y]</th>\n",
              "      <th>Sample #</th>\n",
              "      <th>full_path</th>\n",
              "    </tr>\n",
              "  </thead>\n",
              "  <tbody>\n",
              "    <tr>\n",
              "      <th>0</th>\n",
              "      <td>00000020_000.png</td>\n",
              "      <td>Pleural_Thickening</td>\n",
              "      <td>0</td>\n",
              "      <td>20</td>\n",
              "      <td>53</td>\n",
              "      <td>M</td>\n",
              "      <td>PA</td>\n",
              "      <td>2978</td>\n",
              "      <td>2991</td>\n",
              "      <td>0.143000</td>\n",
              "      <td>0.143000</td>\n",
              "      <td>12</td>\n",
              "      <td>images/images1/00000020_000.png</td>\n",
              "    </tr>\n",
              "    <tr>\n",
              "      <th>1</th>\n",
              "      <td>00000020_001.png</td>\n",
              "      <td>Fibrosis|Infiltration</td>\n",
              "      <td>1</td>\n",
              "      <td>20</td>\n",
              "      <td>47</td>\n",
              "      <td>M</td>\n",
              "      <td>PA</td>\n",
              "      <td>2992</td>\n",
              "      <td>2991</td>\n",
              "      <td>0.143000</td>\n",
              "      <td>0.143000</td>\n",
              "      <td>12</td>\n",
              "      <td>images/images1/00000020_001.png</td>\n",
              "    </tr>\n",
              "    <tr>\n",
              "      <th>2</th>\n",
              "      <td>00000020_002.png</td>\n",
              "      <td>Fibrosis</td>\n",
              "      <td>2</td>\n",
              "      <td>20</td>\n",
              "      <td>48</td>\n",
              "      <td>M</td>\n",
              "      <td>PA</td>\n",
              "      <td>2414</td>\n",
              "      <td>2991</td>\n",
              "      <td>0.143000</td>\n",
              "      <td>0.143000</td>\n",
              "      <td>12</td>\n",
              "      <td>images/images1/00000020_002.png</td>\n",
              "    </tr>\n",
              "    <tr>\n",
              "      <th>3</th>\n",
              "      <td>00000054_001.png</td>\n",
              "      <td>No Finding</td>\n",
              "      <td>1</td>\n",
              "      <td>54</td>\n",
              "      <td>72</td>\n",
              "      <td>F</td>\n",
              "      <td>PA</td>\n",
              "      <td>2544</td>\n",
              "      <td>3056</td>\n",
              "      <td>0.139000</td>\n",
              "      <td>0.139000</td>\n",
              "      <td>17</td>\n",
              "      <td>images/images1/00000054_001.png</td>\n",
              "    </tr>\n",
              "    <tr>\n",
              "      <th>4</th>\n",
              "      <td>00000054_002.png</td>\n",
              "      <td>No Finding</td>\n",
              "      <td>2</td>\n",
              "      <td>54</td>\n",
              "      <td>74</td>\n",
              "      <td>F</td>\n",
              "      <td>PA</td>\n",
              "      <td>2021</td>\n",
              "      <td>2021</td>\n",
              "      <td>0.194311</td>\n",
              "      <td>0.194311</td>\n",
              "      <td>17</td>\n",
              "      <td>images/images1/00000054_002.png</td>\n",
              "    </tr>\n",
              "    <tr>\n",
              "      <th>...</th>\n",
              "      <td>...</td>\n",
              "      <td>...</td>\n",
              "      <td>...</td>\n",
              "      <td>...</td>\n",
              "      <td>...</td>\n",
              "      <td>...</td>\n",
              "      <td>...</td>\n",
              "      <td>...</td>\n",
              "      <td>...</td>\n",
              "      <td>...</td>\n",
              "      <td>...</td>\n",
              "      <td>...</td>\n",
              "      <td>...</td>\n",
              "    </tr>\n",
              "    <tr>\n",
              "      <th>1942</th>\n",
              "      <td>00030350_001.png</td>\n",
              "      <td>No Finding</td>\n",
              "      <td>1</td>\n",
              "      <td>30350</td>\n",
              "      <td>24</td>\n",
              "      <td>M</td>\n",
              "      <td>PA</td>\n",
              "      <td>2021</td>\n",
              "      <td>2021</td>\n",
              "      <td>0.194311</td>\n",
              "      <td>0.194311</td>\n",
              "      <td>8112</td>\n",
              "      <td>images/images12/00030350_001.png</td>\n",
              "    </tr>\n",
              "    <tr>\n",
              "      <th>1943</th>\n",
              "      <td>00030350_002.png</td>\n",
              "      <td>No Finding</td>\n",
              "      <td>2</td>\n",
              "      <td>30350</td>\n",
              "      <td>25</td>\n",
              "      <td>M</td>\n",
              "      <td>PA</td>\n",
              "      <td>2021</td>\n",
              "      <td>2021</td>\n",
              "      <td>0.194311</td>\n",
              "      <td>0.194311</td>\n",
              "      <td>8112</td>\n",
              "      <td>images/images12/00030350_002.png</td>\n",
              "    </tr>\n",
              "    <tr>\n",
              "      <th>1944</th>\n",
              "      <td>00030427_000.png</td>\n",
              "      <td>No Finding</td>\n",
              "      <td>0</td>\n",
              "      <td>30427</td>\n",
              "      <td>70</td>\n",
              "      <td>M</td>\n",
              "      <td>PA</td>\n",
              "      <td>2021</td>\n",
              "      <td>2021</td>\n",
              "      <td>0.194311</td>\n",
              "      <td>0.194311</td>\n",
              "      <td>8113</td>\n",
              "      <td>images/images12/00030427_000.png</td>\n",
              "    </tr>\n",
              "    <tr>\n",
              "      <th>1945</th>\n",
              "      <td>00030427_001.png</td>\n",
              "      <td>No Finding</td>\n",
              "      <td>1</td>\n",
              "      <td>30427</td>\n",
              "      <td>70</td>\n",
              "      <td>M</td>\n",
              "      <td>PA</td>\n",
              "      <td>2021</td>\n",
              "      <td>2021</td>\n",
              "      <td>0.194311</td>\n",
              "      <td>0.194311</td>\n",
              "      <td>8113</td>\n",
              "      <td>images/images12/00030427_001.png</td>\n",
              "    </tr>\n",
              "    <tr>\n",
              "      <th>1946</th>\n",
              "      <td>00030427_002.png</td>\n",
              "      <td>No Finding</td>\n",
              "      <td>2</td>\n",
              "      <td>30427</td>\n",
              "      <td>71</td>\n",
              "      <td>M</td>\n",
              "      <td>PA</td>\n",
              "      <td>2021</td>\n",
              "      <td>2021</td>\n",
              "      <td>0.194311</td>\n",
              "      <td>0.194311</td>\n",
              "      <td>8113</td>\n",
              "      <td>images/images12/00030427_002.png</td>\n",
              "    </tr>\n",
              "  </tbody>\n",
              "</table>\n",
              "<p>1947 rows × 13 columns</p>\n",
              "</div>"
            ],
            "text/plain": [
              "           Image Index  ...                         full_path\n",
              "0     00000020_000.png  ...   images/images1/00000020_000.png\n",
              "1     00000020_001.png  ...   images/images1/00000020_001.png\n",
              "2     00000020_002.png  ...   images/images1/00000020_002.png\n",
              "3     00000054_001.png  ...   images/images1/00000054_001.png\n",
              "4     00000054_002.png  ...   images/images1/00000054_002.png\n",
              "...                ...  ...                               ...\n",
              "1942  00030350_001.png  ...  images/images12/00030350_001.png\n",
              "1943  00030350_002.png  ...  images/images12/00030350_002.png\n",
              "1944  00030427_000.png  ...  images/images12/00030427_000.png\n",
              "1945  00030427_001.png  ...  images/images12/00030427_001.png\n",
              "1946  00030427_002.png  ...  images/images12/00030427_002.png\n",
              "\n",
              "[1947 rows x 13 columns]"
            ]
          },
          "metadata": {
            "tags": []
          },
          "execution_count": 26
        }
      ]
    },
    {
      "cell_type": "code",
      "metadata": {
        "id": "mPSKlcI1BkQX"
      },
      "source": [
        "#VAL SET X Creation\n",
        "all_val_samples = val_pa.groupby(by = 'Sample #',axis = 0)\n",
        "X_val_1st = []\n",
        "X_val_2nd = []\n",
        "X_val_3rd = []\n",
        "y_val = []\n",
        "for sample_num,sample_df in all_val_samples:\n",
        "  label = sample_df[\"Finding Labels\"].values[-1]\n",
        "  image_vectors = sample_df['Image Index'].map(lambda x: PA_imgs[x]).values\n",
        "  X_val_1st.append(image_vectors[0])\n",
        "  X_val_2nd.append(image_vectors[1])\n",
        "  X_val_3rd.append(image_vectors[2])\n",
        "  y_val.append(label)"
      ],
      "execution_count": null,
      "outputs": []
    },
    {
      "cell_type": "code",
      "metadata": {
        "colab": {
          "base_uri": "https://localhost:8080/"
        },
        "id": "5XVLCzVJBkQX",
        "outputId": "40725bde-819c-4b44-c837-99a4fd5a5edc"
      },
      "source": [
        "np.array(X_val_1st).shape"
      ],
      "execution_count": null,
      "outputs": [
        {
          "output_type": "execute_result",
          "data": {
            "text/plain": [
              "(649, 128, 128)"
            ]
          },
          "metadata": {
            "tags": []
          },
          "execution_count": 28
        }
      ]
    },
    {
      "cell_type": "code",
      "metadata": {
        "colab": {
          "base_uri": "https://localhost:8080/"
        },
        "id": "opTyOZqCBkQX",
        "outputId": "28ec8115-4db2-4812-9c5f-c9fc0b9d9cd4"
      },
      "source": [
        "np.array(X_val_2nd).shape"
      ],
      "execution_count": null,
      "outputs": [
        {
          "output_type": "execute_result",
          "data": {
            "text/plain": [
              "(649, 128, 128)"
            ]
          },
          "metadata": {
            "tags": []
          },
          "execution_count": 29
        }
      ]
    },
    {
      "cell_type": "code",
      "metadata": {
        "colab": {
          "base_uri": "https://localhost:8080/"
        },
        "id": "Qq-FHkdbBkQX",
        "outputId": "51ee5c60-8550-42b6-d352-25377cf6c598"
      },
      "source": [
        "np.array(X_val_3rd).shape"
      ],
      "execution_count": null,
      "outputs": [
        {
          "output_type": "execute_result",
          "data": {
            "text/plain": [
              "(649, 128, 128)"
            ]
          },
          "metadata": {
            "tags": []
          },
          "execution_count": 30
        }
      ]
    },
    {
      "cell_type": "code",
      "metadata": {
        "colab": {
          "base_uri": "https://localhost:8080/"
        },
        "id": "fM6CNnkyBkQX",
        "outputId": "b4e01367-eb7d-4632-b269-b8a9c56183b9"
      },
      "source": [
        "np.array(y_val).shape"
      ],
      "execution_count": null,
      "outputs": [
        {
          "output_type": "execute_result",
          "data": {
            "text/plain": [
              "(649,)"
            ]
          },
          "metadata": {
            "tags": []
          },
          "execution_count": 31
        }
      ]
    },
    {
      "cell_type": "code",
      "metadata": {
        "id": "a9QXwDYxFJqq"
      },
      "source": [
        "y_val_ohe = one_hot_encode(y_val)"
      ],
      "execution_count": null,
      "outputs": []
    },
    {
      "cell_type": "code",
      "metadata": {
        "colab": {
          "base_uri": "https://localhost:8080/"
        },
        "id": "iFwdQgJTFJqq",
        "outputId": "3596e623-6c55-4620-fab1-1bd86e84e053"
      },
      "source": [
        "print(y_val_ohe.shape)\n",
        "y_val_ohe[:10]"
      ],
      "execution_count": null,
      "outputs": [
        {
          "output_type": "stream",
          "text": [
            "(649, 15)\n"
          ],
          "name": "stdout"
        },
        {
          "output_type": "execute_result",
          "data": {
            "text/plain": [
              "array([[0., 0., 0., 0., 0., 0., 0., 1., 0., 0., 0., 0., 0., 0., 0.],\n",
              "       [1., 0., 0., 0., 0., 0., 0., 0., 0., 0., 0., 0., 0., 0., 0.],\n",
              "       [1., 0., 0., 0., 0., 0., 0., 0., 0., 0., 0., 0., 0., 0., 0.],\n",
              "       [0., 0., 0., 0., 0., 0., 0., 0., 1., 0., 0., 0., 0., 0., 0.],\n",
              "       [0., 0., 1., 0., 0., 0., 0., 0., 0., 0., 0., 0., 0., 0., 0.],\n",
              "       [0., 0., 0., 0., 0., 0., 1., 0., 0., 0., 0., 0., 0., 0., 0.],\n",
              "       [0., 0., 1., 0., 0., 0., 0., 0., 0., 0., 0., 0., 0., 0., 0.],\n",
              "       [1., 0., 0., 0., 0., 0., 0., 0., 0., 0., 0., 0., 0., 0., 0.],\n",
              "       [1., 0., 0., 0., 0., 0., 0., 0., 0., 0., 0., 0., 0., 0., 0.],\n",
              "       [1., 0., 0., 0., 0., 0., 0., 0., 0., 0., 0., 0., 0., 0., 0.]])"
            ]
          },
          "metadata": {
            "tags": []
          },
          "execution_count": 33
        }
      ]
    },
    {
      "cell_type": "code",
      "metadata": {
        "colab": {
          "base_uri": "https://localhost:8080/"
        },
        "id": "KSEtsl8SFJqq",
        "outputId": "32dc58ea-ce5c-4c58-a13e-5bb35b41d6b5"
      },
      "source": [
        "y_val[:10]"
      ],
      "execution_count": null,
      "outputs": [
        {
          "output_type": "execute_result",
          "data": {
            "text/plain": [
              "['Fibrosis',\n",
              " 'No Finding',\n",
              " 'No Finding',\n",
              " 'Pneumothorax',\n",
              " 'Effusion',\n",
              " 'Pleural_Thickening',\n",
              " 'Effusion',\n",
              " 'No Finding',\n",
              " 'No Finding',\n",
              " 'No Finding']"
            ]
          },
          "metadata": {
            "tags": []
          },
          "execution_count": 34
        }
      ]
    },
    {
      "cell_type": "markdown",
      "metadata": {
        "id": "eFZeg3UT4noA"
      },
      "source": [
        "## **AP**"
      ]
    },
    {
      "cell_type": "markdown",
      "metadata": {
        "id": "H1EfLGPN_7z1"
      },
      "source": [
        "### **Train X,y**"
      ]
    },
    {
      "cell_type": "code",
      "metadata": {
        "colab": {
          "base_uri": "https://localhost:8080/"
        },
        "id": "7f2JGLkw4pK2",
        "outputId": "b44b70b9-2ef7-4922-bd93-a254516591e2"
      },
      "source": [
        "with open(\"images_pickled/all_AP_files/AP_images.pkl\",'rb') as f:\n",
        "  AP_imgs = pickle.load(f)\n",
        "\n",
        "len(AP_imgs)"
      ],
      "execution_count": 8,
      "outputs": [
        {
          "output_type": "execute_result",
          "data": {
            "text/plain": [
              "3768"
            ]
          },
          "metadata": {
            "tags": []
          },
          "execution_count": 8
        }
      ]
    },
    {
      "cell_type": "code",
      "metadata": {
        "colab": {
          "base_uri": "https://localhost:8080/",
          "height": 524
        },
        "id": "bucrZm-c45PQ",
        "outputId": "82f3abe9-6b52-4c8b-9281-a4f606a94651"
      },
      "source": [
        "train_ap = pd.read_csv(\"/content/drive/Shareddrives/ECS 289G Deep Learning Project/Project/Datasets/csv files/with_sampling_index_csv/AP_train.csv\")\n",
        "train_ap"
      ],
      "execution_count": 9,
      "outputs": [
        {
          "output_type": "execute_result",
          "data": {
            "text/html": [
              "<div>\n",
              "<style scoped>\n",
              "    .dataframe tbody tr th:only-of-type {\n",
              "        vertical-align: middle;\n",
              "    }\n",
              "\n",
              "    .dataframe tbody tr th {\n",
              "        vertical-align: top;\n",
              "    }\n",
              "\n",
              "    .dataframe thead th {\n",
              "        text-align: right;\n",
              "    }\n",
              "</style>\n",
              "<table border=\"1\" class=\"dataframe\">\n",
              "  <thead>\n",
              "    <tr style=\"text-align: right;\">\n",
              "      <th></th>\n",
              "      <th>Image Index</th>\n",
              "      <th>Finding Labels</th>\n",
              "      <th>Follow-up #</th>\n",
              "      <th>Patient ID</th>\n",
              "      <th>Patient Age</th>\n",
              "      <th>Patient Gender</th>\n",
              "      <th>View Position</th>\n",
              "      <th>OriginalImage[Width</th>\n",
              "      <th>Height]</th>\n",
              "      <th>OriginalImagePixelSpacing[x</th>\n",
              "      <th>y]</th>\n",
              "      <th>Sample #</th>\n",
              "      <th>full_path</th>\n",
              "    </tr>\n",
              "  </thead>\n",
              "  <tbody>\n",
              "    <tr>\n",
              "      <th>0</th>\n",
              "      <td>00000032_000.png</td>\n",
              "      <td>Cardiomegaly</td>\n",
              "      <td>0</td>\n",
              "      <td>32</td>\n",
              "      <td>55</td>\n",
              "      <td>F</td>\n",
              "      <td>AP</td>\n",
              "      <td>2500</td>\n",
              "      <td>2048</td>\n",
              "      <td>0.168</td>\n",
              "      <td>0.168</td>\n",
              "      <td>1</td>\n",
              "      <td>images/images1/00000032_000.png</td>\n",
              "    </tr>\n",
              "    <tr>\n",
              "      <th>1</th>\n",
              "      <td>00000032_001.png</td>\n",
              "      <td>Cardiomegaly|Edema|Effusion</td>\n",
              "      <td>1</td>\n",
              "      <td>32</td>\n",
              "      <td>55</td>\n",
              "      <td>F</td>\n",
              "      <td>AP</td>\n",
              "      <td>2500</td>\n",
              "      <td>2048</td>\n",
              "      <td>0.168</td>\n",
              "      <td>0.168</td>\n",
              "      <td>1</td>\n",
              "      <td>images/images1/00000032_001.png</td>\n",
              "    </tr>\n",
              "    <tr>\n",
              "      <th>2</th>\n",
              "      <td>00000032_002.png</td>\n",
              "      <td>No Finding</td>\n",
              "      <td>2</td>\n",
              "      <td>32</td>\n",
              "      <td>55</td>\n",
              "      <td>F</td>\n",
              "      <td>AP</td>\n",
              "      <td>2500</td>\n",
              "      <td>2048</td>\n",
              "      <td>0.168</td>\n",
              "      <td>0.168</td>\n",
              "      <td>1</td>\n",
              "      <td>images/images1/00000032_002.png</td>\n",
              "    </tr>\n",
              "    <tr>\n",
              "      <th>3</th>\n",
              "      <td>00000032_001.png</td>\n",
              "      <td>Cardiomegaly|Edema|Effusion</td>\n",
              "      <td>1</td>\n",
              "      <td>32</td>\n",
              "      <td>55</td>\n",
              "      <td>F</td>\n",
              "      <td>AP</td>\n",
              "      <td>2500</td>\n",
              "      <td>2048</td>\n",
              "      <td>0.168</td>\n",
              "      <td>0.168</td>\n",
              "      <td>2</td>\n",
              "      <td>images/images1/00000032_001.png</td>\n",
              "    </tr>\n",
              "    <tr>\n",
              "      <th>4</th>\n",
              "      <td>00000032_002.png</td>\n",
              "      <td>No Finding</td>\n",
              "      <td>2</td>\n",
              "      <td>32</td>\n",
              "      <td>55</td>\n",
              "      <td>F</td>\n",
              "      <td>AP</td>\n",
              "      <td>2500</td>\n",
              "      <td>2048</td>\n",
              "      <td>0.168</td>\n",
              "      <td>0.168</td>\n",
              "      <td>2</td>\n",
              "      <td>images/images1/00000032_002.png</td>\n",
              "    </tr>\n",
              "    <tr>\n",
              "      <th>...</th>\n",
              "      <td>...</td>\n",
              "      <td>...</td>\n",
              "      <td>...</td>\n",
              "      <td>...</td>\n",
              "      <td>...</td>\n",
              "      <td>...</td>\n",
              "      <td>...</td>\n",
              "      <td>...</td>\n",
              "      <td>...</td>\n",
              "      <td>...</td>\n",
              "      <td>...</td>\n",
              "      <td>...</td>\n",
              "      <td>...</td>\n",
              "    </tr>\n",
              "    <tr>\n",
              "      <th>8431</th>\n",
              "      <td>00030770_001.png</td>\n",
              "      <td>Infiltration</td>\n",
              "      <td>1</td>\n",
              "      <td>30770</td>\n",
              "      <td>23</td>\n",
              "      <td>F</td>\n",
              "      <td>AP</td>\n",
              "      <td>3056</td>\n",
              "      <td>2544</td>\n",
              "      <td>0.139</td>\n",
              "      <td>0.139</td>\n",
              "      <td>3904</td>\n",
              "      <td>images/images12/00030770_001.png</td>\n",
              "    </tr>\n",
              "    <tr>\n",
              "      <th>8432</th>\n",
              "      <td>00030770_002.png</td>\n",
              "      <td>No Finding</td>\n",
              "      <td>2</td>\n",
              "      <td>30770</td>\n",
              "      <td>23</td>\n",
              "      <td>F</td>\n",
              "      <td>AP</td>\n",
              "      <td>3056</td>\n",
              "      <td>2544</td>\n",
              "      <td>0.139</td>\n",
              "      <td>0.139</td>\n",
              "      <td>3904</td>\n",
              "      <td>images/images12/00030770_002.png</td>\n",
              "    </tr>\n",
              "    <tr>\n",
              "      <th>8433</th>\n",
              "      <td>00030772_000.png</td>\n",
              "      <td>No Finding</td>\n",
              "      <td>0</td>\n",
              "      <td>30772</td>\n",
              "      <td>26</td>\n",
              "      <td>F</td>\n",
              "      <td>AP</td>\n",
              "      <td>3056</td>\n",
              "      <td>2544</td>\n",
              "      <td>0.139</td>\n",
              "      <td>0.139</td>\n",
              "      <td>3905</td>\n",
              "      <td>images/images12/00030772_000.png</td>\n",
              "    </tr>\n",
              "    <tr>\n",
              "      <th>8434</th>\n",
              "      <td>00030772_001.png</td>\n",
              "      <td>Consolidation</td>\n",
              "      <td>1</td>\n",
              "      <td>30772</td>\n",
              "      <td>26</td>\n",
              "      <td>F</td>\n",
              "      <td>AP</td>\n",
              "      <td>3056</td>\n",
              "      <td>2544</td>\n",
              "      <td>0.139</td>\n",
              "      <td>0.139</td>\n",
              "      <td>3905</td>\n",
              "      <td>images/images12/00030772_001.png</td>\n",
              "    </tr>\n",
              "    <tr>\n",
              "      <th>8435</th>\n",
              "      <td>00030772_002.png</td>\n",
              "      <td>Consolidation</td>\n",
              "      <td>2</td>\n",
              "      <td>30772</td>\n",
              "      <td>26</td>\n",
              "      <td>F</td>\n",
              "      <td>AP</td>\n",
              "      <td>3056</td>\n",
              "      <td>2544</td>\n",
              "      <td>0.139</td>\n",
              "      <td>0.139</td>\n",
              "      <td>3905</td>\n",
              "      <td>images/images12/00030772_002.png</td>\n",
              "    </tr>\n",
              "  </tbody>\n",
              "</table>\n",
              "<p>8436 rows × 13 columns</p>\n",
              "</div>"
            ],
            "text/plain": [
              "           Image Index  ...                         full_path\n",
              "0     00000032_000.png  ...   images/images1/00000032_000.png\n",
              "1     00000032_001.png  ...   images/images1/00000032_001.png\n",
              "2     00000032_002.png  ...   images/images1/00000032_002.png\n",
              "3     00000032_001.png  ...   images/images1/00000032_001.png\n",
              "4     00000032_002.png  ...   images/images1/00000032_002.png\n",
              "...                ...  ...                               ...\n",
              "8431  00030770_001.png  ...  images/images12/00030770_001.png\n",
              "8432  00030770_002.png  ...  images/images12/00030770_002.png\n",
              "8433  00030772_000.png  ...  images/images12/00030772_000.png\n",
              "8434  00030772_001.png  ...  images/images12/00030772_001.png\n",
              "8435  00030772_002.png  ...  images/images12/00030772_002.png\n",
              "\n",
              "[8436 rows x 13 columns]"
            ]
          },
          "metadata": {
            "tags": []
          },
          "execution_count": 9
        }
      ]
    },
    {
      "cell_type": "code",
      "metadata": {
        "id": "B9dB86f27e11"
      },
      "source": [
        "#TRAIN SET X Creation\n",
        "all_train_samples = train_ap.groupby(by = 'Sample #',axis = 0)\n",
        "X_train_1st = []\n",
        "X_train_2nd = []\n",
        "X_train_3rd = []\n",
        "y_train = []\n",
        "for sample_num,sample_df in all_train_samples:\n",
        "  label = sample_df[\"Finding Labels\"].values[-1]\n",
        "  image_vectors = sample_df['Image Index'].map(lambda x: AP_imgs[x]).values\n",
        "  X_train_1st.append(image_vectors[0])\n",
        "  X_train_2nd.append(image_vectors[1])\n",
        "  X_train_3rd.append(image_vectors[2])\n",
        "  y_train.append(label)"
      ],
      "execution_count": 10,
      "outputs": []
    },
    {
      "cell_type": "code",
      "metadata": {
        "colab": {
          "base_uri": "https://localhost:8080/"
        },
        "id": "3SdyBdL9-QRF",
        "outputId": "29b26f76-2d4a-4848-ed23-86bfb1b63142"
      },
      "source": [
        "np.array(X_train_1st).shape"
      ],
      "execution_count": 11,
      "outputs": [
        {
          "output_type": "execute_result",
          "data": {
            "text/plain": [
              "(2812, 128, 128)"
            ]
          },
          "metadata": {
            "tags": []
          },
          "execution_count": 11
        }
      ]
    },
    {
      "cell_type": "code",
      "metadata": {
        "colab": {
          "base_uri": "https://localhost:8080/"
        },
        "id": "LBml6g8f_wzm",
        "outputId": "66a1a026-1ed5-450c-b18c-1a916780371e"
      },
      "source": [
        "np.array(X_train_2nd).shape"
      ],
      "execution_count": 12,
      "outputs": [
        {
          "output_type": "execute_result",
          "data": {
            "text/plain": [
              "(2812, 128, 128)"
            ]
          },
          "metadata": {
            "tags": []
          },
          "execution_count": 12
        }
      ]
    },
    {
      "cell_type": "code",
      "metadata": {
        "colab": {
          "base_uri": "https://localhost:8080/"
        },
        "id": "3-7xyLOp_0GZ",
        "outputId": "f6677668-c9f4-46e3-f52b-e28b364e89de"
      },
      "source": [
        "np.array(X_train_3rd).shape"
      ],
      "execution_count": 13,
      "outputs": [
        {
          "output_type": "execute_result",
          "data": {
            "text/plain": [
              "(2812, 128, 128)"
            ]
          },
          "metadata": {
            "tags": []
          },
          "execution_count": 13
        }
      ]
    },
    {
      "cell_type": "code",
      "metadata": {
        "colab": {
          "base_uri": "https://localhost:8080/"
        },
        "id": "Ej1iqpjR_1-j",
        "outputId": "d4bdd39a-1c4d-4764-d044-9a822bfaf4a0"
      },
      "source": [
        "np.array(y_train).shape"
      ],
      "execution_count": 14,
      "outputs": [
        {
          "output_type": "execute_result",
          "data": {
            "text/plain": [
              "(2812,)"
            ]
          },
          "metadata": {
            "tags": []
          },
          "execution_count": 14
        }
      ]
    },
    {
      "cell_type": "code",
      "metadata": {
        "id": "m0fMbH8zFdDq"
      },
      "source": [
        "y_train_ohe = one_hot_encode(y_train)"
      ],
      "execution_count": 15,
      "outputs": []
    },
    {
      "cell_type": "code",
      "metadata": {
        "colab": {
          "base_uri": "https://localhost:8080/"
        },
        "id": "EmkI8X1oFdDq",
        "outputId": "a4f43e1f-37c6-42d6-f37a-750622d989cc"
      },
      "source": [
        "print(y_train_ohe.shape)\n",
        "y_train_ohe[:10]"
      ],
      "execution_count": 16,
      "outputs": [
        {
          "output_type": "stream",
          "text": [
            "(2812, 15)\n"
          ],
          "name": "stdout"
        },
        {
          "output_type": "execute_result",
          "data": {
            "text/plain": [
              "array([[1., 0., 0., 0., 0., 0., 0., 0., 0., 0., 0., 0., 0., 0., 0.],\n",
              "       [1., 0., 0., 0., 0., 0., 0., 0., 0., 0., 0., 0., 0., 0., 0.],\n",
              "       [0., 0., 0., 0., 0., 0., 0., 0., 0., 0., 0., 0., 0., 0., 1.],\n",
              "       [0., 0., 1., 0., 0., 0., 0., 0., 0., 0., 0., 0., 0., 0., 0.],\n",
              "       [0., 0., 0., 0., 0., 0., 0., 0., 0., 1., 0., 0., 0., 0., 0.],\n",
              "       [1., 0., 0., 0., 0., 0., 0., 0., 0., 0., 0., 0., 0., 0., 0.],\n",
              "       [0., 0., 0., 1., 0., 0., 0., 0., 0., 0., 0., 0., 0., 0., 0.],\n",
              "       [0., 0., 1., 0., 0., 0., 0., 0., 0., 0., 0., 0., 0., 0., 0.],\n",
              "       [0., 0., 0., 0., 0., 0., 0., 0., 0., 0., 0., 0., 0., 0., 1.],\n",
              "       [0., 0., 1., 0., 0., 0., 0., 0., 0., 0., 0., 0., 0., 0., 0.]])"
            ]
          },
          "metadata": {
            "tags": []
          },
          "execution_count": 16
        }
      ]
    },
    {
      "cell_type": "code",
      "metadata": {
        "colab": {
          "base_uri": "https://localhost:8080/"
        },
        "id": "ioDR2daKFdDq",
        "outputId": "90c11284-9406-4626-c24d-7bc8ca6fdd73"
      },
      "source": [
        "y_train[:10]"
      ],
      "execution_count": 17,
      "outputs": [
        {
          "output_type": "execute_result",
          "data": {
            "text/plain": [
              "['No Finding',\n",
              " 'No Finding',\n",
              " 'Edema',\n",
              " 'Effusion',\n",
              " 'Cardiomegaly',\n",
              " 'No Finding',\n",
              " 'Atelectasis',\n",
              " 'Effusion',\n",
              " 'Edema',\n",
              " 'Effusion']"
            ]
          },
          "metadata": {
            "tags": []
          },
          "execution_count": 17
        }
      ]
    },
    {
      "cell_type": "markdown",
      "metadata": {
        "id": "3oqpcs47AAvs"
      },
      "source": [
        "### **Test X,y**"
      ]
    },
    {
      "cell_type": "code",
      "metadata": {
        "colab": {
          "base_uri": "https://localhost:8080/",
          "height": 524
        },
        "id": "Vz60_kXQ5O4X",
        "outputId": "26ac6905-543e-423a-c2fd-9f9e0de4211f"
      },
      "source": [
        "test_ap = pd.read_csv(\"/content/drive/Shareddrives/ECS 289G Deep Learning Project/Project/Datasets/csv files/with_sampling_index_csv/AP_test.csv\")\n",
        "test_ap"
      ],
      "execution_count": 18,
      "outputs": [
        {
          "output_type": "execute_result",
          "data": {
            "text/html": [
              "<div>\n",
              "<style scoped>\n",
              "    .dataframe tbody tr th:only-of-type {\n",
              "        vertical-align: middle;\n",
              "    }\n",
              "\n",
              "    .dataframe tbody tr th {\n",
              "        vertical-align: top;\n",
              "    }\n",
              "\n",
              "    .dataframe thead th {\n",
              "        text-align: right;\n",
              "    }\n",
              "</style>\n",
              "<table border=\"1\" class=\"dataframe\">\n",
              "  <thead>\n",
              "    <tr style=\"text-align: right;\">\n",
              "      <th></th>\n",
              "      <th>Image Index</th>\n",
              "      <th>Finding Labels</th>\n",
              "      <th>Follow-up #</th>\n",
              "      <th>Patient ID</th>\n",
              "      <th>Patient Age</th>\n",
              "      <th>Patient Gender</th>\n",
              "      <th>View Position</th>\n",
              "      <th>OriginalImage[Width</th>\n",
              "      <th>Height]</th>\n",
              "      <th>OriginalImagePixelSpacing[x</th>\n",
              "      <th>y]</th>\n",
              "      <th>Sample #</th>\n",
              "      <th>full_path</th>\n",
              "    </tr>\n",
              "  </thead>\n",
              "  <tbody>\n",
              "    <tr>\n",
              "      <th>0</th>\n",
              "      <td>00000032_004.png</td>\n",
              "      <td>Cardiomegaly|Edema|Effusion</td>\n",
              "      <td>4</td>\n",
              "      <td>32</td>\n",
              "      <td>55</td>\n",
              "      <td>F</td>\n",
              "      <td>AP</td>\n",
              "      <td>2500</td>\n",
              "      <td>2048</td>\n",
              "      <td>0.168</td>\n",
              "      <td>0.168</td>\n",
              "      <td>8</td>\n",
              "      <td>images/images1/00000032_004.png</td>\n",
              "    </tr>\n",
              "    <tr>\n",
              "      <th>1</th>\n",
              "      <td>00000032_005.png</td>\n",
              "      <td>No Finding</td>\n",
              "      <td>5</td>\n",
              "      <td>32</td>\n",
              "      <td>55</td>\n",
              "      <td>F</td>\n",
              "      <td>AP</td>\n",
              "      <td>2500</td>\n",
              "      <td>2048</td>\n",
              "      <td>0.168</td>\n",
              "      <td>0.168</td>\n",
              "      <td>8</td>\n",
              "      <td>images/images1/00000032_005.png</td>\n",
              "    </tr>\n",
              "    <tr>\n",
              "      <th>2</th>\n",
              "      <td>00000032_006.png</td>\n",
              "      <td>Infiltration</td>\n",
              "      <td>6</td>\n",
              "      <td>32</td>\n",
              "      <td>55</td>\n",
              "      <td>F</td>\n",
              "      <td>AP</td>\n",
              "      <td>2500</td>\n",
              "      <td>2048</td>\n",
              "      <td>0.168</td>\n",
              "      <td>0.168</td>\n",
              "      <td>8</td>\n",
              "      <td>images/images1/00000032_006.png</td>\n",
              "    </tr>\n",
              "    <tr>\n",
              "      <th>3</th>\n",
              "      <td>00000032_007.png</td>\n",
              "      <td>Cardiomegaly|Edema|Effusion</td>\n",
              "      <td>7</td>\n",
              "      <td>32</td>\n",
              "      <td>55</td>\n",
              "      <td>F</td>\n",
              "      <td>AP</td>\n",
              "      <td>2500</td>\n",
              "      <td>2048</td>\n",
              "      <td>0.168</td>\n",
              "      <td>0.168</td>\n",
              "      <td>14</td>\n",
              "      <td>images/images1/00000032_007.png</td>\n",
              "    </tr>\n",
              "    <tr>\n",
              "      <th>4</th>\n",
              "      <td>00000032_008.png</td>\n",
              "      <td>No Finding</td>\n",
              "      <td>8</td>\n",
              "      <td>32</td>\n",
              "      <td>55</td>\n",
              "      <td>F</td>\n",
              "      <td>AP</td>\n",
              "      <td>2500</td>\n",
              "      <td>2048</td>\n",
              "      <td>0.168</td>\n",
              "      <td>0.168</td>\n",
              "      <td>14</td>\n",
              "      <td>images/images1/00000032_008.png</td>\n",
              "    </tr>\n",
              "    <tr>\n",
              "      <th>...</th>\n",
              "      <td>...</td>\n",
              "      <td>...</td>\n",
              "      <td>...</td>\n",
              "      <td>...</td>\n",
              "      <td>...</td>\n",
              "      <td>...</td>\n",
              "      <td>...</td>\n",
              "      <td>...</td>\n",
              "      <td>...</td>\n",
              "      <td>...</td>\n",
              "      <td>...</td>\n",
              "      <td>...</td>\n",
              "      <td>...</td>\n",
              "    </tr>\n",
              "    <tr>\n",
              "      <th>2338</th>\n",
              "      <td>00030609_021.png</td>\n",
              "      <td>Atelectasis|Infiltration</td>\n",
              "      <td>21</td>\n",
              "      <td>30609</td>\n",
              "      <td>6</td>\n",
              "      <td>M</td>\n",
              "      <td>AP</td>\n",
              "      <td>3056</td>\n",
              "      <td>2544</td>\n",
              "      <td>0.139</td>\n",
              "      <td>0.139</td>\n",
              "      <td>3887</td>\n",
              "      <td>images/images12/00030609_021.png</td>\n",
              "    </tr>\n",
              "    <tr>\n",
              "      <th>2339</th>\n",
              "      <td>00030609_022.png</td>\n",
              "      <td>Infiltration</td>\n",
              "      <td>22</td>\n",
              "      <td>30609</td>\n",
              "      <td>6</td>\n",
              "      <td>M</td>\n",
              "      <td>AP</td>\n",
              "      <td>3056</td>\n",
              "      <td>2544</td>\n",
              "      <td>0.139</td>\n",
              "      <td>0.139</td>\n",
              "      <td>3887</td>\n",
              "      <td>images/images12/00030609_022.png</td>\n",
              "    </tr>\n",
              "    <tr>\n",
              "      <th>2340</th>\n",
              "      <td>00030733_001.png</td>\n",
              "      <td>No Finding</td>\n",
              "      <td>1</td>\n",
              "      <td>30733</td>\n",
              "      <td>26</td>\n",
              "      <td>F</td>\n",
              "      <td>AP</td>\n",
              "      <td>3056</td>\n",
              "      <td>2544</td>\n",
              "      <td>0.139</td>\n",
              "      <td>0.139</td>\n",
              "      <td>3900</td>\n",
              "      <td>images/images12/00030733_001.png</td>\n",
              "    </tr>\n",
              "    <tr>\n",
              "      <th>2341</th>\n",
              "      <td>00030733_002.png</td>\n",
              "      <td>Consolidation</td>\n",
              "      <td>2</td>\n",
              "      <td>30733</td>\n",
              "      <td>26</td>\n",
              "      <td>F</td>\n",
              "      <td>AP</td>\n",
              "      <td>2544</td>\n",
              "      <td>3056</td>\n",
              "      <td>0.139</td>\n",
              "      <td>0.139</td>\n",
              "      <td>3900</td>\n",
              "      <td>images/images12/00030733_002.png</td>\n",
              "    </tr>\n",
              "    <tr>\n",
              "      <th>2342</th>\n",
              "      <td>00030733_003.png</td>\n",
              "      <td>No Finding</td>\n",
              "      <td>3</td>\n",
              "      <td>30733</td>\n",
              "      <td>26</td>\n",
              "      <td>F</td>\n",
              "      <td>AP</td>\n",
              "      <td>3056</td>\n",
              "      <td>2544</td>\n",
              "      <td>0.139</td>\n",
              "      <td>0.139</td>\n",
              "      <td>3900</td>\n",
              "      <td>images/images12/00030733_003.png</td>\n",
              "    </tr>\n",
              "  </tbody>\n",
              "</table>\n",
              "<p>2343 rows × 13 columns</p>\n",
              "</div>"
            ],
            "text/plain": [
              "           Image Index  ...                         full_path\n",
              "0     00000032_004.png  ...   images/images1/00000032_004.png\n",
              "1     00000032_005.png  ...   images/images1/00000032_005.png\n",
              "2     00000032_006.png  ...   images/images1/00000032_006.png\n",
              "3     00000032_007.png  ...   images/images1/00000032_007.png\n",
              "4     00000032_008.png  ...   images/images1/00000032_008.png\n",
              "...                ...  ...                               ...\n",
              "2338  00030609_021.png  ...  images/images12/00030609_021.png\n",
              "2339  00030609_022.png  ...  images/images12/00030609_022.png\n",
              "2340  00030733_001.png  ...  images/images12/00030733_001.png\n",
              "2341  00030733_002.png  ...  images/images12/00030733_002.png\n",
              "2342  00030733_003.png  ...  images/images12/00030733_003.png\n",
              "\n",
              "[2343 rows x 13 columns]"
            ]
          },
          "metadata": {
            "tags": []
          },
          "execution_count": 18
        }
      ]
    },
    {
      "cell_type": "code",
      "metadata": {
        "id": "1EyuaUYHAV_W"
      },
      "source": [
        "#TEST SET X Creation\n",
        "all_test_samples = test_ap.groupby(by = 'Sample #',axis = 0)\n",
        "X_test_1st = []\n",
        "X_test_2nd = []\n",
        "X_test_3rd = []\n",
        "y_test = []\n",
        "for sample_num,sample_df in all_test_samples:\n",
        "  label = sample_df[\"Finding Labels\"].values[-1]\n",
        "  image_vectors = sample_df['Image Index'].map(lambda x: AP_imgs[x]).values\n",
        "  X_test_1st.append(image_vectors[0])\n",
        "  X_test_2nd.append(image_vectors[1])\n",
        "  X_test_3rd.append(image_vectors[2])\n",
        "  y_test.append(label)"
      ],
      "execution_count": 19,
      "outputs": []
    },
    {
      "cell_type": "code",
      "metadata": {
        "colab": {
          "base_uri": "https://localhost:8080/"
        },
        "id": "7cfDiN-pAV_Z",
        "outputId": "a2bd01d8-8dc9-4818-c33c-3b7253204d2e"
      },
      "source": [
        "np.array(X_test_1st).shape"
      ],
      "execution_count": 20,
      "outputs": [
        {
          "output_type": "execute_result",
          "data": {
            "text/plain": [
              "(781, 128, 128)"
            ]
          },
          "metadata": {
            "tags": []
          },
          "execution_count": 20
        }
      ]
    },
    {
      "cell_type": "code",
      "metadata": {
        "colab": {
          "base_uri": "https://localhost:8080/"
        },
        "id": "y7Mr6jhlAV_d",
        "outputId": "af75a99a-52d5-447c-81cf-c4902973b4e9"
      },
      "source": [
        "np.array(X_test_2nd).shape"
      ],
      "execution_count": 21,
      "outputs": [
        {
          "output_type": "execute_result",
          "data": {
            "text/plain": [
              "(781, 128, 128)"
            ]
          },
          "metadata": {
            "tags": []
          },
          "execution_count": 21
        }
      ]
    },
    {
      "cell_type": "code",
      "metadata": {
        "colab": {
          "base_uri": "https://localhost:8080/"
        },
        "id": "nw76sIn8AV_d",
        "outputId": "c6697da7-0db1-47e4-b604-ea863f167910"
      },
      "source": [
        "np.array(X_test_3rd).shape"
      ],
      "execution_count": 22,
      "outputs": [
        {
          "output_type": "execute_result",
          "data": {
            "text/plain": [
              "(781, 128, 128)"
            ]
          },
          "metadata": {
            "tags": []
          },
          "execution_count": 22
        }
      ]
    },
    {
      "cell_type": "code",
      "metadata": {
        "colab": {
          "base_uri": "https://localhost:8080/"
        },
        "id": "eZ58b6KXAV_d",
        "outputId": "b6a82b8f-0643-49d1-c762-846cec2bfec2"
      },
      "source": [
        "np.array(y_test).shape"
      ],
      "execution_count": 23,
      "outputs": [
        {
          "output_type": "execute_result",
          "data": {
            "text/plain": [
              "(781,)"
            ]
          },
          "metadata": {
            "tags": []
          },
          "execution_count": 23
        }
      ]
    },
    {
      "cell_type": "code",
      "metadata": {
        "id": "BVYP0kUMFjEr"
      },
      "source": [
        "y_test_ohe = one_hot_encode(y_test)"
      ],
      "execution_count": 24,
      "outputs": []
    },
    {
      "cell_type": "code",
      "metadata": {
        "colab": {
          "base_uri": "https://localhost:8080/"
        },
        "id": "mf6FMELGFjEr",
        "outputId": "6c6272c4-1150-499d-efe6-5779e91adee2"
      },
      "source": [
        "print(y_test_ohe.shape)\n",
        "y_test_ohe[:10]"
      ],
      "execution_count": 25,
      "outputs": [
        {
          "output_type": "stream",
          "text": [
            "(781, 15)\n"
          ],
          "name": "stdout"
        },
        {
          "output_type": "execute_result",
          "data": {
            "text/plain": [
              "array([[0., 1., 0., 0., 0., 0., 0., 0., 0., 0., 0., 0., 0., 0., 0.],\n",
              "       [1., 0., 0., 0., 0., 0., 0., 0., 0., 0., 0., 0., 0., 0., 0.],\n",
              "       [0., 0., 0., 0., 0., 0., 0., 0., 0., 0., 1., 0., 0., 0., 0.],\n",
              "       [1., 0., 0., 0., 0., 0., 0., 0., 0., 0., 0., 0., 0., 0., 0.],\n",
              "       [0., 1., 0., 0., 0., 0., 0., 0., 0., 0., 0., 0., 0., 0., 0.],\n",
              "       [0., 0., 0., 0., 0., 0., 0., 0., 0., 1., 0., 0., 0., 0., 0.],\n",
              "       [0., 0., 0., 0., 0., 0., 0., 0., 0., 1., 0., 0., 0., 0., 0.],\n",
              "       [0., 0., 1., 0., 0., 0., 0., 0., 0., 0., 0., 0., 0., 0., 0.],\n",
              "       [0., 1., 0., 0., 0., 0., 0., 0., 0., 0., 0., 0., 0., 0., 0.],\n",
              "       [0., 0., 1., 0., 0., 0., 0., 0., 0., 0., 0., 0., 0., 0., 0.]])"
            ]
          },
          "metadata": {
            "tags": []
          },
          "execution_count": 25
        }
      ]
    },
    {
      "cell_type": "code",
      "metadata": {
        "colab": {
          "base_uri": "https://localhost:8080/"
        },
        "id": "3r-f-O5LFjEr",
        "outputId": "1feae724-2498-4bae-d0cb-c26690c7fa59"
      },
      "source": [
        "y_test[:10]"
      ],
      "execution_count": 26,
      "outputs": [
        {
          "output_type": "execute_result",
          "data": {
            "text/plain": [
              "['Infiltration',\n",
              " 'No Finding',\n",
              " 'Consolidation',\n",
              " 'No Finding',\n",
              " 'Infiltration',\n",
              " 'Cardiomegaly',\n",
              " 'Cardiomegaly',\n",
              " 'Effusion',\n",
              " 'Infiltration',\n",
              " 'Effusion']"
            ]
          },
          "metadata": {
            "tags": []
          },
          "execution_count": 26
        }
      ]
    },
    {
      "cell_type": "markdown",
      "metadata": {
        "id": "KuMBXE4BAEWI"
      },
      "source": [
        "### **Val X,y**"
      ]
    },
    {
      "cell_type": "code",
      "metadata": {
        "colab": {
          "base_uri": "https://localhost:8080/",
          "height": 524
        },
        "id": "YbVbogo957QK",
        "outputId": "85cd2d78-2467-48dc-bb4f-f08ff695471c"
      },
      "source": [
        "val_ap = pd.read_csv(\"/content/drive/Shareddrives/ECS 289G Deep Learning Project/Project/Datasets/csv files/with_sampling_index_csv/AP_val.csv\")\n",
        "val_ap"
      ],
      "execution_count": 27,
      "outputs": [
        {
          "output_type": "execute_result",
          "data": {
            "text/html": [
              "<div>\n",
              "<style scoped>\n",
              "    .dataframe tbody tr th:only-of-type {\n",
              "        vertical-align: middle;\n",
              "    }\n",
              "\n",
              "    .dataframe tbody tr th {\n",
              "        vertical-align: top;\n",
              "    }\n",
              "\n",
              "    .dataframe thead th {\n",
              "        text-align: right;\n",
              "    }\n",
              "</style>\n",
              "<table border=\"1\" class=\"dataframe\">\n",
              "  <thead>\n",
              "    <tr style=\"text-align: right;\">\n",
              "      <th></th>\n",
              "      <th>Image Index</th>\n",
              "      <th>Finding Labels</th>\n",
              "      <th>Follow-up #</th>\n",
              "      <th>Patient ID</th>\n",
              "      <th>Patient Age</th>\n",
              "      <th>Patient Gender</th>\n",
              "      <th>View Position</th>\n",
              "      <th>OriginalImage[Width</th>\n",
              "      <th>Height]</th>\n",
              "      <th>OriginalImagePixelSpacing[x</th>\n",
              "      <th>y]</th>\n",
              "      <th>Sample #</th>\n",
              "      <th>full_path</th>\n",
              "    </tr>\n",
              "  </thead>\n",
              "  <tbody>\n",
              "    <tr>\n",
              "      <th>0</th>\n",
              "      <td>00000032_005.png</td>\n",
              "      <td>No Finding</td>\n",
              "      <td>5</td>\n",
              "      <td>32</td>\n",
              "      <td>55</td>\n",
              "      <td>F</td>\n",
              "      <td>AP</td>\n",
              "      <td>2500</td>\n",
              "      <td>2048</td>\n",
              "      <td>0.168</td>\n",
              "      <td>0.168</td>\n",
              "      <td>12</td>\n",
              "      <td>images/images1/00000032_005.png</td>\n",
              "    </tr>\n",
              "    <tr>\n",
              "      <th>1</th>\n",
              "      <td>00000032_006.png</td>\n",
              "      <td>Atelectasis|Effusion|Infiltration</td>\n",
              "      <td>6</td>\n",
              "      <td>32</td>\n",
              "      <td>55</td>\n",
              "      <td>F</td>\n",
              "      <td>AP</td>\n",
              "      <td>2500</td>\n",
              "      <td>2048</td>\n",
              "      <td>0.168</td>\n",
              "      <td>0.168</td>\n",
              "      <td>12</td>\n",
              "      <td>images/images1/00000032_006.png</td>\n",
              "    </tr>\n",
              "    <tr>\n",
              "      <th>2</th>\n",
              "      <td>00000032_007.png</td>\n",
              "      <td>Cardiomegaly</td>\n",
              "      <td>7</td>\n",
              "      <td>32</td>\n",
              "      <td>55</td>\n",
              "      <td>F</td>\n",
              "      <td>AP</td>\n",
              "      <td>2500</td>\n",
              "      <td>2048</td>\n",
              "      <td>0.168</td>\n",
              "      <td>0.168</td>\n",
              "      <td>12</td>\n",
              "      <td>images/images1/00000032_007.png</td>\n",
              "    </tr>\n",
              "    <tr>\n",
              "      <th>3</th>\n",
              "      <td>00000032_010.png</td>\n",
              "      <td>No Finding</td>\n",
              "      <td>10</td>\n",
              "      <td>32</td>\n",
              "      <td>55</td>\n",
              "      <td>F</td>\n",
              "      <td>AP</td>\n",
              "      <td>2500</td>\n",
              "      <td>2048</td>\n",
              "      <td>0.168</td>\n",
              "      <td>0.168</td>\n",
              "      <td>17</td>\n",
              "      <td>images/images1/00000032_010.png</td>\n",
              "    </tr>\n",
              "    <tr>\n",
              "      <th>4</th>\n",
              "      <td>00000032_011.png</td>\n",
              "      <td>Infiltration</td>\n",
              "      <td>11</td>\n",
              "      <td>32</td>\n",
              "      <td>55</td>\n",
              "      <td>F</td>\n",
              "      <td>AP</td>\n",
              "      <td>2500</td>\n",
              "      <td>2048</td>\n",
              "      <td>0.168</td>\n",
              "      <td>0.168</td>\n",
              "      <td>17</td>\n",
              "      <td>images/images1/00000032_011.png</td>\n",
              "    </tr>\n",
              "    <tr>\n",
              "      <th>...</th>\n",
              "      <td>...</td>\n",
              "      <td>...</td>\n",
              "      <td>...</td>\n",
              "      <td>...</td>\n",
              "      <td>...</td>\n",
              "      <td>...</td>\n",
              "      <td>...</td>\n",
              "      <td>...</td>\n",
              "      <td>...</td>\n",
              "      <td>...</td>\n",
              "      <td>...</td>\n",
              "      <td>...</td>\n",
              "      <td>...</td>\n",
              "    </tr>\n",
              "    <tr>\n",
              "      <th>931</th>\n",
              "      <td>00030609_003.png</td>\n",
              "      <td>No Finding</td>\n",
              "      <td>3</td>\n",
              "      <td>30609</td>\n",
              "      <td>6</td>\n",
              "      <td>M</td>\n",
              "      <td>AP</td>\n",
              "      <td>3056</td>\n",
              "      <td>2544</td>\n",
              "      <td>0.139</td>\n",
              "      <td>0.139</td>\n",
              "      <td>3864</td>\n",
              "      <td>images/images12/00030609_003.png</td>\n",
              "    </tr>\n",
              "    <tr>\n",
              "      <th>932</th>\n",
              "      <td>00030609_004.png</td>\n",
              "      <td>No Finding</td>\n",
              "      <td>4</td>\n",
              "      <td>30609</td>\n",
              "      <td>6</td>\n",
              "      <td>M</td>\n",
              "      <td>AP</td>\n",
              "      <td>2544</td>\n",
              "      <td>3056</td>\n",
              "      <td>0.139</td>\n",
              "      <td>0.139</td>\n",
              "      <td>3864</td>\n",
              "      <td>images/images12/00030609_004.png</td>\n",
              "    </tr>\n",
              "    <tr>\n",
              "      <th>933</th>\n",
              "      <td>00030733_004.png</td>\n",
              "      <td>No Finding</td>\n",
              "      <td>4</td>\n",
              "      <td>30733</td>\n",
              "      <td>26</td>\n",
              "      <td>F</td>\n",
              "      <td>AP</td>\n",
              "      <td>3056</td>\n",
              "      <td>2544</td>\n",
              "      <td>0.139</td>\n",
              "      <td>0.139</td>\n",
              "      <td>3903</td>\n",
              "      <td>images/images12/00030733_004.png</td>\n",
              "    </tr>\n",
              "    <tr>\n",
              "      <th>934</th>\n",
              "      <td>00030733_005.png</td>\n",
              "      <td>No Finding</td>\n",
              "      <td>5</td>\n",
              "      <td>30733</td>\n",
              "      <td>26</td>\n",
              "      <td>F</td>\n",
              "      <td>AP</td>\n",
              "      <td>3056</td>\n",
              "      <td>2544</td>\n",
              "      <td>0.139</td>\n",
              "      <td>0.139</td>\n",
              "      <td>3903</td>\n",
              "      <td>images/images12/00030733_005.png</td>\n",
              "    </tr>\n",
              "    <tr>\n",
              "      <th>935</th>\n",
              "      <td>00030733_006.png</td>\n",
              "      <td>No Finding</td>\n",
              "      <td>6</td>\n",
              "      <td>30733</td>\n",
              "      <td>26</td>\n",
              "      <td>F</td>\n",
              "      <td>AP</td>\n",
              "      <td>3056</td>\n",
              "      <td>2544</td>\n",
              "      <td>0.139</td>\n",
              "      <td>0.139</td>\n",
              "      <td>3903</td>\n",
              "      <td>images/images12/00030733_006.png</td>\n",
              "    </tr>\n",
              "  </tbody>\n",
              "</table>\n",
              "<p>936 rows × 13 columns</p>\n",
              "</div>"
            ],
            "text/plain": [
              "          Image Index  ...                         full_path\n",
              "0    00000032_005.png  ...   images/images1/00000032_005.png\n",
              "1    00000032_006.png  ...   images/images1/00000032_006.png\n",
              "2    00000032_007.png  ...   images/images1/00000032_007.png\n",
              "3    00000032_010.png  ...   images/images1/00000032_010.png\n",
              "4    00000032_011.png  ...   images/images1/00000032_011.png\n",
              "..                ...  ...                               ...\n",
              "931  00030609_003.png  ...  images/images12/00030609_003.png\n",
              "932  00030609_004.png  ...  images/images12/00030609_004.png\n",
              "933  00030733_004.png  ...  images/images12/00030733_004.png\n",
              "934  00030733_005.png  ...  images/images12/00030733_005.png\n",
              "935  00030733_006.png  ...  images/images12/00030733_006.png\n",
              "\n",
              "[936 rows x 13 columns]"
            ]
          },
          "metadata": {
            "tags": []
          },
          "execution_count": 27
        }
      ]
    },
    {
      "cell_type": "code",
      "metadata": {
        "id": "PNtSRuu5AG3u"
      },
      "source": [
        "#VAL SET X Creation\n",
        "all_val_samples = val_ap.groupby(by = 'Sample #',axis = 0)\n",
        "X_val_1st = []\n",
        "X_val_2nd = []\n",
        "X_val_3rd = []\n",
        "y_val = []\n",
        "for sample_num,sample_df in all_val_samples:\n",
        "  label = sample_df[\"Finding Labels\"].values[-1]\n",
        "  image_vectors = sample_df['Image Index'].map(lambda x: AP_imgs[x]).values\n",
        "  X_val_1st.append(image_vectors[0])\n",
        "  X_val_2nd.append(image_vectors[1])\n",
        "  X_val_3rd.append(image_vectors[2])\n",
        "  y_val.append(label)"
      ],
      "execution_count": 28,
      "outputs": []
    },
    {
      "cell_type": "code",
      "metadata": {
        "colab": {
          "base_uri": "https://localhost:8080/"
        },
        "id": "lTcxIqi1BTR9",
        "outputId": "24cb426b-15a5-4a56-80d7-9cef9d1ab7e3"
      },
      "source": [
        "np.array(X_val_1st).shape"
      ],
      "execution_count": 29,
      "outputs": [
        {
          "output_type": "execute_result",
          "data": {
            "text/plain": [
              "(312, 128, 128)"
            ]
          },
          "metadata": {
            "tags": []
          },
          "execution_count": 29
        }
      ]
    },
    {
      "cell_type": "code",
      "metadata": {
        "colab": {
          "base_uri": "https://localhost:8080/"
        },
        "id": "EWMQFVXPBV93",
        "outputId": "e5656a17-0284-41c4-c219-922a3e99de5c"
      },
      "source": [
        "np.array(X_val_2nd).shape"
      ],
      "execution_count": 30,
      "outputs": [
        {
          "output_type": "execute_result",
          "data": {
            "text/plain": [
              "(312, 128, 128)"
            ]
          },
          "metadata": {
            "tags": []
          },
          "execution_count": 30
        }
      ]
    },
    {
      "cell_type": "code",
      "metadata": {
        "colab": {
          "base_uri": "https://localhost:8080/"
        },
        "id": "jMLw3BKTBXb3",
        "outputId": "2c4ef6df-6fc9-4b79-ce14-953c4d5d1336"
      },
      "source": [
        "np.array(X_val_3rd).shape"
      ],
      "execution_count": 31,
      "outputs": [
        {
          "output_type": "execute_result",
          "data": {
            "text/plain": [
              "(312, 128, 128)"
            ]
          },
          "metadata": {
            "tags": []
          },
          "execution_count": 31
        }
      ]
    },
    {
      "cell_type": "code",
      "metadata": {
        "colab": {
          "base_uri": "https://localhost:8080/"
        },
        "id": "-VfFdlEKBaiS",
        "outputId": "2d55a629-6617-4abc-b857-1a2f4e83823c"
      },
      "source": [
        "np.array(y_val).shape"
      ],
      "execution_count": 32,
      "outputs": [
        {
          "output_type": "execute_result",
          "data": {
            "text/plain": [
              "(312,)"
            ]
          },
          "metadata": {
            "tags": []
          },
          "execution_count": 32
        }
      ]
    },
    {
      "cell_type": "code",
      "metadata": {
        "id": "xJ3Tkh3QFZR8"
      },
      "source": [
        "y_val_ohe = one_hot_encode(y_val)"
      ],
      "execution_count": 33,
      "outputs": []
    },
    {
      "cell_type": "code",
      "metadata": {
        "colab": {
          "base_uri": "https://localhost:8080/"
        },
        "id": "ajUbd9-BFZR9",
        "outputId": "3fc32cb9-d3ca-40f2-da96-f3e09a49a2da"
      },
      "source": [
        "print(y_val_ohe.shape)\n",
        "y_val_ohe[:10]"
      ],
      "execution_count": 34,
      "outputs": [
        {
          "output_type": "stream",
          "text": [
            "(312, 15)\n"
          ],
          "name": "stdout"
        },
        {
          "output_type": "execute_result",
          "data": {
            "text/plain": [
              "array([[0., 0., 0., 0., 0., 0., 0., 0., 0., 1., 0., 0., 0., 0., 0.],\n",
              "       [0., 0., 0., 1., 0., 0., 0., 0., 0., 0., 0., 0., 0., 0., 0.],\n",
              "       [0., 0., 0., 0., 0., 0., 0., 0., 0., 0., 1., 0., 0., 0., 0.],\n",
              "       [0., 0., 0., 0., 0., 0., 0., 0., 0., 1., 0., 0., 0., 0., 0.],\n",
              "       [0., 0., 0., 0., 0., 0., 0., 0., 0., 0., 0., 0., 0., 0., 1.],\n",
              "       [0., 0., 1., 0., 0., 0., 0., 0., 0., 0., 0., 0., 0., 0., 0.],\n",
              "       [0., 1., 0., 0., 0., 0., 0., 0., 0., 0., 0., 0., 0., 0., 0.],\n",
              "       [0., 0., 0., 0., 0., 0., 0., 0., 0., 0., 1., 0., 0., 0., 0.],\n",
              "       [0., 0., 0., 0., 0., 0., 0., 0., 0., 0., 0., 0., 0., 0., 1.],\n",
              "       [1., 0., 0., 0., 0., 0., 0., 0., 0., 0., 0., 0., 0., 0., 0.]])"
            ]
          },
          "metadata": {
            "tags": []
          },
          "execution_count": 34
        }
      ]
    },
    {
      "cell_type": "code",
      "metadata": {
        "colab": {
          "base_uri": "https://localhost:8080/"
        },
        "id": "THYXBVruFZR-",
        "outputId": "3cf27c13-30ec-40b0-fa27-5ab25bc00d83"
      },
      "source": [
        "y_val[:10]"
      ],
      "execution_count": 35,
      "outputs": [
        {
          "output_type": "execute_result",
          "data": {
            "text/plain": [
              "['Cardiomegaly',\n",
              " 'Atelectasis',\n",
              " 'Consolidation',\n",
              " 'Cardiomegaly',\n",
              " 'Edema',\n",
              " 'Effusion',\n",
              " 'Infiltration',\n",
              " 'Consolidation',\n",
              " 'Edema',\n",
              " 'No Finding']"
            ]
          },
          "metadata": {
            "tags": []
          },
          "execution_count": 35
        }
      ]
    },
    {
      "cell_type": "markdown",
      "metadata": {
        "id": "cSzRNf-rHO7E"
      },
      "source": [
        "# **MODELLING**"
      ]
    },
    {
      "cell_type": "markdown",
      "metadata": {
        "id": "8qg_EonmMYDr"
      },
      "source": [
        "Architecture in common\n",
        "\n",
        "1. Inputs: 1st, 2nd, 3rd followups; (128 by 128 for each sample)\n",
        "2. Output: 15 dimension vector\n",
        "![DL Architecture.png](data:image/png;base64,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)\n",
        "\n"
      ]
    },
    {
      "cell_type": "code",
      "metadata": {
        "id": "yftS2xB-DXnl"
      },
      "source": [
        "def plot_roc_curve(figsize=(10,10), n_class=15, class_names=[], y_test=[],y_score=[]):\n",
        "# https://scikit-learn.org/stable/modules/generated/sklearn.metrics.roc_curve.html\n",
        "  TPR,FPR = [],[]\n",
        "  roc_auc = np.zeros(n_class)\n",
        "  plt.figure(figsize=figsize)\n",
        "  for i in range(n_class):\n",
        "    fpr,tpr,thresholds = roc_curve(y_test[:,i],y_score[:,i])\n",
        "    FPR.append(fpr)\n",
        "    TPR.append(tpr)\n",
        "    roc_auc[i] = auc(fpr,tpr)    \n",
        "    pred = y_score[:,i] >= 0.5\n",
        "    f1 = f1_score(y_test[:,i],pred)\n",
        "    plt.plot(fpr,tpr,label=f\"class: {class_names[i]}, auc: {roc_auc[i]}, f1 = {f1:.2f}\")\n",
        "  \n",
        "  plt.plot([0,1],[0,1],linestyle='--')\n",
        "  plt.xlim([0.0,1.0])\n",
        "  plt.xlabel('FPR')\n",
        "  plt.ylim([0.0,1.0])\n",
        "  plt.ylabel('TPR')\n",
        "  plt.title('ROC Curves')\n",
        "  plt.legend()\n",
        "  plt.show()\n"
      ],
      "execution_count": 36,
      "outputs": []
    },
    {
      "cell_type": "code",
      "metadata": {
        "id": "sTOVYxNWN5b5"
      },
      "source": [
        "IMAGE_SIZE = (128,128)"
      ],
      "execution_count": 37,
      "outputs": []
    },
    {
      "cell_type": "code",
      "metadata": {
        "id": "6NHWLwlYS82x"
      },
      "source": [
        "NUM_EPOCHS = 10"
      ],
      "execution_count": 38,
      "outputs": []
    },
    {
      "cell_type": "code",
      "metadata": {
        "id": "jF3p-vQVbrYd"
      },
      "source": [
        "X_train_1st = np.array(X_train_1st) / 255.0\n",
        "X_train_2nd = np.array(X_train_2nd) /255.0\n",
        "X_train_3rd = np.array(X_train_3rd) /255.0\n",
        "\n",
        "X_val_1st = (np.array(X_val_1st) /255.0)\n",
        "X_val_2nd = (np.array(X_val_2nd) /255.0)\n",
        "X_val_3rd = (np.array(X_val_3rd) /255.0)"
      ],
      "execution_count": 39,
      "outputs": []
    },
    {
      "cell_type": "code",
      "metadata": {
        "id": "pGmCZYBJbAJL"
      },
      "source": [
        "X_train_1st = X_train_1st.reshape((X_train_1st.shape[0],X_train_1st.shape[1],X_train_1st.shape[2],1))\n",
        "X_train_2nd = X_train_2nd.reshape((X_train_2nd.shape[0],X_train_2nd.shape[1],X_train_2nd.shape[2],1))\n",
        "X_train_3rd = X_train_3rd.reshape((X_train_3rd.shape[0],X_train_3rd.shape[1],X_train_3rd.shape[2],1))\n",
        "\n",
        "X_val_1st = X_val_1st.reshape((X_val_1st.shape[0],X_val_1st.shape[1],X_val_1st.shape[2],1))\n",
        "X_val_2nd = X_val_2nd.reshape((X_val_2nd.shape[0],X_val_2nd.shape[1],X_val_2nd.shape[2],1))\n",
        "X_val_3rd =X_val_3rd.reshape((X_val_3rd.shape[0],X_val_3rd.shape[1],X_val_3rd.shape[2],1))"
      ],
      "execution_count": 40,
      "outputs": []
    },
    {
      "cell_type": "code",
      "metadata": {
        "id": "0XLkKkw0-r9X"
      },
      "source": [
        "X_test_1st = (np.array(X_test_1st) /255.0)\n",
        "X_test_2nd = (np.array(X_test_2nd) /255.0)\n",
        "X_test_3rd = (np.array(X_test_3rd) /255.0)\n",
        "\n",
        "X_test_1st = X_test_1st.reshape((X_test_1st.shape[0],X_test_1st.shape[1],X_test_1st.shape[2],1))\n",
        "X_test_2nd = X_test_2nd.reshape((X_test_2nd.shape[0],X_test_2nd.shape[1],X_test_2nd.shape[2],1))\n",
        "X_test_3rd =X_test_3rd.reshape((X_test_3rd.shape[0],X_test_3rd.shape[1],X_test_3rd.shape[2],1))"
      ],
      "execution_count": 41,
      "outputs": []
    },
    {
      "cell_type": "markdown",
      "metadata": {
        "id": "2OOfE6FjHXpu"
      },
      "source": [
        "## **DenseNET**\n",
        "\n",
        "Reference: https://stackoverflow.com/questions/60582442/multiple-image-input-for-keras-application"
      ]
    },
    {
      "cell_type": "markdown",
      "metadata": {
        "id": "kXL1qk3IDfeh"
      },
      "source": [
        "### **With LSTM**"
      ]
    },
    {
      "cell_type": "code",
      "metadata": {
        "colab": {
          "base_uri": "https://localhost:8080/"
        },
        "id": "JoGAO2YNBb__",
        "outputId": "ccf909c6-b9f9-473c-e396-848035ca7969"
      },
      "source": [
        "input1 = keras.Input(shape = (IMAGE_SIZE[0],IMAGE_SIZE[1],1))\n",
        "input2 = keras.Input(shape = (IMAGE_SIZE[0],IMAGE_SIZE[1],1))\n",
        "input3 = keras.Input(shape = (IMAGE_SIZE[0],IMAGE_SIZE[1],1))\n",
        "\n",
        "#Use DenseNET 169 for feature extraction\n",
        "feature_extract = keras.applications.DenseNet169(include_top=False,weights=None,input_shape=(IMAGE_SIZE[0],IMAGE_SIZE[1],1))\n",
        "feature_extract.trainable = False\n",
        "\n",
        "#get the CNN based output for each of the 3 images followups\n",
        "cnn_out1 = feature_extract(input1)\n",
        "cnn_out2 = feature_extract(input2)\n",
        "cnn_out3 = feature_extract(input3)\n",
        "\n",
        "#flatten each of the outputs\n",
        "cout1 = keras.layers.Flatten()(cnn_out1)\n",
        "cout2 = keras.layers.Flatten()(cnn_out2)\n",
        "cout3 = keras.layers.Flatten()(cnn_out3)\n",
        "\n",
        "concatted = keras.layers.Concatenate(axis=-1)([cout1, cout2, cout3]) #merge all the three \n",
        "\n",
        "reshaped = keras.layers.Reshape((-1,concatted.shape[1]))(concatted) #reshape the value by adding a third dimension\n",
        "lstm = keras.layers.LSTM(50,activation='tanh',recurrent_activation='sigmoid')(reshaped) #LSTM layer\n",
        "dropout = keras.layers.Dropout(0.2)(lstm) #Dropouts added\n",
        "output_layer = keras.layers.Dense(15,activation='sigmoid')(dropout) #output layer for prediction\n",
        "model = keras.models.Model(inputs= [input1,input2,input3],outputs = output_layer)\n",
        "model.summary()"
      ],
      "execution_count": 42,
      "outputs": [
        {
          "output_type": "stream",
          "text": [
            "Model: \"functional_1\"\n",
            "__________________________________________________________________________________________________\n",
            "Layer (type)                    Output Shape         Param #     Connected to                     \n",
            "==================================================================================================\n",
            "input_1 (InputLayer)            [(None, 128, 128, 1) 0                                            \n",
            "__________________________________________________________________________________________________\n",
            "input_2 (InputLayer)            [(None, 128, 128, 1) 0                                            \n",
            "__________________________________________________________________________________________________\n",
            "input_3 (InputLayer)            [(None, 128, 128, 1) 0                                            \n",
            "__________________________________________________________________________________________________\n",
            "densenet169 (Functional)        (None, 4, 4, 1664)   12636608    input_1[0][0]                    \n",
            "                                                                 input_2[0][0]                    \n",
            "                                                                 input_3[0][0]                    \n",
            "__________________________________________________________________________________________________\n",
            "flatten (Flatten)               (None, 26624)        0           densenet169[0][0]                \n",
            "__________________________________________________________________________________________________\n",
            "flatten_1 (Flatten)             (None, 26624)        0           densenet169[1][0]                \n",
            "__________________________________________________________________________________________________\n",
            "flatten_2 (Flatten)             (None, 26624)        0           densenet169[2][0]                \n",
            "__________________________________________________________________________________________________\n",
            "concatenate (Concatenate)       (None, 79872)        0           flatten[0][0]                    \n",
            "                                                                 flatten_1[0][0]                  \n",
            "                                                                 flatten_2[0][0]                  \n",
            "__________________________________________________________________________________________________\n",
            "reshape (Reshape)               (None, 1, 79872)     0           concatenate[0][0]                \n",
            "__________________________________________________________________________________________________\n",
            "lstm (LSTM)                     (None, 50)           15984600    reshape[0][0]                    \n",
            "__________________________________________________________________________________________________\n",
            "dropout (Dropout)               (None, 50)           0           lstm[0][0]                       \n",
            "__________________________________________________________________________________________________\n",
            "dense (Dense)                   (None, 15)           765         dropout[0][0]                    \n",
            "==================================================================================================\n",
            "Total params: 28,621,973\n",
            "Trainable params: 15,985,365\n",
            "Non-trainable params: 12,636,608\n",
            "__________________________________________________________________________________________________\n"
          ],
          "name": "stdout"
        }
      ]
    },
    {
      "cell_type": "code",
      "metadata": {
        "id": "FPbb3VxjZcDF"
      },
      "source": [
        "model.compile(optimizer=keras.optimizers.Adam(learning_rate=0.01), loss='binary_crossentropy', metrics = keras.metrics.BinaryAccuracy())"
      ],
      "execution_count": 43,
      "outputs": []
    },
    {
      "cell_type": "code",
      "metadata": {
        "id": "PJzLOgI1ajzr",
        "colab": {
          "base_uri": "https://localhost:8080/"
        },
        "outputId": "c8049cd3-6d58-4e69-88a1-9db6c0a15d97"
      },
      "source": [
        "model.fit([X_train_1st,X_train_2nd,X_train_3rd],y=y_train_ohe,epochs=NUM_EPOCHS,batch_size=100,validation_data= ([X_val_1st,X_val_2nd,X_val_3rd],y_val_ohe))"
      ],
      "execution_count": 44,
      "outputs": [
        {
          "output_type": "stream",
          "text": [
            "Epoch 1/10\n",
            "29/29 [==============================] - 465s 16s/step - loss: 0.2510 - binary_accuracy: 0.9111 - val_loss: 0.1990 - val_binary_accuracy: 0.9333\n",
            "Epoch 2/10\n",
            "29/29 [==============================] - 469s 16s/step - loss: 0.2025 - binary_accuracy: 0.9328 - val_loss: 0.1934 - val_binary_accuracy: 0.9333\n",
            "Epoch 3/10\n",
            "29/29 [==============================] - 468s 16s/step - loss: 0.2012 - binary_accuracy: 0.9327 - val_loss: 0.1943 - val_binary_accuracy: 0.9333\n",
            "Epoch 4/10\n",
            "29/29 [==============================] - 471s 16s/step - loss: 0.2013 - binary_accuracy: 0.9332 - val_loss: 0.1938 - val_binary_accuracy: 0.9333\n",
            "Epoch 5/10\n",
            "29/29 [==============================] - 469s 16s/step - loss: 0.2007 - binary_accuracy: 0.9332 - val_loss: 0.1941 - val_binary_accuracy: 0.9333\n",
            "Epoch 6/10\n",
            "29/29 [==============================] - 472s 16s/step - loss: 0.2010 - binary_accuracy: 0.9333 - val_loss: 0.1937 - val_binary_accuracy: 0.9333\n",
            "Epoch 7/10\n",
            "29/29 [==============================] - 462s 16s/step - loss: 0.2002 - binary_accuracy: 0.9334 - val_loss: 0.1935 - val_binary_accuracy: 0.9333\n",
            "Epoch 8/10\n",
            "29/29 [==============================] - 457s 16s/step - loss: 0.2000 - binary_accuracy: 0.9333 - val_loss: 0.1947 - val_binary_accuracy: 0.9333\n",
            "Epoch 9/10\n",
            "29/29 [==============================] - 448s 15s/step - loss: 0.1998 - binary_accuracy: 0.9333 - val_loss: 0.1939 - val_binary_accuracy: 0.9333\n",
            "Epoch 10/10\n",
            "29/29 [==============================] - 448s 15s/step - loss: 0.1991 - binary_accuracy: 0.9333 - val_loss: 0.1937 - val_binary_accuracy: 0.9333\n"
          ],
          "name": "stdout"
        },
        {
          "output_type": "execute_result",
          "data": {
            "text/plain": [
              "<tensorflow.python.keras.callbacks.History at 0x7fad4583f710>"
            ]
          },
          "metadata": {
            "tags": []
          },
          "execution_count": 44
        }
      ]
    },
    {
      "cell_type": "code",
      "metadata": {
        "colab": {
          "base_uri": "https://localhost:8080/"
        },
        "id": "SwJF_7q29E1Y",
        "outputId": "ac3f8f93-d249-4aa8-c8db-fdece52b1496"
      },
      "source": [
        "history = model.history.history #use this for plotting loss and accuracy\n",
        "history"
      ],
      "execution_count": 45,
      "outputs": [
        {
          "output_type": "execute_result",
          "data": {
            "text/plain": [
              "{'binary_accuracy': [0.9110714197158813,\n",
              "  0.9328114986419678,\n",
              "  0.9326930642127991,\n",
              "  0.9331908226013184,\n",
              "  0.9331672787666321,\n",
              "  0.9332619905471802,\n",
              "  0.9333806037902832,\n",
              "  0.9332857728004456,\n",
              "  0.9333332180976868,\n",
              "  0.9333332180976868],\n",
              " 'loss': [0.25100481510162354,\n",
              "  0.2025265246629715,\n",
              "  0.20116326212882996,\n",
              "  0.20131681859493256,\n",
              "  0.20072966814041138,\n",
              "  0.20099617540836334,\n",
              "  0.20023956894874573,\n",
              "  0.1999751180410385,\n",
              "  0.19980216026306152,\n",
              "  0.19914962351322174],\n",
              " 'val_binary_accuracy': [0.9333333969116211,\n",
              "  0.9333333969116211,\n",
              "  0.9333333969116211,\n",
              "  0.9333333969116211,\n",
              "  0.9333333969116211,\n",
              "  0.9333333969116211,\n",
              "  0.9333333969116211,\n",
              "  0.9333333969116211,\n",
              "  0.9333333969116211,\n",
              "  0.9333333969116211],\n",
              " 'val_loss': [0.1990460455417633,\n",
              "  0.1934289187192917,\n",
              "  0.19431492686271667,\n",
              "  0.19375227391719818,\n",
              "  0.19406090676784515,\n",
              "  0.1937074363231659,\n",
              "  0.19347085058689117,\n",
              "  0.19474530220031738,\n",
              "  0.19393476843833923,\n",
              "  0.19374516606330872]}"
            ]
          },
          "metadata": {
            "tags": []
          },
          "execution_count": 45
        }
      ]
    },
    {
      "cell_type": "code",
      "metadata": {
        "colab": {
          "base_uri": "https://localhost:8080/"
        },
        "id": "ZWaXXYnV9Hf2",
        "outputId": "698bb702-a116-41f5-cbef-00f41871b961"
      },
      "source": [
        "scores = model.evaluate([X_test_1st,X_test_2nd,X_test_3rd],y_test_ohe) #test accuracy and loss plots\n",
        "scores"
      ],
      "execution_count": 46,
      "outputs": [
        {
          "output_type": "stream",
          "text": [
            "25/25 [==============================] - 115s 5s/step - loss: 0.1937 - binary_accuracy: 0.9333\n"
          ],
          "name": "stdout"
        },
        {
          "output_type": "execute_result",
          "data": {
            "text/plain": [
              "[0.19369827210903168, 0.9333330988883972]"
            ]
          },
          "metadata": {
            "tags": []
          },
          "execution_count": 46
        }
      ]
    },
    {
      "cell_type": "code",
      "metadata": {
        "colab": {
          "base_uri": "https://localhost:8080/",
          "height": 298
        },
        "id": "x2l3G_MIMb1o",
        "outputId": "ae9f70ab-e415-4ffd-9e61-fca8a9a5875e"
      },
      "source": [
        "epochs = range(1,NUM_EPOCHS + 1)\n",
        "plt.plot(epochs,np.array(history['binary_accuracy'])*100.00,label = 'train')\n",
        "plt.plot(epochs,np.array(history['val_binary_accuracy'])*100.00,label = 'validation')\n",
        "plt.title(\"Accuracy vs epochs\")"
      ],
      "execution_count": 47,
      "outputs": [
        {
          "output_type": "execute_result",
          "data": {
            "text/plain": [
              "Text(0.5, 1.0, 'Accuracy vs epochs')"
            ]
          },
          "metadata": {
            "tags": []
          },
          "execution_count": 47
        },
        {
          "output_type": "display_data",
          "data": {
            "image/png": "[encoded data removed]",
            "text/plain": [
              "<Figure size 432x288 with 1 Axes>"
            ]
          },
          "metadata": {
            "tags": [],
            "needs_background": "light"
          }
        }
      ]
    },
    {
      "cell_type": "code",
      "metadata": {
        "id": "kLQoUj8ODavq"
      },
      "source": [
        "y_pred = model.predict([X_test_1st,X_test_2nd,X_test_3rd])"
      ],
      "execution_count": 48,
      "outputs": []
    },
    {
      "cell_type": "code",
      "metadata": {
        "colab": {
          "base_uri": "https://localhost:8080/",
          "height": 709
        },
        "id": "BZudR4D9NfmC",
        "outputId": "de00b1af-4fc1-4871-af96-ac60f70759a1"
      },
      "source": [
        "plot_roc_curve(figsize=(10,10),y_test=y_test_ohe,y_score=y_pred,class_names=list(mapper.keys()))"
      ],
      "execution_count": 49,
      "outputs": [
        {
          "output_type": "stream",
          "text": [
            "/usr/local/lib/python3.6/dist-packages/sklearn/metrics/_ranking.py:808: UndefinedMetricWarning: No positive samples in y_true, true positive value should be meaningless\n",
            "  UndefinedMetricWarning)\n",
            "/usr/local/lib/python3.6/dist-packages/sklearn/metrics/_classification.py:1515: UndefinedMetricWarning: F-score is ill-defined and being set to 0.0 due to no true nor predicted samples. Use `zero_division` parameter to control this behavior.\n",
            "  average, \"true nor predicted\", 'F-score is', len(true_sum)\n"
          ],
          "name": "stderr"
        },
        {
          "output_type": "display_data",
          "data": {
            "image/png": "[encoded data removed]",
            "text/plain": [
              "<Figure size 720x720 with 1 Axes>"
            ]
          },
          "metadata": {
            "tags": [],
            "needs_background": "light"
          }
        }
      ]
    },
    {
      "cell_type": "code",
      "metadata": {
        "colab": {
          "base_uri": "https://localhost:8080/"
        },
        "id": "AACnrASvZzFs",
        "outputId": "592c3c54-7885-4302-e8ff-c5b1c092ef08"
      },
      "source": [
        "# serialize model to YAML\n",
        "model_yaml = model.to_yaml()\n",
        "with open(\"DenseNet_LSTM_AP.yaml\", \"w\") as yaml_file:\n",
        "    yaml_file.write(model_yaml)\n",
        "# serialize weights to HDF5\n",
        "model.save_weights(\"DenseNet_LSTM_AP.h5\")\n",
        "print(\"Saved model to disk\")"
      ],
      "execution_count": 50,
      "outputs": [
        {
          "output_type": "stream",
          "text": [
            "Saved model to disk\n"
          ],
          "name": "stdout"
        }
      ]
    },
    {
      "cell_type": "markdown",
      "metadata": {
        "id": "YP10pV11HaKX"
      },
      "source": [
        "### **Without LSTM**"
      ]
    },
    {
      "cell_type": "code",
      "metadata": {
        "colab": {
          "base_uri": "https://localhost:8080/"
        },
        "id": "E8z94y0jSkXZ",
        "outputId": "634bec5a-d4af-4b81-ae6b-d6dd19d7ef1f"
      },
      "source": [
        "input1 = keras.Input(shape = (IMAGE_SIZE[0],IMAGE_SIZE[1],1))\n",
        "input2 = keras.Input(shape = (IMAGE_SIZE[0],IMAGE_SIZE[1],1))\n",
        "input3 = keras.Input(shape = (IMAGE_SIZE[0],IMAGE_SIZE[1],1))\n",
        "\n",
        "#Use DenseNET 169 for feature extraction\n",
        "feature_extract = keras.applications.DenseNet169(include_top=False,weights=None,input_shape=(IMAGE_SIZE[0],IMAGE_SIZE[1],1))\n",
        "feature_extract.trainable = False\n",
        "\n",
        "#get the CNN based output for each of the 3 images followups\n",
        "cnn_out1 = feature_extract(input1)\n",
        "cnn_out2 = feature_extract(input2)\n",
        "cnn_out3 = feature_extract(input3)\n",
        "\n",
        "#flatten each of the outputs\n",
        "cout1 = keras.layers.Flatten()(cnn_out1)\n",
        "cout2 = keras.layers.Flatten()(cnn_out2)\n",
        "cout3 = keras.layers.Flatten()(cnn_out3)\n",
        "\n",
        "concatted = keras.layers.Concatenate(axis=-1)([cout1, cout2, cout3]) #merge all the three \n",
        "\n",
        "\n",
        "dropout = keras.layers.Dropout(0.2)(concatted) #Dropouts added\n",
        "output_layer = keras.layers.Dense(15,activation='sigmoid')(dropout) #output layer for prediction\n",
        "model = keras.models.Model(inputs= [input1,input2,input3],outputs = output_layer)\n",
        "model.summary()"
      ],
      "execution_count": null,
      "outputs": [
        {
          "output_type": "stream",
          "text": [
            "Model: \"functional_3\"\n",
            "__________________________________________________________________________________________________\n",
            "Layer (type)                    Output Shape         Param #     Connected to                     \n",
            "==================================================================================================\n",
            "input_5 (InputLayer)            [(None, 128, 128, 1) 0                                            \n",
            "__________________________________________________________________________________________________\n",
            "input_6 (InputLayer)            [(None, 128, 128, 1) 0                                            \n",
            "__________________________________________________________________________________________________\n",
            "input_7 (InputLayer)            [(None, 128, 128, 1) 0                                            \n",
            "__________________________________________________________________________________________________\n",
            "densenet169 (Functional)        (None, 4, 4, 1664)   12636608    input_5[0][0]                    \n",
            "                                                                 input_6[0][0]                    \n",
            "                                                                 input_7[0][0]                    \n",
            "__________________________________________________________________________________________________\n",
            "flatten_3 (Flatten)             (None, 26624)        0           densenet169[0][0]                \n",
            "__________________________________________________________________________________________________\n",
            "flatten_4 (Flatten)             (None, 26624)        0           densenet169[1][0]                \n",
            "__________________________________________________________________________________________________\n",
            "flatten_5 (Flatten)             (None, 26624)        0           densenet169[2][0]                \n",
            "__________________________________________________________________________________________________\n",
            "concatenate_1 (Concatenate)     (None, 79872)        0           flatten_3[0][0]                  \n",
            "                                                                 flatten_4[0][0]                  \n",
            "                                                                 flatten_5[0][0]                  \n",
            "__________________________________________________________________________________________________\n",
            "dropout_1 (Dropout)             (None, 79872)        0           concatenate_1[0][0]              \n",
            "__________________________________________________________________________________________________\n",
            "dense_1 (Dense)                 (None, 15)           1198095     dropout_1[0][0]                  \n",
            "==================================================================================================\n",
            "Total params: 13,834,703\n",
            "Trainable params: 1,198,095\n",
            "Non-trainable params: 12,636,608\n",
            "__________________________________________________________________________________________________\n"
          ],
          "name": "stdout"
        }
      ]
    },
    {
      "cell_type": "code",
      "metadata": {
        "id": "gZM-_XK3SkXa"
      },
      "source": [
        "model.compile(optimizer=keras.optimizers.Adam(learning_rate=0.01), loss='binary_crossentropy', metrics = keras.metrics.BinaryAccuracy())"
      ],
      "execution_count": null,
      "outputs": []
    },
    {
      "cell_type": "code",
      "metadata": {
        "id": "7leTmt4LSkXa"
      },
      "source": [
        "model.fit([X_train_1st,X_train_2nd,X_train_3rd],y=y_train_ohe,epochs=NUM_EPOCHS,batch_size=100,validation_data= ([X_val_1st,X_val_2nd,X_val_3rd],y_val_ohe))"
      ],
      "execution_count": null,
      "outputs": []
    },
    {
      "cell_type": "code",
      "metadata": {
        "id": "MgKf3n92SkXa"
      },
      "source": [
        "history = model.history.history #use this for plotting loss and accuracy\n",
        "history"
      ],
      "execution_count": null,
      "outputs": []
    },
    {
      "cell_type": "code",
      "metadata": {
        "id": "FMpt4focSkXb"
      },
      "source": [
        "scores = model.evaluate([X_test_1st,X_test_2nd,X_test_3rd],y_test_ohe) #test accuracy and loss plots\n",
        "scores"
      ],
      "execution_count": null,
      "outputs": []
    },
    {
      "cell_type": "code",
      "metadata": {
        "id": "7nDGW7L2SkXb"
      },
      "source": [
        "epochs = range(1,NUM_EPOCHS+1)\n",
        "plt.plot(epochs,np.array(history['binary_accuracy'])*100.00,label = 'train')\n",
        "plt.plot(epochs,np.array(history['val_binary_accuracy'])*100.00,label = 'validation')\n",
        "plt.title(\"Accuracy vs epochs\")"
      ],
      "execution_count": null,
      "outputs": []
    },
    {
      "cell_type": "code",
      "metadata": {
        "id": "_ckJHMTuSkXb"
      },
      "source": [
        "y_pred = model.predict([X_test_1st,X_test_2nd,X_test_3rd])"
      ],
      "execution_count": null,
      "outputs": []
    },
    {
      "cell_type": "code",
      "metadata": {
        "id": "vc-ItAw6SkXc"
      },
      "source": [
        "plot_roc_curve(figsize=(10,10),y_test=y_test_ohe,y_score=y_pred,class_names=list(mapper.keys()))"
      ],
      "execution_count": null,
      "outputs": []
    }
  ]
}